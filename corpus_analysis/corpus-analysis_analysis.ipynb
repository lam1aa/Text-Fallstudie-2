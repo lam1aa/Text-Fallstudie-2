{
 "cells": [
  {
   "cell_type": "markdown",
   "id": "2c7f475b-7af5-4198-a7f1-854c7cd3527e",
   "metadata": {},
   "source": [
    "# 🚀 Korpusanalyse – Textkomplexität berechnen"
   ]
  },
  {
   "cell_type": "markdown",
   "id": "2393c489-f709-447f-83de-4fee27aee929",
   "metadata": {},
   "source": [
    "## Hinweise zur Ausführung des Notebooks\n",
    "Dieses Notebook kann auf unterschiedlichen Levels erarbeitet werden (siehe Abschnitt [\"Technische Voraussetzungen\"](../markdown/introduction_requirements)): \n",
    "1. Book-Only Mode\n",
    "2. Cloud Mode: Dafür auf 🚀 klicken und z.B. in Colab ausführen.\n",
    "3. Local Mode: Dafür auf Herunterladen ↓ klicken und \".ipynb\" wählen.\n",
    "   \n",
    "## Übersicht\n",
    "Im Folgenden wird die Textkomplexität der einzelnen Pressemitteilungen mit der Python-Bibliothek [readability](https://pypi.org/project/readability/) errechnet, für unterschiedliche Zeitabschnitte (Monate, Jahre) zusammengefasst und visualisiert. \n",
    "1. Einlesen des Korpus und der Metadaten\n",
    "2. Errechnen der Komplexitätsmaße"
   ]
  },
  {
   "cell_type": "code",
   "execution_count": null,
   "id": "d3aab470-ab59-4e18-b0b5-60d4815bac55",
   "metadata": {},
   "outputs": [],
   "source": [
    "# import libraries for table processing and for compuation of readability metrics\n",
    "from pathlib import Path\n",
    "from multiprocessing import Pool, cpu_count\n",
    "from functools import partial\n",
    "import requests\n",
    "\n",
    "import pandas as pd\n",
    "import textstat\n",
    "textstat.set_lang(\"de\")"
   ]
  },
  {
   "cell_type": "markdown",
   "id": "11f47f87-aa66-4ca3-ba79-8d2f42a055ed",
   "metadata": {
    "editable": true,
    "slideshow": {
     "slide_type": ""
    },
    "tags": []
   },
   "source": [
    "## 1. Einlesen der Daten und Metadaten\n",
    "Exemplarisch lesen wir einen Text ein und extrahieren die Metadaten des Texts aus der Metadaten-Tabelle, um in einem späteren Schritt das Datum der Veröffentlichung extrahieren zu können, um die Textkomplexität diachron zu analysieren."
   ]
  },
  {
   "cell_type": "markdown",
   "id": "516e2697-e9a8-4d65-bc2f-5b57cef932c2",
   "metadata": {
    "editable": true,
    "slideshow": {
     "slide_type": ""
    },
    "tags": []
   },
   "source": [
    "### Text einlesen"
   ]
  },
  {
   "cell_type": "code",
   "execution_count": null,
   "id": "b91a5e22-acaf-437d-93ac-bf4eb499147d",
   "metadata": {
    "editable": true,
    "slideshow": {
     "slide_type": ""
    },
    "tags": [
     "skip-execution",
     "hide-cell"
    ]
   },
   "outputs": [],
   "source": [
    "# 🚀 Create data directory path\n",
    "corpus_path = Path(r\"../data/txt\")\n",
    "if not corpus_path.exists():\n",
    "    corpus_path.mkdir()"
   ]
  },
  {
   "cell_type": "code",
   "execution_count": null,
   "id": "3635f0a3-6684-4501-8732-e930eae90219",
   "metadata": {
    "editable": true,
    "slideshow": {
     "slide_type": ""
    },
    "tags": [
     "skip-execution",
     "hide-cell"
    ]
   },
   "outputs": [],
   "source": [
    "# 🚀 Load the text file from GitHub \n",
    "! wget https://raw.githubusercontent.com/quadriga-dk/Text-Fallstudie-2/refs/heads/main/data/txt/2011-01-04_id8787.txt -P ../data/txt"
   ]
  },
  {
   "cell_type": "code",
   "execution_count": null,
   "id": "4537e680-8156-4fdd-8c7d-0c6b17c513e0",
   "metadata": {
    "editable": true,
    "slideshow": {
     "slide_type": ""
    },
    "tags": []
   },
   "outputs": [],
   "source": [
    "# set path to text\n",
    "text_path = Path(r\"../data/txt/1000035.txt\")\n",
    "\n",
    "# read text\n",
    "text = text_path.read_text()\n",
    "print(text)"
   ]
  },
  {
   "cell_type": "code",
   "execution_count": null,
   "id": "a5c7e7d2-1aa0-4c8e-9b91-de012efcb33b",
   "metadata": {
    "editable": true,
    "slideshow": {
     "slide_type": ""
    },
    "tags": [
     "skip-execution",
     "hide-cell"
    ]
   },
   "outputs": [],
   "source": [
    "# 🚀 Load the metadata file from GitHub \n",
    "! wget https://raw.githubusercontent.com/quadriga-dk/Text-Fallstudie-2/refs/heads/main/data/metadata.csv -P ../data"
   ]
  },
  {
   "cell_type": "markdown",
   "id": "adebe5ef-3ac4-4eba-ab1d-fb3dd28e199e",
   "metadata": {
    "editable": true,
    "slideshow": {
     "slide_type": ""
    },
    "tags": []
   },
   "source": [
    "### Metadaten einlesen"
   ]
  },
  {
   "cell_type": "code",
   "execution_count": null,
   "id": "7ed6b399-c1cd-4319-941b-6b4ed3157b23",
   "metadata": {
    "editable": true,
    "slideshow": {
     "slide_type": ""
    },
    "tags": []
   },
   "outputs": [],
   "source": [
    "# set path to metadata\n",
    "metadata_path = \"../data/metadata.csv\"\n",
    "\n",
    "# read metadata\n",
    "metadata_df = pd.read_csv(metadata_path, sep=\",\")"
   ]
  },
  {
   "cell_type": "markdown",
   "id": "6f4d0d65-729b-4bf5-8936-7f94a1d9f77a",
   "metadata": {},
   "source": [
    "Ersten fünf Zeilen anzeigen lassen:"
   ]
  },
  {
   "cell_type": "code",
   "execution_count": null,
   "id": "424fb49f-939d-43bc-ba32-e5b00a46b9f7",
   "metadata": {},
   "outputs": [],
   "source": [
    "metadata_df.head()"
   ]
  },
  {
   "cell_type": "markdown",
   "id": "caea6790-1ef2-4dfb-8976-11533fc64160",
   "metadata": {},
   "source": [
    "Metadatum anhand von Dateinamen extrahieren:"
   ]
  },
  {
   "cell_type": "code",
   "execution_count": null,
   "id": "4c42c81b-6d8b-4398-bd39-be2d2d4a2fc4",
   "metadata": {},
   "outputs": [],
   "source": [
    "current_meta_data = metadata_df[metadata_df.filename == text_path.name]\n",
    "current_meta_data"
   ]
  },
  {
   "cell_type": "markdown",
   "id": "0d11521a-432e-4529-8fe6-80266480c873",
   "metadata": {},
   "source": [
    "## 2. Textkomplexität berechnen \n",
    "Im folgenden berechnen wir mittels vier unterschiedlicher Metriken die Textkomplexität. Alle Metriken verwenden für die Berechnung des Komplexitätsscores die durchschnittliche Satzlänge und nehmen unterschiedliche Worteingenschaften dazu. \n",
    "Zuerst verschaffen wir uns einen Überblick über die Texteigenschaften, um die Ergebnisse der Metriken besser bewerten zu können. "
   ]
  },
  {
   "cell_type": "code",
   "execution_count": null,
   "id": "f2ce8382-25fa-4bd9-ae41-5aec21fdfe6a",
   "metadata": {},
   "outputs": [],
   "source": [
    "print(f\"Anzahl an Buchstaben: {textstat.letter_count(text)}\")\n",
    "print(f\"Anzahl an Sätzen: {textstat.sentence_count(text)}\")\n",
    "print(f\"Anzahl an Wörtern: {textstat.lexicon_count(text)}\")\n",
    "print(f\"Durchschnittliche Anzahl an Buchstaben pro Wort: {textstat.avg_character_per_word(text)}\")\n",
    "print(f\"Durchschnittliche Anzahl an Silben pro Wort: {textstat.avg_syllables_per_word(text)}\")\n",
    "print(f\"Durchschnittliche Satzlänge: {textstat.avg_sentence_length(text)}\")\n",
    "print(f\"Anzahl an Wörtern mit drei oder mehr Silben: {textstat.polysyllabcount(text)}\")\n",
    "print(f\"Anzahl an langen Wörtern: {textstat.long_word_count(text)}\")"
   ]
  },
  {
   "cell_type": "markdown",
   "id": "c304e26f-98d5-4149-9f15-51877f6cdd5f",
   "metadata": {},
   "source": [
    "### 2.1 Flesch \n",
    "Berechnung:\n",
    "`180 - SL - (58,5 × ASW)` \\\n",
    "SL = Durchschnittliche Satzlänge (Anzahl der Wörter geteilt durch Anzahl der Sätze) \\\n",
    "ASW = Durchschnittliche Silbenzahl pro Wort (Anzahl der Silben geteilt durch Anzahl der Wörter) \\\n",
    "\n",
    "Interpretation: 0 (sehr schwierig) bis 100 (sehr leicht)\n",
    "\n",
    "\n"
   ]
  },
  {
   "cell_type": "code",
   "execution_count": null,
   "id": "823b7d82-4ead-4475-9743-7733185f3d9a",
   "metadata": {},
   "outputs": [],
   "source": [
    "textstat.flesch_reading_ease(text)"
   ]
  },
  {
   "cell_type": "markdown",
   "id": "1650e5df-d9ba-4561-8e4e-fbb79727476e",
   "metadata": {},
   "source": [
    "Ein Score zwischen 30 und 50 gibt eine hohe Schwierigkeit an, ungefährt äquivalent zum Niveau von Bachelorstudierenden."
   ]
  },
  {
   "cell_type": "markdown",
   "id": "60c7082e-c860-41f9-bd7f-f86f4f148782",
   "metadata": {},
   "source": [
    "### 2.2 Wiener Sachtextformel\n",
    "Berechnung: `(0,2007 × MS) + (0,1682 × ASL) + (0,1373 × IW) - 2,779`\n",
    "\n",
    "MS = Prozentsatz der Wörter mit drei oder mehr Silben \\\n",
    "SL = Durchschnittliche Satzlänge (Anzahl der Wörter geteilt durch Anzahl der Sätze) \\\n",
    "IW = Anzahl an langen Wörtern (länger als sechs Buchstaben) \\\n",
    "\n",
    "4 (leicht) bis 15 (schwierig), orientiert an Schulklassen\n"
   ]
  },
  {
   "cell_type": "code",
   "execution_count": null,
   "id": "8ceedaab-4ffd-4c4a-acf3-d2276dca3f76",
   "metadata": {},
   "outputs": [],
   "source": [
    "textstat.wiener_sachtextformel(text, variant=2)"
   ]
  },
  {
   "cell_type": "markdown",
   "id": "0d66a162-4606-4133-906f-4b5fd2ffdd43",
   "metadata": {},
   "source": [
    "Die aufs Deutsche ausgelegte Wiener Sachtextformel stuft den Text auch als schwierig ein, etwa auf das Niveau der zwölften Klasse. "
   ]
  },
  {
   "cell_type": "markdown",
   "id": "c33b4ab7-a456-4141-a8ed-d5f0e42680dc",
   "metadata": {},
   "source": [
    "### 2.3 Automated Readability Index (ARI)\n",
    "Berechnung: 4,71 × WL + 0,5 × SL - 21,43\n",
    "\n",
    "WL: Durchschnittliche Wortlänge in Buchstaben (Anzahl der Zeichen geteilt durch Anzahl der Wörter) \\\n",
    "SL: Durchschnittliche Satzlänge (Anzahl der Wörter geteilt durch Anzahl der Sätze) \\\n",
    "\n",
    "1 (sehr leicht) bis 14 (schwierig), orientiert an Schulklassen"
   ]
  },
  {
   "cell_type": "code",
   "execution_count": null,
   "id": "8c330cf8-148f-4d2b-a895-1f694059a362",
   "metadata": {},
   "outputs": [],
   "source": [
    "textstat.automated_readability_index(text)"
   ]
  },
  {
   "cell_type": "markdown",
   "id": "c3e75deb-f624-4c14-998a-0b218bb48032",
   "metadata": {},
   "source": [
    "Laut dem ARI wird der Text als äußerst schwieriger eingestuft und ist mit einem Score über 14 außerhalb der festgelegten Skala."
   ]
  },
  {
   "cell_type": "markdown",
   "id": "e8e1d497-e8a2-46b4-83c7-870b7ae01f0b",
   "metadata": {},
   "source": [
    "### 2.4 Coleman-Liau Index\n",
    "Berechnung: `0,0588 × L - 0,296 × S - 15,8`\n",
    "\n",
    "\n",
    "\n",
    "L = Durchschnittliche Anzahl von Buchstaben pro 100 Wörter \\\n",
    "S = Durchschnittliche Anzahl von Sätzen pro 100 Wörter \\\n",
    "\n",
    "Interpretation: 1 (sehr leicht) bis 14 (schwierig), orientiert an Schulklassen\n"
   ]
  },
  {
   "cell_type": "code",
   "execution_count": null,
   "id": "c58b0dec-bffb-429f-b978-78a995b53d76",
   "metadata": {},
   "outputs": [],
   "source": [
    "textstat.coleman_liau_index(text)"
   ]
  },
  {
   "cell_type": "markdown",
   "id": "d18bc12c-99be-4c2a-953f-aa0524ce7b17",
   "metadata": {},
   "source": [
    "Wie bei ARI liegt auch beim Coleman-Liau Index der Index außerhalb der angedachten Skala und ist somit als sehr schwierig zu beurteilen."
   ]
  },
  {
   "cell_type": "markdown",
   "id": "37102c58-d2a9-4cee-9bbd-03bac35d91e0",
   "metadata": {},
   "source": [
    "## 3. Berechnung auf dem gesamten Korpus "
   ]
  },
  {
   "cell_type": "code",
   "execution_count": null,
   "id": "21f2f710-a44c-4df2-b398-1c45a6256936",
   "metadata": {
    "editable": true,
    "slideshow": {
     "slide_type": ""
    },
    "tags": [
     "skip-execution",
     "hide-cell"
    ]
   },
   "outputs": [],
   "source": [
    "# 🚀 Create download list \n",
    "github_api_txt_dir_path = \"https://github.com/quadriga-dk/Text-Fallstudie-2/tree/main/data/txt\"\n",
    "txt_dir_info = requests.get(github_api_txt_dir_path).json()\n",
    "url_list = [entry[\"download_url\"] for entry in txt_dir_info]\n",
    "\n",
    "# 🚀 Write download list as txt file\n",
    "url_list_path = Path(\"github_txt_file_urls.txt\")\n",
    "with url_list_path.open('w') as output_txt:\n",
    "    output_txt.write(\"\\n\".join(url_list))"
   ]
  },
  {
   "cell_type": "code",
   "execution_count": null,
   "id": "c680c544-5a1a-460e-a159-b983627d70b3",
   "metadata": {
    "editable": true,
    "slideshow": {
     "slide_type": ""
    },
    "tags": [
     "skip-execution",
     "hide-cell"
    ]
   },
   "outputs": [],
   "source": [
    "# ⚠️ Only execute, if you haven't downloaded the files yet!\n",
    "# 🚀 Download all txt files – this step will take a while\n",
    "! wget -i github_txt_file_urls.txt -P ../data/txt"
   ]
  },
  {
   "cell_type": "markdown",
   "id": "c0ae56ef-c37c-4807-911d-1469da9f9fd9",
   "metadata": {},
   "source": [
    "Setzen des Pfads zum Korpus-Ordner:"
   ]
  },
  {
   "cell_type": "code",
   "execution_count": null,
   "id": "1ecb876f-b81c-4394-b659-a55843dd6a5a",
   "metadata": {
    "editable": true,
    "slideshow": {
     "slide_type": ""
    },
    "tags": []
   },
   "outputs": [],
   "source": [
    "corpus_path = Path(r\"../data/txt/\")"
   ]
  },
  {
   "cell_type": "markdown",
   "id": "839b4201-40fb-4fcc-a8e4-4f3a2260c0d4",
   "metadata": {},
   "source": [
    "Korpus einlesen:"
   ]
  },
  {
   "cell_type": "code",
   "execution_count": null,
   "id": "fd12362c-dc64-4e41-a9b8-19ef607e588e",
   "metadata": {
    "editable": true,
    "slideshow": {
     "slide_type": ""
    },
    "tags": [
     "skip-execution",
     "hide-output"
    ]
   },
   "outputs": [],
   "source": [
    "# Create dictionary to save the filenames and the text\n",
    "corpus = {\"filename\":[], \"text\":[]}\n",
    "\n",
    "# Iterate corpus directory, read text, save filename and text to corpus dict\n",
    "for fp in corpus_path.iterdir():\n",
    "    if fp.is_file():\n",
    "        corpus[\"filename\"].append(fp.name)\n",
    "        corpus[\"text\"].append(fp.read_text())"
   ]
  },
  {
   "cell_type": "markdown",
   "id": "a9aaef62-ffe7-4f41-966f-e4529457f8e1",
   "metadata": {},
   "source": [
    "Scores pro Text berechnen:"
   ]
  },
  {
   "cell_type": "code",
   "execution_count": null,
   "id": "b65e75f8-1c7c-47bf-aa50-7e7490b08641",
   "metadata": {
    "editable": true,
    "slideshow": {
     "slide_type": ""
    },
    "tags": [
     "skip-execution",
     "hide-output"
    ]
   },
   "outputs": [],
   "source": [
    "readability_scores = {}\n",
    "\n",
    "# for speed, we use multiprocessing for computing the scores \n",
    "with Pool(cpu_count()) as p:\n",
    "    readability_scores[\"Flesch\"] = p.map(textstat.flesch_reading_ease, corpus[\"text\"])\n",
    "    readability_scores[\"Wiener_Sachtextformel\"] = p.map(partial(textstat.wiener_sachtextformel, variant=1), corpus[\"text\"])\n",
    "    readability_scores[\"ARI\"] = p.map(textstat.automated_readability_index, corpus[\"text\"])\n",
    "    readability_scores[\"Coleman_Liau\"] = p.map(textstat.coleman_liau_index, corpus[\"text\"])\n",
    "\n",
    "# add scores to corpus dictionary\n",
    "for measure, score in readability_scores.items():\n",
    "    corpus[measure] = score\n",
    "\n",
    "# transform to DataFrame\n",
    "corpus_df = pd.DataFrame(corpus)\n",
    "corpus_df.head()"
   ]
  },
  {
   "cell_type": "markdown",
   "id": "2b0f5732-edf6-4852-ab6c-14ff5bb1990e",
   "metadata": {},
   "source": [
    "## 4. Zusammenfügen der Scores mit den Metadaten \n",
    "Korpusdaten mit dem Metadaten zusammenfügen. Die Einträge werden über den Dateinamen einander zugeordnet."
   ]
  },
  {
   "cell_type": "code",
   "execution_count": null,
   "id": "8ecf7135-16dd-4b94-8f68-78a7e88aa28c",
   "metadata": {
    "editable": true,
    "slideshow": {
     "slide_type": ""
    },
    "tags": [
     "skip-execution",
     "hide-output"
    ]
   },
   "outputs": [],
   "source": [
    "metadata_df = metadata_df.merge(corpus_df)\n",
    "metadata_df.head()"
   ]
  },
  {
   "cell_type": "markdown",
   "id": "22ba807a-9533-4ad4-b1cc-26d19fd54d9f",
   "metadata": {},
   "source": [
    "## 5. Ergebnis speichern  "
   ]
  },
  {
   "cell_type": "code",
   "execution_count": null,
   "id": "d92a048a-1dbc-4386-95a1-2f5e6105523d",
   "metadata": {
    "editable": true,
    "slideshow": {
     "slide_type": ""
    },
    "tags": [
     "skip-execution",
     "hide-output"
    ]
   },
   "outputs": [],
   "source": [
    "# 🚀 Create result directory path\n",
    "result_path = Path(r\"../results\")\n",
    "if not result_path.exists():\n",
    "    result_path.mkdir()"
   ]
  },
  {
   "cell_type": "code",
   "execution_count": null,
   "id": "f15420e5-fe38-4d22-9db6-b8efc69cdad8",
   "metadata": {
    "editable": true,
    "slideshow": {
     "slide_type": ""
    },
    "tags": [
     "skip-execution",
     "hide-output"
    ]
   },
   "outputs": [],
   "source": [
    "result_path = Path(r\"../results\")\n",
    "metadata_df.to_csv(result_path / \"metadata_with_readability_scores.csv\", index=False)"
   ]
  }
 ],
 "metadata": {
  "kernelspec": {
   "display_name": "Python 3 (ipykernel)",
   "language": "python",
   "name": "python3"
  },
  "language_info": {
   "codemirror_mode": {
    "name": "ipython",
    "version": 3
   },
   "file_extension": ".py",
   "mimetype": "text/x-python",
   "name": "python",
   "nbconvert_exporter": "python",
   "pygments_lexer": "ipython3",
   "version": "3.12.8"
  }
 },
 "nbformat": 4,
 "nbformat_minor": 5
}
