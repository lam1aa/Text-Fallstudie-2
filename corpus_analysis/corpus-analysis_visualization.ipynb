{
 "cells": [
  {
   "cell_type": "markdown",
   "id": "f9a69fbe-87d1-4602-b4ad-89a8248e27de",
   "metadata": {},
   "source": [
    "# 🚀 Korpusanalyse – Visualisierung der Textkomplexität"
   ]
  },
  {
   "cell_type": "markdown",
   "id": "1c87b24e-2a0e-46df-bd3c-3a57d0940830",
   "metadata": {},
   "source": [
    "<div class=\"alert alert-block alert-info\"> <b> 🔔 Feinlernziel(e) dieses Kapitels</b></br>\n",
    "   Sie können die Konzeption der Analyse beschreiben und andere Möglichkeiten des Korpus-Splitting entwerfen. </br>\n",
    "    Sie können das Konzept eines Balkendiagramms erklären und das erstellte Diagramm interpretieren sowie die Gründe für Ihre Interpretation nennen.\n",
    "\n",
    "</div>"
   ]
  },
  {
   "cell_type": "markdown",
   "id": "90be2979-44f4-4b9d-851c-d855755d24f5",
   "metadata": {},
   "source": [
    "## Hinweise zur Ausführung des Notebooks\n",
    "Dieses Notebook kann auf unterschiedlichen Levels erarbeitet werden (siehe Abschnitt [\"Technische Voraussetzungen\"](../markdown/introduction_requirements)): \n",
    "1. Book-Only Mode\n",
    "2. Cloud Mode: Dafür auf 🚀 klicken und z.B. in Colab ausführen.\n",
    "3. Local Mode: Dafür auf Herunterladen ↓ klicken und \".ipynb\" wählen. \n",
    "\n",
    "## Übersicht\n",
    "Im Folgenden wird die Textkomplexität der einzelnen Pressemitteilungen für unterschiedliche Zeitabschnitte (Monate, Jahre) zusammengefasst und visualisiert. \n",
    "1. Einlesen der Tabelle mit den Textkomplexitätsscores\n",
    "2. Zusammenfassung für Zeitabschnitte\n",
    "3. Ergebnisse in einem Liniendiagramm visualisieren"
   ]
  },
  {
   "cell_type": "markdown",
   "id": "e0ddd57a-2882-41de-aa3d-babf3fa674dd",
   "metadata": {},
   "source": [
    "<details>\n",
    "  <summary><b>Informationen zum Ausführen des Notebooks – Zum Ausklappen klicken ⬇️</b></summary>\n",
    "  \n",
    "<b>Voraussetzungen zur Ausführung des Jupyter Notebooks</b>\n",
    "<ol>\n",
    "<li> Installieren der Bibliotheken </li>\n",
    "<li>2. Laden der Daten (z.B. über den Command `wget` (s.u.))</li>\n",
    "<li>3. Pfad zu den Daten setzen</li>\n",
    "</ol>\n",
    "Zum Testen: Ausführen der Zelle \"load libraries\" und der Sektion \"Einlesen des Korpus\". </br>\n",
    "Alle Zellen, die mit 🚀 gekennzeichnet sind, werden nur bei der Ausführung des Noteboos in Colab / JupyterHub bzw. lokal ausgeführt. \n",
    "</details>"
   ]
  },
  {
   "cell_type": "code",
   "execution_count": null,
   "id": "8e658281-233d-4291-97ed-9afa713ab0bf",
   "metadata": {
    "editable": true,
    "slideshow": {
     "slide_type": ""
    },
    "tags": [
     "skip-execution",
     "hide-cell"
    ]
   },
   "outputs": [],
   "source": [
    "# 🚀 Install libraries\n",
    "! pip install pandas matplotlib bokeh"
   ]
  },
  {
   "cell_type": "code",
   "execution_count": null,
   "id": "79a39412-bdbd-45cb-a5d2-86f94105e8a4",
   "metadata": {
    "editable": true,
    "slideshow": {
     "slide_type": ""
    },
    "tags": [
     "hide-cell",
     "hide-output"
    ]
   },
   "outputs": [],
   "source": [
    "# import libraries for table processing and for compuation of readability metrics\n",
    "from pathlib import Path\n",
    "\n",
    "import pandas as pd\n",
    "import matplotlib.pyplot as plt\n",
    "\n",
    "from bokeh.io import output_notebook, show\n",
    "from bokeh.plotting import figure\n",
    "from bokeh.layouts import column, row, layout\n",
    "from bokeh.models import ColumnDataSource, CustomJS, TextInput, Div, RadioButtonGroup, Switch, TableColumn, DataTable\n",
    "# Ensure Bokeh output is displayed in the notebook\n",
    "output_notebook()"
   ]
  },
  {
   "cell_type": "markdown",
   "id": "0606f3ba-a80a-4a9f-9399-e063578c3164",
   "metadata": {
    "editable": true,
    "slideshow": {
     "slide_type": ""
    },
    "tags": []
   },
   "source": [
    "## Einlesen der Textkomplexitätsscores"
   ]
  },
  {
   "cell_type": "markdown",
   "id": "4be4149d-d21d-477e-940c-d059aef3b007",
   "metadata": {},
   "source": [
    "<details>\n",
    "  <summary><b>Informationen zum Ausführen des Notebooks – Zum Ausklappen klicken ⬇️</b></summary>\n",
    "Zuerst wird der Ordner angelegt, in dem die Textdateien gespeichert werden. Der Einfachheit halber wird die gleich Datenablagestruktur wie in dem <a href=\"https://github.com/dh-network/quadriga/tree/main\">GitHub Repository</a>, in dem die Daten gespeichert sind, vorausgesetzt. </br>\n",
    "Der Text wird aus GitHub heruntergeladen und in dem Ordner <i>../data/txt/</i> abgespeichert. </br>\n",
    "Der Pfad kann in der Variable <i>text_path</i> angepasst werden. Die einzulesenden Daten müssen die Endung `.txt` haben. </br>\n",
    "</details>"
   ]
  },
  {
   "cell_type": "code",
   "execution_count": null,
   "id": "a8ef6bd6-cd83-45fe-ad96-d90267c12d9e",
   "metadata": {},
   "outputs": [],
   "source": [
    "# 🚀 Create result directory path\n",
    "result_dir = Path(r\"../results\")\n",
    "if not result_dir.exists():\n",
    "    result_dir.mkdir()"
   ]
  },
  {
   "cell_type": "code",
   "execution_count": null,
   "id": "010e6e62-448d-439c-adf7-04ccc3362b2e",
   "metadata": {},
   "outputs": [],
   "source": [
    "# 🚀 Load the results file from GitHub \n",
    "! wget https://media.githubusercontent.com/media/quadriga-dk/Text-Fallstudie-2/refs/heads/main/results/metadata_with_readability_scores.csv -P ../results/"
   ]
  },
  {
   "cell_type": "code",
   "execution_count": null,
   "id": "017acba9-ee2e-4204-97d2-dc712b320212",
   "metadata": {},
   "outputs": [],
   "source": [
    "result_path = result_dir / r\"metadata_with_readability_scores.csv\""
   ]
  },
  {
   "cell_type": "code",
   "execution_count": null,
   "id": "b66185b9-adc9-413a-99f7-970335aba070",
   "metadata": {},
   "outputs": [],
   "source": [
    "result_df = pd.read_csv(result_path)\n",
    "\n",
    "# Convert date to datetime\n",
    "result_df['date'] = pd.to_datetime(result_df['date'], dayfirst=True)"
   ]
  },
  {
   "cell_type": "markdown",
   "id": "ffe82c02-20c5-4d96-9691-bb8f52c13e28",
   "metadata": {},
   "source": [
    "Die Anzahl der Einträge anzeigen lassen:"
   ]
  },
  {
   "cell_type": "code",
   "execution_count": null,
   "id": "e36aec62-ea54-45a6-a498-6a51fc830170",
   "metadata": {},
   "outputs": [],
   "source": [
    "len(result_df)"
   ]
  },
  {
   "cell_type": "markdown",
   "id": "09fde2fa-5cd4-4962-94ab-cea5325c1206",
   "metadata": {},
   "source": [
    "Erste 100 Zeilen der Daten angucken:"
   ]
  },
  {
   "cell_type": "code",
   "execution_count": null,
   "id": "81c8d725-859a-4aa5-8987-1f0f99c66a8b",
   "metadata": {
    "editable": true,
    "slideshow": {
     "slide_type": ""
    },
    "tags": []
   },
   "outputs": [],
   "source": [
    "# Too slow if done with entire data frame\n",
    "\n",
    "# Convert DataFrame to ColumnDataSource\n",
    "source = ColumnDataSource(result_df[:100])\n",
    "        \n",
    "# Create Table Columns\n",
    "columns = [TableColumn(field=col, title=col) for col in result_df.head().columns]\n",
    "\n",
    "# Create DataTable\n",
    "data_table = DataTable(source=source, columns=columns)\n",
    "\n",
    "# Display DataTable\n",
    "output_notebook()  # Use this to render in Jupyter Notebook\n",
    "show(layout([data_table]))"
   ]
  },
  {
   "cell_type": "markdown",
   "id": "374f69fb-c6b3-4fa5-84f0-b8b8d51c0e4b",
   "metadata": {
    "editable": true,
    "slideshow": {
     "slide_type": ""
    },
    "tags": []
   },
   "source": [
    "## Analyse\n",
    "\n",
    "__ Show Max und Min-Werte --> can be done with dataframe__ ?\n",
    "* stimmen die Metriken bei der Bestimmung von Max und Min-Werten überein?\n",
    "* Anzeigen der Sätze? "
   ]
  },
  {
   "cell_type": "markdown",
   "id": "6565fcd6-c8c3-40a3-b388-491cec68f28b",
   "metadata": {},
   "source": [
    "### Übersicht über die Daten erhalten"
   ]
  },
  {
   "cell_type": "markdown",
   "id": "f0f8dbeb-8569-4420-b161-41a2a780043e",
   "metadata": {},
   "source": [
    "Wie viele Pressemitteilungen gab es pro Jahr?"
   ]
  },
  {
   "cell_type": "code",
   "execution_count": null,
   "id": "8ddc57a3-90a8-4bbe-b7eb-bde551ffc88c",
   "metadata": {},
   "outputs": [],
   "source": [
    "result_df.groupby(pd.PeriodIndex(result_df['date'], freq=\"Y\"))['n_tokens'].count().plot(kind=\"bar\")"
   ]
  },
  {
   "cell_type": "markdown",
   "id": "8c6a404a-5e7b-4a0a-8eb2-50f060f1c2c1",
   "metadata": {},
   "source": [
    "Wie lang sind die Pressemitteilungen im Schnitt in Wörtern?"
   ]
  },
  {
   "cell_type": "code",
   "execution_count": null,
   "id": "934000fc-733e-4769-9f8d-64bb32c14fce",
   "metadata": {},
   "outputs": [],
   "source": [
    "result_df.groupby(pd.PeriodIndex(result_df['date'], freq=\"Y\"))['n_tokens'].mean().plot(kind=\"bar\")"
   ]
  },
  {
   "cell_type": "markdown",
   "id": "2ce491a3-8fd8-4411-ae00-ff36d6c03776",
   "metadata": {},
   "source": [
    "Wie viele Mitteilungen aus welcher Kategorie sind vorhanden?\n",
    "Da die Anzahl der Kategorien hoch ist, zeigen wir nur die Kategorien, die mit 100 Mitteilungen oder mehr vertreten sind."
   ]
  },
  {
   "cell_type": "code",
   "execution_count": null,
   "id": "61ae3748-929a-493f-b8b6-eab088894e2b",
   "metadata": {},
   "outputs": [],
   "source": [
    "counts = result_df['source'].value_counts()\n",
    "counts[counts > 100].plot(kind=\"bar\")"
   ]
  },
  {
   "cell_type": "markdown",
   "id": "ae319ab2-0bff-4522-b172-017baa9a2e86",
   "metadata": {},
   "source": [
    "### Extrahieren von schwierigsten und einfachsten Texten"
   ]
  },
  {
   "cell_type": "code",
   "execution_count": null,
   "id": "2f69dc61-fee5-45fb-970d-c1cd449ee7f6",
   "metadata": {},
   "outputs": [],
   "source": [
    "metrics = [\"Flesch\", \"ARI\", \"Coleman_Liau\", \"Wiener_Sachtextformel\"]"
   ]
  },
  {
   "cell_type": "code",
   "execution_count": null,
   "id": "4795da68-d194-48a4-a373-e9c1c6099fa4",
   "metadata": {},
   "outputs": [],
   "source": [
    "# TODO: prettify\n",
    "for metric in metrics:\n",
    "    print(metric)\n",
    "    if metric == \"Flesch\":\n",
    "        print(f\"Schwierigster Text: {result_df[result_df[metric] == result_df[metric].min()]['id']}\")\n",
    "        print(f\"Leichester Text: {result_df[result_df[metric] == result_df[metric].max()]['id']}\\n\")\n",
    "    else:\n",
    "        print(f\"Schwierigster Text: {result_df[result_df[metric] == result_df[metric].max()]['id']}\")\n",
    "        print(f\"Leichester Text: {result_df[result_df[metric] == result_df[metric].min()]['id']}\\n\")"
   ]
  },
  {
   "cell_type": "markdown",
   "id": "86bce25c-71ae-493d-bc7c-36cec0d4269f",
   "metadata": {},
   "source": [
    "Wie zu sehen ist, überschneiden sich die Metriken in Bezug auf die Extremwerte (niedrigster und höchster Wert) nicht."
   ]
  },
  {
   "cell_type": "markdown",
   "id": "ebb90802-d3ea-42f1-b9d2-4c6cd47a1c14",
   "metadata": {
    "editable": true,
    "slideshow": {
     "slide_type": ""
    },
    "tags": []
   },
   "source": [
    "## Entwicklung über Zeit \n",
    "* Vergleich der Metriken-Entwicklung über die Jahre "
   ]
  },
  {
   "cell_type": "code",
   "execution_count": null,
   "id": "546547ac-1d2c-447a-aad8-8999fddae92f",
   "metadata": {
    "editable": true,
    "slideshow": {
     "slide_type": ""
    },
    "tags": []
   },
   "outputs": [],
   "source": [
    "metric_mean_year_df = result_df.groupby(pd.PeriodIndex(result_df['date'], freq=\"Y\"))[metrics].mean()"
   ]
  },
  {
   "cell_type": "code",
   "execution_count": null,
   "id": "e67b2072-caeb-4773-a62b-55d3ebf6ab14",
   "metadata": {
    "editable": true,
    "slideshow": {
     "slide_type": ""
    },
    "tags": []
   },
   "outputs": [],
   "source": [
    "metric_mean_year_df.plot()"
   ]
  },
  {
   "cell_type": "code",
   "execution_count": null,
   "id": "c5d80fe8-10bc-4538-96a4-32a0cd8bdc8a",
   "metadata": {
    "editable": true,
    "slideshow": {
     "slide_type": ""
    },
    "tags": []
   },
   "outputs": [],
   "source": [
    "# Create subplots -- attention, they don't start with 0!\n",
    "fig, axes = plt.subplots(nrows=2, ncols=2, figsize=(12, 12))\n",
    "axes = axes.flatten()\n",
    "for i, col in enumerate(metrics):\n",
    "    axes[i].plot(metric_mean_year_df.index.year, metric_mean_year_df[col], marker='o', label=col)\n",
    "    axes[i].set_title(f'{col}')\n",
    "    axes[i].set_xlabel('Jahre')\n",
    "    axes[i].set_ylabel(col)\n",
    "    axes[i].legend()\n",
    "    axes[i].grid(True)\n",
    "\n",
    "plt.tight_layout()  # Adjust layout to prevent overlap\n",
    "plt.show()"
   ]
  },
  {
   "cell_type": "markdown",
   "id": "e0f8c7b9-389e-49c0-b076-28b5161c997b",
   "metadata": {
    "editable": true,
    "slideshow": {
     "slide_type": ""
    },
    "tags": []
   },
   "source": [
    "### 3.2 Interaktive Analysedaten vorbereiten\n",
    "Wir wollen die Daten nun nach den Parametern der Metrik und der Granularität der Zeitschiene einteilen."
   ]
  },
  {
   "cell_type": "code",
   "execution_count": null,
   "id": "31a19932-6ca0-4d2a-be78-d86f450483c1",
   "metadata": {
    "editable": true,
    "slideshow": {
     "slide_type": ""
    },
    "tags": []
   },
   "outputs": [],
   "source": [
    "columns_to_keep = []\n",
    "columns_to_keep.extend(metrics)\n",
    "columns_to_keep.append(\"date\")\n",
    "print(columns_to_keep)"
   ]
  },
  {
   "cell_type": "code",
   "execution_count": null,
   "id": "4b808954-91d4-4ccb-9bdf-42a49abdd31c",
   "metadata": {
    "editable": true,
    "slideshow": {
     "slide_type": ""
    },
    "tags": []
   },
   "outputs": [],
   "source": [
    "results_filtered = result_df[columns_to_keep]"
   ]
  },
  {
   "cell_type": "code",
   "execution_count": null,
   "id": "ca822456-d2b8-4045-b93e-4a32afd7d5dd",
   "metadata": {
    "editable": true,
    "slideshow": {
     "slide_type": ""
    },
    "tags": []
   },
   "outputs": [],
   "source": [
    "def plot_with_js(results_filtered_df: pd.DataFrame) -> None:\n",
    "    \"\"\" \n",
    "    :param pd.DataFrame merged_df: The merged dataframe of all annotations\n",
    "    \"\"\"\n",
    "    frequency_parameters = [\"Y\", \"M\", \"W-MON\"]\n",
    "    \n",
    "    metrics_to_time_frame = {}\n",
    "    for metric in metrics:\n",
    "        metrics_to_time_frame[metric] = {}\n",
    "        for option in frequency_parameters:\n",
    "            result = results_filtered.groupby(pd.PeriodIndex(results_filtered['date'], freq=option))[metric].mean()\n",
    "            metrics_to_time_frame[metric][option] = {\"x\": result.index.to_timestamp(), \"y\": result.values}\n",
    "    \n",
    "    # Set year as default for the plot\n",
    "    line_source = ColumnDataSource(data=metrics_to_time_frame[\"Flesch\"][\"Y\"])\n",
    "\n",
    "    # Create a plot\n",
    "    p = figure(title=f\"Lesbarkeitsmaß\", x_axis_type=\"datetime\", x_axis_label='Zeit', \n",
    "               y_axis_label='Durschnittlicher Score', width=700, height=400)\n",
    "    line = p.line('x', 'y', source=line_source, line_width=2, color='blue')\n",
    "\n",
    "    # RadioButtonGroup to select mode\n",
    "    radio_button_group_time = RadioButtonGroup(labels=[\"Yearly\", \"Monthly\", \"Weekly\"], active=0)\n",
    "    radio_button_group_metric = RadioButtonGroup(labels=[\"Flesch\", \"ARI\", \"Coleman_Liau\", \"Wiener_Sachtextformel\"], active=0)\n",
    "\n",
    "\n",
    "    # Callback to update the data based on selected mode\n",
    "    callback = CustomJS(\n",
    "        args=dict(\n",
    "            line=line,\n",
    "            sources=metrics_to_time_frame,\n",
    "            radio_button_group_time=radio_button_group_time,\n",
    "            radio_button_group_metric=radio_button_group_metric\n",
    "        ),\n",
    "        code=\"\"\"                \n",
    "        // Access the value of the switch\n",
    "        // const sources = switch_element.active ? relative_sources : absolute_sources;\n",
    "\n",
    "        // Access the value of the RadioButtonGroup Time\n",
    "        const mode = radio_button_group_time.active;\n",
    "        \n",
    "        // Access the value of the RadioButtonGroup\n",
    "        const base = radio_button_group_metric.active;\n",
    "    \n",
    "        // Retrieve the selected frequency\n",
    "        const freq = [\"Y\", \"M\", \"W-MON\"][mode];\n",
    "\n",
    "        // Retrieve the selected metric\n",
    "        const metric = [\"Flesch\", \"ARI\", \"Coleman_Liau\", \"Wiener_Sachtextformel\"][base];\n",
    "    \n",
    "        // update data source and emit change event\n",
    "        line.data_source.data = sources[metric][freq];\n",
    "        line.data_source.change.emit();\n",
    "    \"\"\",\n",
    "    )\n",
    "\n",
    "    # Attach the callback to both widgets\n",
    "    radio_button_group_time.js_on_change('active', callback)\n",
    "    radio_button_group_metric.js_on_change('active', callback)\n",
    "\n",
    "    # Layout the RadioButtonGroup and plot\n",
    "    layout = column(row(radio_button_group_metric, radio_button_group_time), p)\n",
    "    show(layout)"
   ]
  },
  {
   "cell_type": "code",
   "execution_count": null,
   "id": "72f26f29-7c11-4648-97b5-d60ee5fec934",
   "metadata": {
    "editable": true,
    "slideshow": {
     "slide_type": ""
    },
    "tags": []
   },
   "outputs": [],
   "source": [
    "# not interactive yet, updating needs to be fixed\n",
    "plot_with_js(result_df)"
   ]
  }
 ],
 "metadata": {
  "kernelspec": {
   "display_name": "Python 3 (ipykernel)",
   "language": "python",
   "name": "python3"
  },
  "language_info": {
   "codemirror_mode": {
    "name": "ipython",
    "version": 3
   },
   "file_extension": ".py",
   "mimetype": "text/x-python",
   "name": "python",
   "nbconvert_exporter": "python",
   "pygments_lexer": "ipython3",
   "version": "3.12.8"
  }
 },
 "nbformat": 4,
 "nbformat_minor": 5
}
