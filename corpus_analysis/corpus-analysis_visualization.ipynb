{
 "cells": [
  {
   "cell_type": "markdown",
   "id": "f9a69fbe-87d1-4602-b4ad-89a8248e27de",
   "metadata": {},
   "source": [
    "# 🚀 Korpusanalyse – Visualisierung der Textkomplexität"
   ]
  },
  {
   "cell_type": "markdown",
   "id": "1c87b24e-2a0e-46df-bd3c-3a57d0940830",
   "metadata": {},
   "source": [
    "<div class=\"alert alert-block alert-info\"> <b> 🔔 Feinlernziel(e) dieses Kapitels</b></br>\n",
    "   Sie können die Konzeption der Analyse beschreiben und andere Möglichkeiten des Korpus-Splitting entwerfen. </br>\n",
    "    Sie können das Konzept eines Balkendiagramms erklären und das erstellte Diagramm interpretieren sowie die Gründe für Ihre Interpretation nennen.\n",
    "\n",
    "</div>"
   ]
  },
  {
   "cell_type": "markdown",
   "id": "90be2979-44f4-4b9d-851c-d855755d24f5",
   "metadata": {},
   "source": [
    "## Hinweise zur Ausführung des Notebooks\n",
    "Dieses Notebook kann auf unterschiedlichen Levels erarbeitet werden (siehe Abschnitt [\"Technische Voraussetzungen\"](../introduction/introduction_requirements)): \n",
    "1. Book-Only Mode\n",
    "2. Cloud Mode: Dafür auf 🚀 klicken und z.B. in Colab ausführen.\n",
    "3. Local Mode: Dafür auf Herunterladen ↓ klicken und \".ipynb\" wählen. \n",
    "\n",
    "## Übersicht\n",
    "Im Folgenden wird die Textkomplexität der einzelnen Pressemitteilungen für unterschiedliche Zeitabschnitte (Monate, Jahre) zusammengefasst und visualisiert. \n",
    "1. Einlesen der Tabelle mit den Textkomplexitätsscores\n",
    "2. Zusammenfassung für Zeitabschnitte\n",
    "3. Ergebnisse in einem Liniendiagramm visualisieren"
   ]
  },
  {
   "cell_type": "markdown",
   "id": "e0ddd57a-2882-41de-aa3d-babf3fa674dd",
   "metadata": {},
   "source": [
    "<details>\n",
    "  <summary><b>Informationen zum Ausführen des Notebooks – Zum Ausklappen klicken ⬇️</b></summary>\n",
    "  \n",
    "<b>Voraussetzungen zur Ausführung des Jupyter Notebooks</b>\n",
    "<ol>\n",
    "<li> Installieren der Bibliotheken </li>\n",
    "<li>2. Laden der Daten (z.B. über den Command `wget` (s.u.))</li>\n",
    "<li>3. Pfad zu den Daten setzen</li>\n",
    "</ol>\n",
    "Zum Testen: Ausführen der Zelle \"load libraries\" und der Sektion \"Einlesen des Korpus\". </br>\n",
    "Alle Zellen, die mit 🚀 gekennzeichnet sind, werden nur bei der Ausführung des Noteboos in Colab / JupyterHub bzw. lokal ausgeführt. \n",
    "</details>"
   ]
  },
  {
   "cell_type": "code",
   "execution_count": null,
   "id": "8e658281-233d-4291-97ed-9afa713ab0bf",
   "metadata": {
    "editable": true,
    "slideshow": {
     "slide_type": ""
    },
    "tags": [
     "skip-execution",
     "hide-cell"
    ]
   },
   "outputs": [],
   "source": [
    "# 🚀 Install libraries\n",
    "! pip install pandas matplotlib bokeh"
   ]
  },
  {
   "cell_type": "code",
   "execution_count": 1,
   "id": "79a39412-bdbd-45cb-a5d2-86f94105e8a4",
   "metadata": {
    "editable": true,
    "slideshow": {
     "slide_type": ""
    },
    "tags": [
     "hide-cell",
     "hide-output"
    ]
   },
   "outputs": [
    {
     "data": {
      "text/html": [
       "    <style>\n",
       "        .bk-notebook-logo {\n",
       "            display: block;\n",
       "            width: 20px;\n",
       "            height: 20px;\n",
       "            background-image: url(data:image/png;base64,iVBORw0KGgoAAAANSUhEUgAAABQAAAAUCAYAAACNiR0NAAAABHNCSVQICAgIfAhkiAAAAAlwSFlzAAALEgAACxIB0t1+/AAAABx0RVh0U29mdHdhcmUAQWRvYmUgRmlyZXdvcmtzIENTNui8sowAAAOkSURBVDiNjZRtaJVlGMd/1/08zzln5zjP1LWcU9N0NkN8m2CYjpgQYQXqSs0I84OLIC0hkEKoPtiH3gmKoiJDU7QpLgoLjLIQCpEsNJ1vqUOdO7ppbuec5+V+rj4ctwzd8IIbbi6u+8f1539dt3A78eXC7QizUF7gyV1fD1Yqg4JWz84yffhm0qkFqBogB9rM8tZdtwVsPUhWhGcFJngGeWrPzHm5oaMmkfEg1usvLFyc8jLRqDOMru7AyC8saQr7GG7f5fvDeH7Ej8CM66nIF+8yngt6HWaKh7k49Soy9nXurCi1o3qUbS3zWfrYeQDTB/Qj6kX6Ybhw4B+bOYoLKCC9H3Nu/leUTZ1JdRWkkn2ldcCamzrcf47KKXdAJllSlxAOkRgyHsGC/zRday5Qld9DyoM4/q/rUoy/CXh3jzOu3bHUVZeU+DEn8FInkPBFlu3+nW3Nw0mk6vCDiWg8CeJaxEwuHS3+z5RgY+YBR6V1Z1nxSOfoaPa4LASWxxdNp+VWTk7+4vzaou8v8PN+xo+KY2xsw6une2frhw05CTYOmQvsEhjhWjn0bmXPjpE1+kplmmkP3suftwTubK9Vq22qKmrBhpY4jvd5afdRA3wGjFAgcnTK2s4hY0/GPNIb0nErGMCRxWOOX64Z8RAC4oCXdklmEvcL8o0BfkNK4lUg9HTl+oPlQxdNo3Mg4Nv175e/1LDGzZen30MEjRUtmXSfiTVu1kK8W4txyV6BMKlbgk3lMwYCiusNy9fVfvvwMxv8Ynl6vxoByANLTWplvuj/nF9m2+PDtt1eiHPBr1oIfhCChQMBw6Aw0UulqTKZdfVvfG7VcfIqLG9bcldL/+pdWTLxLUy8Qq38heUIjh4XlzZxzQm19lLFlr8vdQ97rjZVOLf8nclzckbcD4wxXMidpX30sFd37Fv/GtwwhzhxGVAprjbg0gCAEeIgwCZyTV2Z1REEW8O4py0wsjeloKoMr6iCY6dP92H6Vw/oTyICIthibxjm/DfN9lVz8IqtqKYLUXfoKVMVQVVJOElGjrnnUt9T9wbgp8AyYKaGlqingHZU/uG2NTZSVqwHQTWkx9hxjkpWDaCg6Ckj5qebgBVbT3V3NNXMSiWSDdGV3hrtzla7J+duwPOToIg42ChPQOQjspnSlp1V+Gjdged7+8UN5CRAV7a5EdFNwCjEaBR27b3W890TE7g24NAP/mMDXRWrGoFPQI9ls/MWO2dWFAar/xcOIImbbpA3zgAAAABJRU5ErkJggg==);\n",
       "        }\n",
       "    </style>\n",
       "    <div>\n",
       "        <a href=\"https://bokeh.org\" target=\"_blank\" class=\"bk-notebook-logo\"></a>\n",
       "        <span id=\"c2d7060a-39e6-4bfc-bcde-b61d8fc182e7\">Loading BokehJS ...</span>\n",
       "    </div>\n"
      ]
     },
     "metadata": {},
     "output_type": "display_data"
    },
    {
     "data": {
      "application/javascript": [
       "'use strict';\n",
       "(function(root) {\n",
       "  function now() {\n",
       "    return new Date();\n",
       "  }\n",
       "\n",
       "  const force = true;\n",
       "\n",
       "  if (typeof root._bokeh_onload_callbacks === \"undefined\" || force === true) {\n",
       "    root._bokeh_onload_callbacks = [];\n",
       "    root._bokeh_is_loading = undefined;\n",
       "  }\n",
       "\n",
       "const JS_MIME_TYPE = 'application/javascript';\n",
       "  const HTML_MIME_TYPE = 'text/html';\n",
       "  const EXEC_MIME_TYPE = 'application/vnd.bokehjs_exec.v0+json';\n",
       "  const CLASS_NAME = 'output_bokeh rendered_html';\n",
       "\n",
       "  /**\n",
       "   * Render data to the DOM node\n",
       "   */\n",
       "  function render(props, node) {\n",
       "    const script = document.createElement(\"script\");\n",
       "    node.appendChild(script);\n",
       "  }\n",
       "\n",
       "  /**\n",
       "   * Handle when an output is cleared or removed\n",
       "   */\n",
       "  function handleClearOutput(event, handle) {\n",
       "    function drop(id) {\n",
       "      const view = Bokeh.index.get_by_id(id)\n",
       "      if (view != null) {\n",
       "        view.model.document.clear()\n",
       "        Bokeh.index.delete(view)\n",
       "      }\n",
       "    }\n",
       "\n",
       "    const cell = handle.cell;\n",
       "\n",
       "    const id = cell.output_area._bokeh_element_id;\n",
       "    const server_id = cell.output_area._bokeh_server_id;\n",
       "\n",
       "    // Clean up Bokeh references\n",
       "    if (id != null) {\n",
       "      drop(id)\n",
       "    }\n",
       "\n",
       "    if (server_id !== undefined) {\n",
       "      // Clean up Bokeh references\n",
       "      const cmd_clean = \"from bokeh.io.state import curstate; print(curstate().uuid_to_server['\" + server_id + \"'].get_sessions()[0].document.roots[0]._id)\";\n",
       "      cell.notebook.kernel.execute(cmd_clean, {\n",
       "        iopub: {\n",
       "          output: function(msg) {\n",
       "            const id = msg.content.text.trim()\n",
       "            drop(id)\n",
       "          }\n",
       "        }\n",
       "      });\n",
       "      // Destroy server and session\n",
       "      const cmd_destroy = \"import bokeh.io.notebook as ion; ion.destroy_server('\" + server_id + \"')\";\n",
       "      cell.notebook.kernel.execute(cmd_destroy);\n",
       "    }\n",
       "  }\n",
       "\n",
       "  /**\n",
       "   * Handle when a new output is added\n",
       "   */\n",
       "  function handleAddOutput(event, handle) {\n",
       "    const output_area = handle.output_area;\n",
       "    const output = handle.output;\n",
       "\n",
       "    // limit handleAddOutput to display_data with EXEC_MIME_TYPE content only\n",
       "    if ((output.output_type != \"display_data\") || (!Object.prototype.hasOwnProperty.call(output.data, EXEC_MIME_TYPE))) {\n",
       "      return\n",
       "    }\n",
       "\n",
       "    const toinsert = output_area.element.find(\".\" + CLASS_NAME.split(' ')[0]);\n",
       "\n",
       "    if (output.metadata[EXEC_MIME_TYPE][\"id\"] !== undefined) {\n",
       "      toinsert[toinsert.length - 1].firstChild.textContent = output.data[JS_MIME_TYPE];\n",
       "      // store reference to embed id on output_area\n",
       "      output_area._bokeh_element_id = output.metadata[EXEC_MIME_TYPE][\"id\"];\n",
       "    }\n",
       "    if (output.metadata[EXEC_MIME_TYPE][\"server_id\"] !== undefined) {\n",
       "      const bk_div = document.createElement(\"div\");\n",
       "      bk_div.innerHTML = output.data[HTML_MIME_TYPE];\n",
       "      const script_attrs = bk_div.children[0].attributes;\n",
       "      for (let i = 0; i < script_attrs.length; i++) {\n",
       "        toinsert[toinsert.length - 1].firstChild.setAttribute(script_attrs[i].name, script_attrs[i].value);\n",
       "        toinsert[toinsert.length - 1].firstChild.textContent = bk_div.children[0].textContent\n",
       "      }\n",
       "      // store reference to server id on output_area\n",
       "      output_area._bokeh_server_id = output.metadata[EXEC_MIME_TYPE][\"server_id\"];\n",
       "    }\n",
       "  }\n",
       "\n",
       "  function register_renderer(events, OutputArea) {\n",
       "\n",
       "    function append_mime(data, metadata, element) {\n",
       "      // create a DOM node to render to\n",
       "      const toinsert = this.create_output_subarea(\n",
       "        metadata,\n",
       "        CLASS_NAME,\n",
       "        EXEC_MIME_TYPE\n",
       "      );\n",
       "      this.keyboard_manager.register_events(toinsert);\n",
       "      // Render to node\n",
       "      const props = {data: data, metadata: metadata[EXEC_MIME_TYPE]};\n",
       "      render(props, toinsert[toinsert.length - 1]);\n",
       "      element.append(toinsert);\n",
       "      return toinsert\n",
       "    }\n",
       "\n",
       "    /* Handle when an output is cleared or removed */\n",
       "    events.on('clear_output.CodeCell', handleClearOutput);\n",
       "    events.on('delete.Cell', handleClearOutput);\n",
       "\n",
       "    /* Handle when a new output is added */\n",
       "    events.on('output_added.OutputArea', handleAddOutput);\n",
       "\n",
       "    /**\n",
       "     * Register the mime type and append_mime function with output_area\n",
       "     */\n",
       "    OutputArea.prototype.register_mime_type(EXEC_MIME_TYPE, append_mime, {\n",
       "      /* Is output safe? */\n",
       "      safe: true,\n",
       "      /* Index of renderer in `output_area.display_order` */\n",
       "      index: 0\n",
       "    });\n",
       "  }\n",
       "\n",
       "  // register the mime type if in Jupyter Notebook environment and previously unregistered\n",
       "  if (root.Jupyter !== undefined) {\n",
       "    const events = require('base/js/events');\n",
       "    const OutputArea = require('notebook/js/outputarea').OutputArea;\n",
       "\n",
       "    if (OutputArea.prototype.mime_types().indexOf(EXEC_MIME_TYPE) == -1) {\n",
       "      register_renderer(events, OutputArea);\n",
       "    }\n",
       "  }\n",
       "  if (typeof (root._bokeh_timeout) === \"undefined\" || force === true) {\n",
       "    root._bokeh_timeout = Date.now() + 5000;\n",
       "    root._bokeh_failed_load = false;\n",
       "  }\n",
       "\n",
       "  const NB_LOAD_WARNING = {'data': {'text/html':\n",
       "     \"<div style='background-color: #fdd'>\\n\"+\n",
       "     \"<p>\\n\"+\n",
       "     \"BokehJS does not appear to have successfully loaded. If loading BokehJS from CDN, this \\n\"+\n",
       "     \"may be due to a slow or bad network connection. Possible fixes:\\n\"+\n",
       "     \"</p>\\n\"+\n",
       "     \"<ul>\\n\"+\n",
       "     \"<li>re-rerun `output_notebook()` to attempt to load from CDN again, or</li>\\n\"+\n",
       "     \"<li>use INLINE resources instead, as so:</li>\\n\"+\n",
       "     \"</ul>\\n\"+\n",
       "     \"<code>\\n\"+\n",
       "     \"from bokeh.resources import INLINE\\n\"+\n",
       "     \"output_notebook(resources=INLINE)\\n\"+\n",
       "     \"</code>\\n\"+\n",
       "     \"</div>\"}};\n",
       "\n",
       "  function display_loaded(error = null) {\n",
       "    const el = document.getElementById(\"c2d7060a-39e6-4bfc-bcde-b61d8fc182e7\");\n",
       "    if (el != null) {\n",
       "      const html = (() => {\n",
       "        if (typeof root.Bokeh === \"undefined\") {\n",
       "          if (error == null) {\n",
       "            return \"BokehJS is loading ...\";\n",
       "          } else {\n",
       "            return \"BokehJS failed to load.\";\n",
       "          }\n",
       "        } else {\n",
       "          const prefix = `BokehJS ${root.Bokeh.version}`;\n",
       "          if (error == null) {\n",
       "            return `${prefix} successfully loaded.`;\n",
       "          } else {\n",
       "            return `${prefix} <b>encountered errors</b> while loading and may not function as expected.`;\n",
       "          }\n",
       "        }\n",
       "      })();\n",
       "      el.innerHTML = html;\n",
       "\n",
       "      if (error != null) {\n",
       "        const wrapper = document.createElement(\"div\");\n",
       "        wrapper.style.overflow = \"auto\";\n",
       "        wrapper.style.height = \"5em\";\n",
       "        wrapper.style.resize = \"vertical\";\n",
       "        const content = document.createElement(\"div\");\n",
       "        content.style.fontFamily = \"monospace\";\n",
       "        content.style.whiteSpace = \"pre-wrap\";\n",
       "        content.style.backgroundColor = \"rgb(255, 221, 221)\";\n",
       "        content.textContent = error.stack ?? error.toString();\n",
       "        wrapper.append(content);\n",
       "        el.append(wrapper);\n",
       "      }\n",
       "    } else if (Date.now() < root._bokeh_timeout) {\n",
       "      setTimeout(() => display_loaded(error), 100);\n",
       "    }\n",
       "  }\n",
       "\n",
       "  function run_callbacks() {\n",
       "    try {\n",
       "      root._bokeh_onload_callbacks.forEach(function(callback) {\n",
       "        if (callback != null)\n",
       "          callback();\n",
       "      });\n",
       "    } finally {\n",
       "      delete root._bokeh_onload_callbacks\n",
       "    }\n",
       "    console.debug(\"Bokeh: all callbacks have finished\");\n",
       "  }\n",
       "\n",
       "  function load_libs(css_urls, js_urls, callback) {\n",
       "    if (css_urls == null) css_urls = [];\n",
       "    if (js_urls == null) js_urls = [];\n",
       "\n",
       "    root._bokeh_onload_callbacks.push(callback);\n",
       "    if (root._bokeh_is_loading > 0) {\n",
       "      console.debug(\"Bokeh: BokehJS is being loaded, scheduling callback at\", now());\n",
       "      return null;\n",
       "    }\n",
       "    if (js_urls == null || js_urls.length === 0) {\n",
       "      run_callbacks();\n",
       "      return null;\n",
       "    }\n",
       "    console.debug(\"Bokeh: BokehJS not loaded, scheduling load and callback at\", now());\n",
       "    root._bokeh_is_loading = css_urls.length + js_urls.length;\n",
       "\n",
       "    function on_load() {\n",
       "      root._bokeh_is_loading--;\n",
       "      if (root._bokeh_is_loading === 0) {\n",
       "        console.debug(\"Bokeh: all BokehJS libraries/stylesheets loaded\");\n",
       "        run_callbacks()\n",
       "      }\n",
       "    }\n",
       "\n",
       "    function on_error(url) {\n",
       "      console.error(\"failed to load \" + url);\n",
       "    }\n",
       "\n",
       "    for (let i = 0; i < css_urls.length; i++) {\n",
       "      const url = css_urls[i];\n",
       "      const element = document.createElement(\"link\");\n",
       "      element.onload = on_load;\n",
       "      element.onerror = on_error.bind(null, url);\n",
       "      element.rel = \"stylesheet\";\n",
       "      element.type = \"text/css\";\n",
       "      element.href = url;\n",
       "      console.debug(\"Bokeh: injecting link tag for BokehJS stylesheet: \", url);\n",
       "      document.body.appendChild(element);\n",
       "    }\n",
       "\n",
       "    for (let i = 0; i < js_urls.length; i++) {\n",
       "      const url = js_urls[i];\n",
       "      const element = document.createElement('script');\n",
       "      element.onload = on_load;\n",
       "      element.onerror = on_error.bind(null, url);\n",
       "      element.async = false;\n",
       "      element.src = url;\n",
       "      console.debug(\"Bokeh: injecting script tag for BokehJS library: \", url);\n",
       "      document.head.appendChild(element);\n",
       "    }\n",
       "  };\n",
       "\n",
       "  function inject_raw_css(css) {\n",
       "    const element = document.createElement(\"style\");\n",
       "    element.appendChild(document.createTextNode(css));\n",
       "    document.body.appendChild(element);\n",
       "  }\n",
       "\n",
       "  const js_urls = [\"https://cdn.bokeh.org/bokeh/release/bokeh-3.6.2.min.js\", \"https://cdn.bokeh.org/bokeh/release/bokeh-gl-3.6.2.min.js\", \"https://cdn.bokeh.org/bokeh/release/bokeh-widgets-3.6.2.min.js\", \"https://cdn.bokeh.org/bokeh/release/bokeh-tables-3.6.2.min.js\", \"https://cdn.bokeh.org/bokeh/release/bokeh-mathjax-3.6.2.min.js\"];\n",
       "  const css_urls = [];\n",
       "\n",
       "  const inline_js = [    function(Bokeh) {\n",
       "      Bokeh.set_log_level(\"info\");\n",
       "    },\n",
       "function(Bokeh) {\n",
       "    }\n",
       "  ];\n",
       "\n",
       "  function run_inline_js() {\n",
       "    if (root.Bokeh !== undefined || force === true) {\n",
       "      try {\n",
       "            for (let i = 0; i < inline_js.length; i++) {\n",
       "      inline_js[i].call(root, root.Bokeh);\n",
       "    }\n",
       "\n",
       "      } catch (error) {display_loaded(error);throw error;\n",
       "      }if (force === true) {\n",
       "        display_loaded();\n",
       "      }} else if (Date.now() < root._bokeh_timeout) {\n",
       "      setTimeout(run_inline_js, 100);\n",
       "    } else if (!root._bokeh_failed_load) {\n",
       "      console.log(\"Bokeh: BokehJS failed to load within specified timeout.\");\n",
       "      root._bokeh_failed_load = true;\n",
       "    } else if (force !== true) {\n",
       "      const cell = $(document.getElementById(\"c2d7060a-39e6-4bfc-bcde-b61d8fc182e7\")).parents('.cell').data().cell;\n",
       "      cell.output_area.append_execute_result(NB_LOAD_WARNING)\n",
       "    }\n",
       "  }\n",
       "\n",
       "  if (root._bokeh_is_loading === 0) {\n",
       "    console.debug(\"Bokeh: BokehJS loaded, going straight to plotting\");\n",
       "    run_inline_js();\n",
       "  } else {\n",
       "    load_libs(css_urls, js_urls, function() {\n",
       "      console.debug(\"Bokeh: BokehJS plotting callback run at\", now());\n",
       "      run_inline_js();\n",
       "    });\n",
       "  }\n",
       "}(window));"
      ],
      "application/vnd.bokehjs_load.v0+json": "'use strict';\n(function(root) {\n  function now() {\n    return new Date();\n  }\n\n  const force = true;\n\n  if (typeof root._bokeh_onload_callbacks === \"undefined\" || force === true) {\n    root._bokeh_onload_callbacks = [];\n    root._bokeh_is_loading = undefined;\n  }\n\n\n  if (typeof (root._bokeh_timeout) === \"undefined\" || force === true) {\n    root._bokeh_timeout = Date.now() + 5000;\n    root._bokeh_failed_load = false;\n  }\n\n  const NB_LOAD_WARNING = {'data': {'text/html':\n     \"<div style='background-color: #fdd'>\\n\"+\n     \"<p>\\n\"+\n     \"BokehJS does not appear to have successfully loaded. If loading BokehJS from CDN, this \\n\"+\n     \"may be due to a slow or bad network connection. Possible fixes:\\n\"+\n     \"</p>\\n\"+\n     \"<ul>\\n\"+\n     \"<li>re-rerun `output_notebook()` to attempt to load from CDN again, or</li>\\n\"+\n     \"<li>use INLINE resources instead, as so:</li>\\n\"+\n     \"</ul>\\n\"+\n     \"<code>\\n\"+\n     \"from bokeh.resources import INLINE\\n\"+\n     \"output_notebook(resources=INLINE)\\n\"+\n     \"</code>\\n\"+\n     \"</div>\"}};\n\n  function display_loaded(error = null) {\n    const el = document.getElementById(\"c2d7060a-39e6-4bfc-bcde-b61d8fc182e7\");\n    if (el != null) {\n      const html = (() => {\n        if (typeof root.Bokeh === \"undefined\") {\n          if (error == null) {\n            return \"BokehJS is loading ...\";\n          } else {\n            return \"BokehJS failed to load.\";\n          }\n        } else {\n          const prefix = `BokehJS ${root.Bokeh.version}`;\n          if (error == null) {\n            return `${prefix} successfully loaded.`;\n          } else {\n            return `${prefix} <b>encountered errors</b> while loading and may not function as expected.`;\n          }\n        }\n      })();\n      el.innerHTML = html;\n\n      if (error != null) {\n        const wrapper = document.createElement(\"div\");\n        wrapper.style.overflow = \"auto\";\n        wrapper.style.height = \"5em\";\n        wrapper.style.resize = \"vertical\";\n        const content = document.createElement(\"div\");\n        content.style.fontFamily = \"monospace\";\n        content.style.whiteSpace = \"pre-wrap\";\n        content.style.backgroundColor = \"rgb(255, 221, 221)\";\n        content.textContent = error.stack ?? error.toString();\n        wrapper.append(content);\n        el.append(wrapper);\n      }\n    } else if (Date.now() < root._bokeh_timeout) {\n      setTimeout(() => display_loaded(error), 100);\n    }\n  }\n\n  function run_callbacks() {\n    try {\n      root._bokeh_onload_callbacks.forEach(function(callback) {\n        if (callback != null)\n          callback();\n      });\n    } finally {\n      delete root._bokeh_onload_callbacks\n    }\n    console.debug(\"Bokeh: all callbacks have finished\");\n  }\n\n  function load_libs(css_urls, js_urls, callback) {\n    if (css_urls == null) css_urls = [];\n    if (js_urls == null) js_urls = [];\n\n    root._bokeh_onload_callbacks.push(callback);\n    if (root._bokeh_is_loading > 0) {\n      console.debug(\"Bokeh: BokehJS is being loaded, scheduling callback at\", now());\n      return null;\n    }\n    if (js_urls == null || js_urls.length === 0) {\n      run_callbacks();\n      return null;\n    }\n    console.debug(\"Bokeh: BokehJS not loaded, scheduling load and callback at\", now());\n    root._bokeh_is_loading = css_urls.length + js_urls.length;\n\n    function on_load() {\n      root._bokeh_is_loading--;\n      if (root._bokeh_is_loading === 0) {\n        console.debug(\"Bokeh: all BokehJS libraries/stylesheets loaded\");\n        run_callbacks()\n      }\n    }\n\n    function on_error(url) {\n      console.error(\"failed to load \" + url);\n    }\n\n    for (let i = 0; i < css_urls.length; i++) {\n      const url = css_urls[i];\n      const element = document.createElement(\"link\");\n      element.onload = on_load;\n      element.onerror = on_error.bind(null, url);\n      element.rel = \"stylesheet\";\n      element.type = \"text/css\";\n      element.href = url;\n      console.debug(\"Bokeh: injecting link tag for BokehJS stylesheet: \", url);\n      document.body.appendChild(element);\n    }\n\n    for (let i = 0; i < js_urls.length; i++) {\n      const url = js_urls[i];\n      const element = document.createElement('script');\n      element.onload = on_load;\n      element.onerror = on_error.bind(null, url);\n      element.async = false;\n      element.src = url;\n      console.debug(\"Bokeh: injecting script tag for BokehJS library: \", url);\n      document.head.appendChild(element);\n    }\n  };\n\n  function inject_raw_css(css) {\n    const element = document.createElement(\"style\");\n    element.appendChild(document.createTextNode(css));\n    document.body.appendChild(element);\n  }\n\n  const js_urls = [\"https://cdn.bokeh.org/bokeh/release/bokeh-3.6.2.min.js\", \"https://cdn.bokeh.org/bokeh/release/bokeh-gl-3.6.2.min.js\", \"https://cdn.bokeh.org/bokeh/release/bokeh-widgets-3.6.2.min.js\", \"https://cdn.bokeh.org/bokeh/release/bokeh-tables-3.6.2.min.js\", \"https://cdn.bokeh.org/bokeh/release/bokeh-mathjax-3.6.2.min.js\"];\n  const css_urls = [];\n\n  const inline_js = [    function(Bokeh) {\n      Bokeh.set_log_level(\"info\");\n    },\nfunction(Bokeh) {\n    }\n  ];\n\n  function run_inline_js() {\n    if (root.Bokeh !== undefined || force === true) {\n      try {\n            for (let i = 0; i < inline_js.length; i++) {\n      inline_js[i].call(root, root.Bokeh);\n    }\n\n      } catch (error) {display_loaded(error);throw error;\n      }if (force === true) {\n        display_loaded();\n      }} else if (Date.now() < root._bokeh_timeout) {\n      setTimeout(run_inline_js, 100);\n    } else if (!root._bokeh_failed_load) {\n      console.log(\"Bokeh: BokehJS failed to load within specified timeout.\");\n      root._bokeh_failed_load = true;\n    } else if (force !== true) {\n      const cell = $(document.getElementById(\"c2d7060a-39e6-4bfc-bcde-b61d8fc182e7\")).parents('.cell').data().cell;\n      cell.output_area.append_execute_result(NB_LOAD_WARNING)\n    }\n  }\n\n  if (root._bokeh_is_loading === 0) {\n    console.debug(\"Bokeh: BokehJS loaded, going straight to plotting\");\n    run_inline_js();\n  } else {\n    load_libs(css_urls, js_urls, function() {\n      console.debug(\"Bokeh: BokehJS plotting callback run at\", now());\n      run_inline_js();\n    });\n  }\n}(window));"
     },
     "metadata": {},
     "output_type": "display_data"
    }
   ],
   "source": [
    "# import libraries for table processing and for compuation of readability metrics\n",
    "from pathlib import Path\n",
    "\n",
    "import pandas as pd\n",
    "import matplotlib.pyplot as plt\n",
    "\n",
    "from bokeh.io import output_notebook, show\n",
    "from bokeh.plotting import figure\n",
    "from bokeh.layouts import column, row, layout\n",
    "from bokeh.models import ColumnDataSource, CustomJS, TextInput, Div, RadioButtonGroup, Switch, TableColumn, DataTable\n",
    "# Ensure Bokeh output is displayed in the notebook\n",
    "output_notebook()"
   ]
  },
  {
   "cell_type": "markdown",
   "id": "0606f3ba-a80a-4a9f-9399-e063578c3164",
   "metadata": {
    "editable": true,
    "slideshow": {
     "slide_type": ""
    },
    "tags": []
   },
   "source": [
    "## Einlesen der Textkomplexitätsscores"
   ]
  },
  {
   "cell_type": "markdown",
   "id": "4be4149d-d21d-477e-940c-d059aef3b007",
   "metadata": {},
   "source": [
    "<details>\n",
    "  <summary><b>Informationen zum Ausführen des Notebooks – Zum Ausklappen klicken ⬇️</b></summary>\n",
    "Zuerst wird der Ordner angelegt, in dem die Textdateien gespeichert werden. Der Einfachheit halber wird die gleich Datenablagestruktur wie in dem <a href=\"https://github.com/dh-network/quadriga/tree/main\">GitHub Repository</a>, in dem die Daten gespeichert sind, vorausgesetzt. </br>\n",
    "Der Text wird aus GitHub heruntergeladen und in dem Ordner <i>../data/txt/</i> abgespeichert. </br>\n",
    "Der Pfad kann in der Variable <i>text_path</i> angepasst werden. Die einzulesenden Daten müssen die Endung `.txt` haben. </br>\n",
    "</details>"
   ]
  },
  {
   "cell_type": "code",
   "execution_count": 2,
   "id": "a8ef6bd6-cd83-45fe-ad96-d90267c12d9e",
   "metadata": {
    "editable": true,
    "slideshow": {
     "slide_type": ""
    },
    "tags": []
   },
   "outputs": [],
   "source": [
    "# 🚀 Create result directory path\n",
    "result_dir = Path(r\"../results\")\n",
    "if not result_dir.exists():\n",
    "    result_dir.mkdir()"
   ]
  },
  {
   "cell_type": "code",
   "execution_count": null,
   "id": "010e6e62-448d-439c-adf7-04ccc3362b2e",
   "metadata": {
    "editable": true,
    "slideshow": {
     "slide_type": ""
    },
    "tags": [
     "skip-execution",
     "hide-cell",
     "hide-output"
    ]
   },
   "outputs": [],
   "source": [
    "# 🚀 Load the results file from GitHub \n",
    "! wget https://raw.githubusercontent.com/quadriga-dk/Text-Fallstudie-2/refs/heads/main/results/metadata_with_readability_scores.csv -P ../results/"
   ]
  },
  {
   "cell_type": "code",
   "execution_count": 3,
   "id": "017acba9-ee2e-4204-97d2-dc712b320212",
   "metadata": {
    "editable": true,
    "slideshow": {
     "slide_type": ""
    },
    "tags": []
   },
   "outputs": [],
   "source": [
    "result_path = result_dir / r\"metadata_with_readability_scores.csv\""
   ]
  },
  {
   "cell_type": "code",
   "execution_count": 4,
   "id": "b66185b9-adc9-413a-99f7-970335aba070",
   "metadata": {},
   "outputs": [],
   "source": [
    "result_df = pd.read_csv(result_path, sep=\",\")\n",
    "\n",
    "# Convert date to datetime\n",
    "result_df['date'] = pd.to_datetime(result_df['date'], dayfirst=True)"
   ]
  },
  {
   "cell_type": "markdown",
   "id": "ffe82c02-20c5-4d96-9691-bb8f52c13e28",
   "metadata": {},
   "source": [
    "Die Anzahl der Einträge anzeigen lassen:"
   ]
  },
  {
   "cell_type": "code",
   "execution_count": null,
   "id": "e36aec62-ea54-45a6-a498-6a51fc830170",
   "metadata": {},
   "outputs": [],
   "source": [
    "len(result_df)"
   ]
  },
  {
   "cell_type": "markdown",
   "id": "09fde2fa-5cd4-4962-94ab-cea5325c1206",
   "metadata": {},
   "source": [
    "Erste 100 Zeilen der Daten angucken:"
   ]
  },
  {
   "cell_type": "code",
   "execution_count": null,
   "id": "81c8d725-859a-4aa5-8987-1f0f99c66a8b",
   "metadata": {
    "editable": true,
    "slideshow": {
     "slide_type": ""
    },
    "tags": []
   },
   "outputs": [],
   "source": [
    "# Too slow if done with entire data frame\n",
    "\n",
    "# Convert DataFrame to ColumnDataSource\n",
    "source = ColumnDataSource(result_df[:100])\n",
    "        \n",
    "# Create Table Columns\n",
    "columns = [TableColumn(field=col, title=col) for col in result_df.head().columns]\n",
    "\n",
    "# Create DataTable\n",
    "data_table = DataTable(source=source, columns=columns)\n",
    "\n",
    "# Display DataTable\n",
    "output_notebook()  # Use this to render in Jupyter Notebook\n",
    "show(layout([data_table]))"
   ]
  },
  {
   "cell_type": "markdown",
   "id": "374f69fb-c6b3-4fa5-84f0-b8b8d51c0e4b",
   "metadata": {
    "editable": true,
    "slideshow": {
     "slide_type": ""
    },
    "tags": []
   },
   "source": [
    "## Analyse"
   ]
  },
  {
   "cell_type": "markdown",
   "id": "6565fcd6-c8c3-40a3-b388-491cec68f28b",
   "metadata": {
    "editable": true,
    "slideshow": {
     "slide_type": ""
    },
    "tags": []
   },
   "source": [
    "### Übersicht über die Daten erhalten"
   ]
  },
  {
   "cell_type": "markdown",
   "id": "f0f8dbeb-8569-4420-b161-41a2a780043e",
   "metadata": {
    "editable": true,
    "slideshow": {
     "slide_type": ""
    },
    "tags": []
   },
   "source": [
    "Wie viele Pressemitteilungen gab es pro Jahr?"
   ]
  },
  {
   "cell_type": "code",
   "execution_count": null,
   "id": "8ddc57a3-90a8-4bbe-b7eb-bde551ffc88c",
   "metadata": {},
   "outputs": [],
   "source": [
    "result_df.groupby(pd.PeriodIndex(result_df['date'], freq=\"Y\"))['n_tokens'].count().plot(kind=\"bar\")"
   ]
  },
  {
   "cell_type": "markdown",
   "id": "8c6a404a-5e7b-4a0a-8eb2-50f060f1c2c1",
   "metadata": {},
   "source": [
    "Wie lang sind die Pressemitteilungen im Schnitt in Wörtern?"
   ]
  },
  {
   "cell_type": "code",
   "execution_count": null,
   "id": "934000fc-733e-4769-9f8d-64bb32c14fce",
   "metadata": {
    "editable": true,
    "slideshow": {
     "slide_type": ""
    },
    "tags": []
   },
   "outputs": [],
   "source": [
    "result_df.groupby(pd.PeriodIndex(result_df['date'], freq=\"Y\"))['n_tokens'].mean().plot(kind=\"bar\")"
   ]
  },
  {
   "cell_type": "markdown",
   "id": "2ce491a3-8fd8-4411-ae00-ff36d6c03776",
   "metadata": {
    "editable": true,
    "slideshow": {
     "slide_type": ""
    },
    "tags": []
   },
   "source": [
    "Wie viele Mitteilungen aus welcher Kategorie sind vorhanden?\n",
    "Da die Anzahl der Kategorien hoch ist, zeigen wir nur die Kategorien, die mit 100 Mitteilungen oder mehr vertreten sind."
   ]
  },
  {
   "cell_type": "code",
   "execution_count": null,
   "id": "61ae3748-929a-493f-b8b6-eab088894e2b",
   "metadata": {},
   "outputs": [],
   "source": [
    "counts = result_df['source'].value_counts()\n",
    "counts[counts > 100].plot(kind=\"bar\")"
   ]
  },
  {
   "cell_type": "markdown",
   "id": "ae319ab2-0bff-4522-b172-017baa9a2e86",
   "metadata": {},
   "source": [
    "### Extrahieren von schwierigsten und einfachsten Texten"
   ]
  },
  {
   "cell_type": "code",
   "execution_count": 6,
   "id": "2f69dc61-fee5-45fb-970d-c1cd449ee7f6",
   "metadata": {},
   "outputs": [],
   "source": [
    "metrics = [\"Flesch\", \"ARI\", \"Coleman_Liau\", \"Wiener_Sachtextformel\"]"
   ]
  },
  {
   "cell_type": "code",
   "execution_count": null,
   "id": "4795da68-d194-48a4-a373-e9c1c6099fa4",
   "metadata": {},
   "outputs": [],
   "source": [
    "# TODO: prettify\n",
    "for metric in metrics:\n",
    "    print(metric)\n",
    "    if metric == \"Flesch\":\n",
    "        print(f\"Schwierigster Text: {result_df[result_df[metric] == result_df[metric].min()]['id']}\")\n",
    "        print(f\"Leichester Text: {result_df[result_df[metric] == result_df[metric].max()]['id']}\\n\")\n",
    "    else:\n",
    "        print(f\"Schwierigster Text: {result_df[result_df[metric] == result_df[metric].max()]['id']}\")\n",
    "        print(f\"Leichester Text: {result_df[result_df[metric] == result_df[metric].min()]['id']}\\n\")"
   ]
  },
  {
   "cell_type": "markdown",
   "id": "86bce25c-71ae-493d-bc7c-36cec0d4269f",
   "metadata": {},
   "source": [
    "Wie zu sehen ist, überschneiden sich die Metriken in Bezug auf die Extremwerte (niedrigster und höchster Wert) nicht."
   ]
  },
  {
   "cell_type": "markdown",
   "id": "ebb90802-d3ea-42f1-b9d2-4c6cd47a1c14",
   "metadata": {
    "editable": true,
    "slideshow": {
     "slide_type": ""
    },
    "tags": []
   },
   "source": [
    "## Entwicklung über Zeit \n",
    "* Vergleich der Metriken-Entwicklung über die Jahre "
   ]
  },
  {
   "cell_type": "code",
   "execution_count": null,
   "id": "546547ac-1d2c-447a-aad8-8999fddae92f",
   "metadata": {
    "editable": true,
    "slideshow": {
     "slide_type": ""
    },
    "tags": []
   },
   "outputs": [],
   "source": [
    "metric_mean_year_df = result_df.groupby(pd.PeriodIndex(result_df['date'], freq=\"Y\"))[metrics].mean()"
   ]
  },
  {
   "cell_type": "code",
   "execution_count": null,
   "id": "e67b2072-caeb-4773-a62b-55d3ebf6ab14",
   "metadata": {
    "editable": true,
    "slideshow": {
     "slide_type": ""
    },
    "tags": []
   },
   "outputs": [],
   "source": [
    "metric_mean_year_df.plot()"
   ]
  },
  {
   "cell_type": "code",
   "execution_count": null,
   "id": "c5d80fe8-10bc-4538-96a4-32a0cd8bdc8a",
   "metadata": {
    "editable": true,
    "slideshow": {
     "slide_type": ""
    },
    "tags": []
   },
   "outputs": [],
   "source": [
    "# Create subplots -- attention, they don't start with 0!\n",
    "fig, axes = plt.subplots(nrows=2, ncols=2, figsize=(12, 12))\n",
    "axes = axes.flatten()\n",
    "for i, col in enumerate(metrics):\n",
    "    axes[i].plot(metric_mean_year_df.index.year, metric_mean_year_df[col], marker='o', label=col)\n",
    "    axes[i].set_title(f'{col}')\n",
    "    axes[i].set_xlabel('Jahre')\n",
    "    axes[i].set_ylabel(col)\n",
    "    axes[i].legend()\n",
    "    axes[i].grid(True)\n",
    "\n",
    "plt.tight_layout()  # Adjust layout to prevent overlap\n",
    "plt.show()"
   ]
  },
  {
   "cell_type": "markdown",
   "id": "e0f8c7b9-389e-49c0-b076-28b5161c997b",
   "metadata": {
    "editable": true,
    "slideshow": {
     "slide_type": ""
    },
    "tags": []
   },
   "source": [
    "### 3.2 Interaktive Analysedaten vorbereiten\n",
    "Wir wollen die Daten nun nach den Parametern der Metrik und der Granularität der Zeitschiene einteilen."
   ]
  },
  {
   "cell_type": "code",
   "execution_count": 7,
   "id": "31a19932-6ca0-4d2a-be78-d86f450483c1",
   "metadata": {
    "editable": true,
    "slideshow": {
     "slide_type": ""
    },
    "tags": []
   },
   "outputs": [
    {
     "name": "stdout",
     "output_type": "stream",
     "text": [
      "['Flesch', 'ARI', 'Coleman_Liau', 'Wiener_Sachtextformel', 'date']\n"
     ]
    }
   ],
   "source": [
    "columns_to_keep = []\n",
    "columns_to_keep.extend(metrics)\n",
    "columns_to_keep.append(\"date\")\n",
    "print(columns_to_keep)"
   ]
  },
  {
   "cell_type": "code",
   "execution_count": 8,
   "id": "4b808954-91d4-4ccb-9bdf-42a49abdd31c",
   "metadata": {
    "editable": true,
    "slideshow": {
     "slide_type": ""
    },
    "tags": []
   },
   "outputs": [],
   "source": [
    "results_filtered = result_df[columns_to_keep]"
   ]
  },
  {
   "cell_type": "code",
   "execution_count": 9,
   "id": "ca822456-d2b8-4045-b93e-4a32afd7d5dd",
   "metadata": {
    "editable": true,
    "slideshow": {
     "slide_type": ""
    },
    "tags": [
     "hide-cell"
    ]
   },
   "outputs": [],
   "source": [
    "def plot_with_js(results_filtered_df: pd.DataFrame) -> None:\n",
    "    \"\"\" \n",
    "    :param pd.DataFrame merged_df: The merged dataframe of all annotations\n",
    "    \"\"\"\n",
    "    frequency_parameters = [\"Y\", \"M\", \"W-MON\"]\n",
    "    \n",
    "    metrics_to_time_frame = {}\n",
    "    for metric in metrics:\n",
    "        metrics_to_time_frame[metric] = {}\n",
    "        for option in frequency_parameters:\n",
    "            result = results_filtered.groupby(pd.PeriodIndex(results_filtered['date'], freq=option))[metric].mean()\n",
    "            metrics_to_time_frame[metric][option] = {\"x\": result.index.to_timestamp(), \"y\": result.values}\n",
    "    \n",
    "    # Set year as default for the plot\n",
    "    line_source = ColumnDataSource(data=metrics_to_time_frame[\"Flesch\"][\"Y\"])\n",
    "\n",
    "    # Create a plot\n",
    "    p = figure(title=f\"Lesbarkeitsmaß\", x_axis_type=\"datetime\", x_axis_label='Zeit', \n",
    "               y_axis_label='Durschnittlicher Score', width=700, height=400)\n",
    "    line = p.line('x', 'y', source=line_source, line_width=2, color='blue')\n",
    "\n",
    "    # RadioButtonGroup to select mode\n",
    "    radio_button_group_time = RadioButtonGroup(labels=[\"Yearly\", \"Monthly\", \"Weekly\"], active=0)\n",
    "    radio_button_group_metric = RadioButtonGroup(labels=[\"Flesch\", \"ARI\", \"Coleman_Liau\", \"Wiener_Sachtextformel\"], active=0)\n",
    "\n",
    "\n",
    "    # Callback to update the data based on selected mode\n",
    "    callback = CustomJS(\n",
    "        args=dict(\n",
    "            line=line,\n",
    "            sources=metrics_to_time_frame,\n",
    "            radio_button_group_time=radio_button_group_time,\n",
    "            radio_button_group_metric=radio_button_group_metric\n",
    "        ),\n",
    "        code=\"\"\"                \n",
    "        // Access the value of the switch\n",
    "        // const sources = switch_element.active ? relative_sources : absolute_sources;\n",
    "\n",
    "        // Access the value of the RadioButtonGroup Time\n",
    "        const mode = radio_button_group_time.active;\n",
    "        \n",
    "        // Access the value of the RadioButtonGroup\n",
    "        const base = radio_button_group_metric.active;\n",
    "    \n",
    "        // Retrieve the selected frequency\n",
    "        const freq = [\"Y\", \"M\", \"W-MON\"][mode];\n",
    "\n",
    "        // Retrieve the selected metric\n",
    "        const metric = [\"Flesch\", \"ARI\", \"Coleman_Liau\", \"Wiener_Sachtextformel\"][base];\n",
    "    \n",
    "        // update data source and emit change event\n",
    "        line.data_source.data = sources[metric][freq];\n",
    "        line.data_source.change.emit();\n",
    "    \"\"\",\n",
    "    )\n",
    "\n",
    "    # Attach the callback to both widgets\n",
    "    radio_button_group_time.js_on_change('active', callback)\n",
    "    radio_button_group_metric.js_on_change('active', callback)\n",
    "\n",
    "    # Layout the RadioButtonGroup and plot\n",
    "    layout = column(row(radio_button_group_metric, radio_button_group_time), p)\n",
    "    show(layout)"
   ]
  },
  {
   "cell_type": "code",
   "execution_count": 10,
   "id": "72f26f29-7c11-4648-97b5-d60ee5fec934",
   "metadata": {
    "editable": true,
    "slideshow": {
     "slide_type": ""
    },
    "tags": []
   },
   "outputs": [
    {
     "data": {
      "text/html": [
       "\n",
       "  <div id=\"a7aaabce-d5fe-4c37-9fac-78272aa7a9b2\" data-root-id=\"p1064\" style=\"display: contents;\"></div>\n"
      ]
     },
     "metadata": {},
     "output_type": "display_data"
    },
    {
     "data": {
      "application/javascript": [
       "(function(root) {\n",
       "  function embed_document(root) {\n",
       "  const docs_json = {\"ee581c69-9f16-4368-85ec-cfdb98dd385b\":{\"version\":\"3.6.2\",\"title\":\"Bokeh Application\",\"roots\":[{\"type\":\"object\",\"name\":\"Column\",\"id\":\"p1064\",\"attributes\":{\"children\":[{\"type\":\"object\",\"name\":\"Row\",\"id\":\"p1063\",\"attributes\":{\"children\":[{\"type\":\"object\",\"name\":\"RadioButtonGroup\",\"id\":\"p1061\",\"attributes\":{\"js_property_callbacks\":{\"type\":\"map\",\"entries\":[[\"change:active\",[{\"type\":\"object\",\"name\":\"CustomJS\",\"id\":\"p1062\",\"attributes\":{\"args\":{\"type\":\"map\",\"entries\":[[\"line\",{\"type\":\"object\",\"name\":\"GlyphRenderer\",\"id\":\"p1057\",\"attributes\":{\"data_source\":{\"type\":\"object\",\"name\":\"ColumnDataSource\",\"id\":\"p1001\",\"attributes\":{\"selected\":{\"type\":\"object\",\"name\":\"Selection\",\"id\":\"p1002\",\"attributes\":{\"indices\":[],\"line_indices\":[]}},\"selection_policy\":{\"type\":\"object\",\"name\":\"UnionRenderers\",\"id\":\"p1003\"},\"data\":{\"type\":\"map\",\"entries\":[[\"x\",{\"type\":\"ndarray\",\"array\":{\"type\":\"bytes\",\"data\":\"AABA+u3TckIAAAANaUlzQgAAgIU2v3NCAABAmLE0dEIAAACrLKp0QgAAwL2nH3VCAABANnWVdUIAAABJ8Ap2QgAAwFtrgHZCAACAbub1dkIAAADns2t3QgAAwPku4XdCAACADKpWeEIAAEAfJcx4QgAAwJfyQXlC\"},\"shape\":[15],\"dtype\":\"float64\",\"order\":\"little\"}],[\"y\",{\"type\":\"ndarray\",\"array\":{\"type\":\"bytes\",\"data\":\"Yqr466F8RkCdmz2tGGlGQFJwKLMpYEZAuur2ueoWRkBXj7w6yIpFQOjNoyfPXkVACKSxYffHRUDWBLDJnWZEQPWVlcyT60RAv2voQRCFQ0A5OZyGL+hCQAxSq5KXg0NAnMD0pthzQ0AVmIlT529DQMwO+Q6SkUNA\"},\"shape\":[15],\"dtype\":\"float64\",\"order\":\"little\"}]]}}},\"view\":{\"type\":\"object\",\"name\":\"CDSView\",\"id\":\"p1058\",\"attributes\":{\"filter\":{\"type\":\"object\",\"name\":\"AllIndices\",\"id\":\"p1059\"}}},\"glyph\":{\"type\":\"object\",\"name\":\"Line\",\"id\":\"p1054\",\"attributes\":{\"x\":{\"type\":\"field\",\"field\":\"x\"},\"y\":{\"type\":\"field\",\"field\":\"y\"},\"line_color\":\"blue\",\"line_width\":2}},\"nonselection_glyph\":{\"type\":\"object\",\"name\":\"Line\",\"id\":\"p1055\",\"attributes\":{\"x\":{\"type\":\"field\",\"field\":\"x\"},\"y\":{\"type\":\"field\",\"field\":\"y\"},\"line_color\":\"blue\",\"line_alpha\":0.1,\"line_width\":2}},\"muted_glyph\":{\"type\":\"object\",\"name\":\"Line\",\"id\":\"p1056\",\"attributes\":{\"x\":{\"type\":\"field\",\"field\":\"x\"},\"y\":{\"type\":\"field\",\"field\":\"y\"},\"line_color\":\"blue\",\"line_alpha\":0.2,\"line_width\":2}}}}],[\"sources\",{\"type\":\"map\",\"entries\":[[\"Flesch\",{\"type\":\"map\",\"entries\":[[\"Y\",{\"type\":\"map\",\"entries\":[[\"x\",{\"type\":\"ndarray\",\"array\":{\"type\":\"bytes\",\"data\":\"AABA+u3TckIAAAANaUlzQgAAgIU2v3NCAABAmLE0dEIAAACrLKp0QgAAwL2nH3VCAABANnWVdUIAAABJ8Ap2QgAAwFtrgHZCAACAbub1dkIAAADns2t3QgAAwPku4XdCAACADKpWeEIAAEAfJcx4QgAAwJfyQXlC\"},\"shape\":[15],\"dtype\":\"float64\",\"order\":\"little\"}],[\"y\",{\"type\":\"ndarray\",\"array\":{\"type\":\"bytes\",\"data\":\"Yqr466F8RkCdmz2tGGlGQFJwKLMpYEZAuur2ueoWRkBXj7w6yIpFQOjNoyfPXkVACKSxYffHRUDWBLDJnWZEQPWVlcyT60RAv2voQRCFQ0A5OZyGL+hCQAxSq5KXg0NAnMD0pthzQ0AVmIlT529DQMwO+Q6SkUNA\"},\"shape\":[15],\"dtype\":\"float64\",\"order\":\"little\"}]]}],[\"M\",{\"type\":\"map\",\"entries\":[[\"x\",{\"type\":\"ndarray\",\"array\":{\"type\":\"bytes\",\"data\":\"AABA+u3TckIAAIBM6N1yQgAAgG3r5nJCAADAv+XwckIAAECsjfpyQgAAgP6HBHNCAAAA6y8Oc0IAAEA9KhhzQgAAgI8kInNCAAAAfMwrc0IAAEDOxjVzQgAAwLpuP3NCAAAADWlJc0IAAEBfY1NzQgAAAOa4XHNCAABAOLNmc0IAAMAkW3BzQgAAAHdVenNCAACAY/2Dc0IAAMC1941zQgAAAAjyl3NCAACA9Jmhc0IAAMBGlKtzQgAAQDM8tXNCAACAhTa/c0IAAMDXMMlzQgAAwPgz0nNCAAAASy7cc0IAAIA31uVzQgAAwInQ73NCAABAdnj5c0IAAIDIcgN0QgAAwBptDXRCAABABxUXdEIAAIBZDyF0QgAAAEa3KnRCAABAmLE0dEIAAIDqqz50QgAAgAuvR3RCAADAXalRdEIAAEBKUVt0QgAAgJxLZXRCAAAAifNudEIAAEDb7Xh0QgAAgC3ognRCAAAAGpCMdEIAAEBsipZ0QgAAwFgyoHRCAAAAqyyqdEIAAED9JrR0QgAAQB4qvXRCAACAcCTHdEIAAABdzNB0QgAAQK/G2nRCAADAm27kdEIAAADuaO50QgAAQEBj+HRCAADALAsCdUIAAAB/BQx1QgAAgGutFXVCAADAvacfdUIAAAAQoil1QgAAwJb3MnVCAAAA6fE8dUIAAIDVmUZ1QgAAwCeUUHVCAABAFDxadUIAAIBmNmR1QgAAwLgwbnVCAABApdh3dUIAAID30oF1QgAAAOR6i3VCAABANnWVdUIAAICIb591QgAAgKlyqHVCAADA+2yydUIAAEDoFLx1QgAAgDoPxnVCAAAAJ7fPdUIAAEB5sdl1QgAAgMur43VCAAAAuFPtdUIAAEAKTvd1QgAAwPb1AHZCAAAASfAKdkIAAECb6hR2QgAAQLztHXZCAACADugndkIAAAD7jzF2QgAAQE2KO3ZCAADAOTJFdkIAAACMLE92QgAAQN4mWXZCAADAys5idkIAAAAdyWx2QgAAgAlxdnZCAADAW2uAdkIAAACuZYp2QgAAAM9ok3ZCAABAIWOddkIAAMANC6d2QgAAAGAFsXZCAACATK26dkIAAMCep8R2QgAAAPGhznZCAACA3UnYdkIAAMAvROJ2QgAAQBzs63ZCAACAbub1dkIAAMDA4P92QgAAgEc2CXdCAADAmTATd0IAAECG2Bx3QgAAgNjSJndCAAAAxXowd0IAAEAXdTp3QgAAgGlvRHdCAAAAVhdOd0IAAECoEVh3QgAAwJS5YXdCAAAA57Nrd0IAAEA5rnV3QgAAQFqxfndCAACArKuId0IAAACZU5J3QgAAQOtNnHdCAADA1/Wld0IAAAAq8K93QgAAQHzquXdCAADAaJLDd0IAAAC7jM13QgAAgKc013dCAADA+S7hd0IAAABMKet3QgAAAG0s9HdCAABAvyb+d0IAAMCrzgd4QgAAAP7IEXhCAACA6nAbeEIAAMA8ayV4QgAAAI9lL3hCAACAew05eEIAAMDNB0N4QgAAQLqvTHhCAACADKpWeEIAAMBepGB4QgAAwH+naXhCAAAA0qFzeEIAAIC+SX14QgAAwBBEh3hCAABA/euQeEIAAIBP5pp4QgAAwKHgpHhCAABAjoiueEIAAIDggrh4QgAAAM0qwnhCAABAHyXMeEIAAIBxH9Z4QgAAQPh033hCAACASm/peEIAAAA3F/N4QgAAQIkR/XhCAADAdbkGeUIAAADIsxB5QgAAQBquGnlCAADABlYkeUIAAABZUC55QgAAgEX4N3lCAADAl/JBeUIAAADq7Et5QgAAAAvwVHlCAABAXepeeUIAAMBJkmh5QgAAAJyMcnlC\"},\"shape\":[174],\"dtype\":\"float64\",\"order\":\"little\"}],[\"y\",{\"type\":\"ndarray\",\"array\":{\"type\":\"bytes\",\"data\":\"IiIiIiLyRUDv7u7u7k5FQOY3aSBbvkZAWU3reHPCRkCGXuiFXjhHQGA4nTB+9EZA+TDu1yU1RkDUYhs/LdZFQGa9X9b7xUZAaN1ginz2RkAshxbZzmdGQL9h7RvWPkZA/zjdAxz7RkDeKoTXrcJGQKAaL90kBkdAYkDJy14tR0AtTM/C9MxGQBERERERUUZAIiIiIiLSRUC0yHa+n1pGQBck5R/6hkVA1wAvSMoPRkCWoah5XflFQDmO4ziOu0VAZv3EGyDdRkDi4eHh4cFGQHMEirYaJEZAmpmZmdkhR0C0OMK53SRGQCF1HW4PUkZAPumTPul7RkAudwkudylGQA/Z0b8SEkdAK77iK74yRUBbCoZjT25GQG6QzR1XEkVASd6G5G2oRkBCewntJdRGQHEkk8MIZ0ZAdNFFF13URUDLPofUBNNFQIKBgYGBIUZA+n5qvHRTRkB+XNjHha1FQHZ1dXV1UUZAd5URAsRLRkAQTdYi5jxFQCD4gR/4QUVA3gBpoUpmRUDJjdzIjeREQCuswiqs4kVAGrt4/fMmRkDNzMzMTKBFQLGwsLCwAEZASEhISEjARUBqsY2fFttFQFjuaYTlPkVAe9XmGrfLRUBVEeLtqktFQP/m8uxvbkRAPXQML85jRUBERERERKRFQKH1L+JJykRA1EEd1EEdRkCamZmZmZlFQAk0T911vERAd6huh+oGRUC0yHa+nwpEQHrTm970bkVAKH3SJ32mRUC/WPKLJZ9FQDMzMzMzx0ZAQh3UQR3kRkBnla4wpjpFQCEmVxCTG0VAohd6oRdKRkBDeN0qhEdGQOUXS36xVEZA5sO4X5ckRUAVlwzBOnpFQFnnygOSlUVA5VIu5VL2RUA8R6Boq0lFQNBpA502eEVAbuoKxnZPRED1e26JU9dEQJiB5peBBkVARL5A5AtMREAdc9L8ZBZEQMvpW7XmlkRASNPcX0+EQ0APgWbZJ7xEQE4FKv6OhURA3s+7tConRUCIxYZYbGhDQAHlDlDu5EJAUhHozlC9RED/1AOs8O9EQIZR5kxBQUVApCvZSEyCRUBb8q5asT1FQA2fmVBm6kRAJkaXa28oRUDIakDf2OtEQOJMv3J9ckRAyiabbLLZRECJvkB1AIJEQK3Kfct0bkRAolFaXunJREDCQ3jO5b1EQHppXydewEJA0wY6bWDpQkBJd8Pw9hFDQL1DcGMgdUNAx0R6oHKGQ0CGfVzYx9FDQGprbFCZ8kNAU4NV5PmlQ0CHZPZBJTJCQAC1msUus0JA1/q/1RNmQkAlpE7T8ZJCQPROXPodJkJAREVAVAS8QkBN3DT1ktFCQA/H7mXLG0NA6K0y9Gs+Q0ATnz9FyCJDQCCkJaZ7DUNAKHAuOYZ6Q0DvcLXd/AVDQI/1W8Ior0JADu55JUWZQkDxj9M9wBFDQEJfrpm+gUNAW+dEg1f6Q0AtYJPG+eRDQPZM1CXMRkRAtMZ+nh9rQ0A4TslB2DVEQGR20je0UkNAfn5+fn5kQ0CZPaXjrj1DQAfe841po0JAqRG9fvK2QkDDDXxLOwtDQN4auWT/ZkNA0pSKsw/tQ0DWFIiWEz1EQJJgNyPSpENA3RsGtSlLQ0CkHSsQRrpDQLw3wik4MUNANfSY3eRHQ0BhJnVhJnVDQA1xnuHolENAxjVpoT1uQ0BkMVkVpoZDQCax19iua0NATeXO4at4Q0AsgXi6mc1DQHN4UM2TbUNAlo8s/PXiQkDiWj189MZDQOJ6FK4Hk0NAHo91k988Q0DVpiV5F6NDQCuO9rA02kJASTIKEpZkQ0DI9UOvZXVDQPWNElz0mENA1YD+wZzUQ0AOxudgfK5DQFJrsI2QWENA\"},\"shape\":[174],\"dtype\":\"float64\",\"order\":\"little\"}]]}],[\"W-MON\",{\"type\":\"map\",\"entries\":[[\"x\",{\"type\":\"ndarray\",\"array\":{\"type\":\"bytes\",\"data\":\"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\"},\"shape\":[756],\"dtype\":\"float64\",\"order\":\"little\"}],[\"y\",{\"type\":\"ndarray\",\"array\":{\"type\":\"bytes\",\"data\":\"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\"},\"shape\":[756],\"dtype\":\"float64\",\"order\":\"little\"}]]}]]}],[\"ARI\",{\"type\":\"map\",\"entries\":[[\"Y\",{\"type\":\"map\",\"entries\":[[\"x\",{\"type\":\"ndarray\",\"array\":{\"type\":\"bytes\",\"data\":\"AABA+u3TckIAAAANaUlzQgAAgIU2v3NCAABAmLE0dEIAAACrLKp0QgAAwL2nH3VCAABANnWVdUIAAABJ8Ap2QgAAwFtrgHZCAACAbub1dkIAAADns2t3QgAAwPku4XdCAACADKpWeEIAAEAfJcx4QgAAwJfyQXlC\"},\"shape\":[15],\"dtype\":\"float64\",\"order\":\"little\"}],[\"y\",{\"type\":\"ndarray\",\"array\":{\"type\":\"bytes\",\"data\":\"QFgvXVpmMEDmCL+Wxn0wQCmErEywozBAkuc8kue8MEBDRismfzkxQLqEyJQacTFARUf9D+IvMUCuJ3LL3bIxQOjnuCAvUDFASuck3Qj9MUDj9NnUHzwyQB+slSCD9zFAq5pzWv8NMkDqINUX/hAyQKVPJ2l08TFA\"},\"shape\":[15],\"dtype\":\"float64\",\"order\":\"little\"}]]}],[\"M\",{\"type\":\"map\",\"entries\":[[\"x\",{\"type\":\"ndarray\",\"array\":{\"type\":\"bytes\",\"data\":\"AABA+u3TckIAAIBM6N1yQgAAgG3r5nJCAADAv+XwckIAAECsjfpyQgAAgP6HBHNCAAAA6y8Oc0IAAEA9KhhzQgAAgI8kInNCAAAAfMwrc0IAAEDOxjVzQgAAwLpuP3NCAAAADWlJc0IAAEBfY1NzQgAAAOa4XHNCAABAOLNmc0IAAMAkW3BzQgAAAHdVenNCAACAY/2Dc0IAAMC1941zQgAAAAjyl3NCAACA9Jmhc0IAAMBGlKtzQgAAQDM8tXNCAACAhTa/c0IAAMDXMMlzQgAAwPgz0nNCAAAASy7cc0IAAIA31uVzQgAAwInQ73NCAABAdnj5c0IAAIDIcgN0QgAAwBptDXRCAABABxUXdEIAAIBZDyF0QgAAAEa3KnRCAABAmLE0dEIAAIDqqz50QgAAgAuvR3RCAADAXalRdEIAAEBKUVt0QgAAgJxLZXRCAAAAifNudEIAAEDb7Xh0QgAAgC3ognRCAAAAGpCMdEIAAEBsipZ0QgAAwFgyoHRCAAAAqyyqdEIAAED9JrR0QgAAQB4qvXRCAACAcCTHdEIAAABdzNB0QgAAQK/G2nRCAADAm27kdEIAAADuaO50QgAAQEBj+HRCAADALAsCdUIAAAB/BQx1QgAAgGutFXVCAADAvacfdUIAAAAQoil1QgAAwJb3MnVCAAAA6fE8dUIAAIDVmUZ1QgAAwCeUUHVCAABAFDxadUIAAIBmNmR1QgAAwLgwbnVCAABApdh3dUIAAID30oF1QgAAAOR6i3VCAABANnWVdUIAAICIb591QgAAgKlyqHVCAADA+2yydUIAAEDoFLx1QgAAgDoPxnVCAAAAJ7fPdUIAAEB5sdl1QgAAgMur43VCAAAAuFPtdUIAAEAKTvd1QgAAwPb1AHZCAAAASfAKdkIAAECb6hR2QgAAQLztHXZCAACADugndkIAAAD7jzF2QgAAQE2KO3ZCAADAOTJFdkIAAACMLE92QgAAQN4mWXZCAADAys5idkIAAAAdyWx2QgAAgAlxdnZCAADAW2uAdkIAAACuZYp2QgAAAM9ok3ZCAABAIWOddkIAAMANC6d2QgAAAGAFsXZCAACATK26dkIAAMCep8R2QgAAAPGhznZCAACA3UnYdkIAAMAvROJ2QgAAQBzs63ZCAACAbub1dkIAAMDA4P92QgAAgEc2CXdCAADAmTATd0IAAECG2Bx3QgAAgNjSJndCAAAAxXowd0IAAEAXdTp3QgAAgGlvRHdCAAAAVhdOd0IAAECoEVh3QgAAwJS5YXdCAAAA57Nrd0IAAEA5rnV3QgAAQFqxfndCAACArKuId0IAAACZU5J3QgAAQOtNnHdCAADA1/Wld0IAAAAq8K93QgAAQHzquXdCAADAaJLDd0IAAAC7jM13QgAAgKc013dCAADA+S7hd0IAAABMKet3QgAAAG0s9HdCAABAvyb+d0IAAMCrzgd4QgAAAP7IEXhCAACA6nAbeEIAAMA8ayV4QgAAAI9lL3hCAACAew05eEIAAMDNB0N4QgAAQLqvTHhCAACADKpWeEIAAMBepGB4QgAAwH+naXhCAAAA0qFzeEIAAIC+SX14QgAAwBBEh3hCAABA/euQeEIAAIBP5pp4QgAAwKHgpHhCAABAjoiueEIAAIDggrh4QgAAAM0qwnhCAABAHyXMeEIAAIBxH9Z4QgAAQPh033hCAACASm/peEIAAAA3F/N4QgAAQIkR/XhCAADAdbkGeUIAAADIsxB5QgAAQBquGnlCAADABlYkeUIAAABZUC55QgAAgEX4N3lCAADAl/JBeUIAAADq7Et5QgAAAAvwVHlCAABAXepeeUIAAMBJkmh5QgAAAJyMcnlC\"},\"shape\":[174],\"dtype\":\"float64\",\"order\":\"little\"}],[\"y\",{\"type\":\"ndarray\",\"array\":{\"type\":\"bytes\",\"data\":\"kML1KFyPMEDlGdxOnsEwQL7sCE3cSzBA1Hc26jtbMEBbqZVaqfUvQFOg1q8UKDBAGPfrksqHMEDfQ5HqPdQwQMjgfAzORzBAR7XlKmkUMECF61G4HoUwQJsYW/eMrDBAOBbhH6f7L0CBpZMcWHowQO2ePCzUGjBAAW4fUs7xL0ASYx4x5hEwQGlKxdmHzzBAxN+mGDW8MECSy39Iv30wQMkQrKPN+zBAAl6QlH+oMEAP/8ED+PAwQMdxHMdxDDFALVTJKEciMEDthiC6U20wQMS4X5dUvjBAZmZmZmYzMEC0Tv7Th8swQCyKR8K3ojBANDMzMzOTMEDjK77iK74wQGqkNJ0icDBAt23btm1jMUA6NyBop6EwQLo01Ue+STFAm5StSdlaMEDD36YYNXwwQPFfkNUTfzBAhtBgCA3GMEC266wlUcwwQIXrUbgehTBA2c73U+NlMEBl+UuWvyQxQI2NjY2NvTBAE8aPtlG+MEBasfDYgUIxQC/0Qi/0QjFAzGMrgoaTMUA/8AM/8KMxQAursAqrMDFAHISzVBIXMUAAAAAAAAYxQHh4eHh4uDBAqKioqKgoMUDB0kkOLN0wQMgfDnj8QTFAUSWjHIkOMUAgaxjtN2UxQI+4I+6I+zFAe18TgrI3MUB2Yid2YmcxQCU1ylhF3zFAAAAAAAAAMUDNzMzMzE4xQBQZSO/PdTFAl79k+UtWMUCgGi/dJEYyQFC01eA5ojFADLZgC7ZgMUDHSzeJQWAxQIXrUbgeBTFAz312AbFpMEAwdxIKNGIxQPcXPpWleDFA13RN13TNMEA84o64I+4wQO/u7u7u7jBAEijaavCcMUB9WwO8ICkxQKaSuGwEVTFAnMAJnMBJMUAtZCELWYgxQAY6baDThjFAWIyE0sa7MUDfc0uc+p0xQHbbe3XbezFA6QmOnuDYMUDrSwWtvsQxQJ/jET1DjTFATRh8pykwMkDTwCPmxoIxQPtQlTyRiDFACyUfLKkvMUAlLU7S4iQyQKx9w9o3rDJAO6yaTlpiMUB8HQ+Kw1cxQMvrpt7vITFA9sa1FwP/MEAm1XCzxh4xQF9ag5byJTFAJv+dvsA1MUDJjwX2oEgxQIbw6SFGkjFA9g1r37BmMUD2oEgUVJYxQFDDzlC6sTFAPRkk6ZZnMUCFWJC1I20xQDHxNGm9bzJAMzMzMzNAMkCwMebbzjUyQF0GtYhH/jFAzef642XwMUCllFJKKfUxQCmqOAZ+wTFAU/SwNyrlMUBfewsu/44yQBrVlqukUTJAiMzuf8hsMkAvow/O6WcyQA2eI1C0pTJAPl3g0wVeMkAVEiQv5zoyQPGfrNJEGzJAvzy2ImgYMkCPub0xJCsyQPpHtzEFITJAkHChjAfqMUBMX9ljDCwyQDXH6zTHazJASmQatpslMkAfL3lnfCkyQHcHTG2v+jFABkh0PBepMUCA1SqA1coxQJ+JuoTZlTFAQfwOxO8AMkCZp3iUVLMxQP37naroETJAr66urq4OMkCZJig2tCIyQPSNaRNQijJA/rqk8mFsMkABvE/WrTUyQMoiBwgpLjJA/WLJL5bYMUD599YRlKYxQB3F3Xti5TFAqh2dSbUjMkASda86JNExQAH8swabKzJA0OsMsB4iMkBQY55PYx4yQEYpeZ05DDJAUanjrC4UMkAlh4PPk/kxQAvxIaniLjJAuzS5qpwlMkD4aDY3eMkxQH9/LDHl9zFA7/Ee7/FeMkCWaTOWafMxQM3MzMzM/DFA9Dmf8zkfMkD4r1tKaPoxQOW8LOITaDJAxOQKYnIFMkAgDww6iPMxQAdB3aDa9jFA016NRzDTMUB0hjtnuPMxQKdGsBsY9jFA\"},\"shape\":[174],\"dtype\":\"float64\",\"order\":\"little\"}]]}],[\"W-MON\",{\"type\":\"map\",\"entries\":[[\"x\",{\"type\":\"ndarray\",\"array\":{\"type\":\"bytes\",\"data\":\"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\"},\"shape\":[756],\"dtype\":\"float64\",\"order\":\"little\"}],[\"y\",{\"type\":\"ndarray\",\"array\":{\"type\":\"bytes\",\"data\":\"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\"},\"shape\":[756],\"dtype\":\"float64\",\"order\":\"little\"}]]}]]}],[\"Coleman_Liau\",{\"type\":\"map\",\"entries\":[[\"Y\",{\"type\":\"map\",\"entries\":[[\"x\",{\"type\":\"ndarray\",\"array\":{\"type\":\"bytes\",\"data\":\"AABA+u3TckIAAAANaUlzQgAAgIU2v3NCAABAmLE0dEIAAACrLKp0QgAAwL2nH3VCAABANnWVdUIAAABJ8Ap2QgAAwFtrgHZCAACAbub1dkIAAADns2t3QgAAwPku4XdCAACADKpWeEIAAEAfJcx4QgAAwJfyQXlC\"},\"shape\":[15],\"dtype\":\"float64\",\"order\":\"little\"}],[\"y\",{\"type\":\"ndarray\",\"array\":{\"type\":\"bytes\",\"data\":\"1JDGOyOlMkAm9NiyKaYyQBWjxUZHuTJAHzrnuNPAMkCjpRvRfR4zQG/kVSIVEzNAUo1O3yzlMkCFgN+XkdEzQM7JRpKArDNA8fC7kTFfNECRZP6GOZg0QHJAk/ZGQDRAgYsXWDBONECcKU2Mz000QAu8QEGhLjRA\"},\"shape\":[15],\"dtype\":\"float64\",\"order\":\"little\"}]]}],[\"M\",{\"type\":\"map\",\"entries\":[[\"x\",{\"type\":\"ndarray\",\"array\":{\"type\":\"bytes\",\"data\":\"AABA+u3TckIAAIBM6N1yQgAAgG3r5nJCAADAv+XwckIAAECsjfpyQgAAgP6HBHNCAAAA6y8Oc0IAAEA9KhhzQgAAgI8kInNCAAAAfMwrc0IAAEDOxjVzQgAAwLpuP3NCAAAADWlJc0IAAEBfY1NzQgAAAOa4XHNCAABAOLNmc0IAAMAkW3BzQgAAAHdVenNCAACAY/2Dc0IAAMC1941zQgAAAAjyl3NCAACA9Jmhc0IAAMBGlKtzQgAAQDM8tXNCAACAhTa/c0IAAMDXMMlzQgAAwPgz0nNCAAAASy7cc0IAAIA31uVzQgAAwInQ73NCAABAdnj5c0IAAIDIcgN0QgAAwBptDXRCAABABxUXdEIAAIBZDyF0QgAAAEa3KnRCAABAmLE0dEIAAIDqqz50QgAAgAuvR3RCAADAXalRdEIAAEBKUVt0QgAAgJxLZXRCAAAAifNudEIAAEDb7Xh0QgAAgC3ognRCAAAAGpCMdEIAAEBsipZ0QgAAwFgyoHRCAAAAqyyqdEIAAED9JrR0QgAAQB4qvXRCAACAcCTHdEIAAABdzNB0QgAAQK/G2nRCAADAm27kdEIAAADuaO50QgAAQEBj+HRCAADALAsCdUIAAAB/BQx1QgAAgGutFXVCAADAvacfdUIAAAAQoil1QgAAwJb3MnVCAAAA6fE8dUIAAIDVmUZ1QgAAwCeUUHVCAABAFDxadUIAAIBmNmR1QgAAwLgwbnVCAABApdh3dUIAAID30oF1QgAAAOR6i3VCAABANnWVdUIAAICIb591QgAAgKlyqHVCAADA+2yydUIAAEDoFLx1QgAAgDoPxnVCAAAAJ7fPdUIAAEB5sdl1QgAAgMur43VCAAAAuFPtdUIAAEAKTvd1QgAAwPb1AHZCAAAASfAKdkIAAECb6hR2QgAAQLztHXZCAACADugndkIAAAD7jzF2QgAAQE2KO3ZCAADAOTJFdkIAAACMLE92QgAAQN4mWXZCAADAys5idkIAAAAdyWx2QgAAgAlxdnZCAADAW2uAdkIAAACuZYp2QgAAAM9ok3ZCAABAIWOddkIAAMANC6d2QgAAAGAFsXZCAACATK26dkIAAMCep8R2QgAAAPGhznZCAACA3UnYdkIAAMAvROJ2QgAAQBzs63ZCAACAbub1dkIAAMDA4P92QgAAgEc2CXdCAADAmTATd0IAAECG2Bx3QgAAgNjSJndCAAAAxXowd0IAAEAXdTp3QgAAgGlvRHdCAAAAVhdOd0IAAECoEVh3QgAAwJS5YXdCAAAA57Nrd0IAAEA5rnV3QgAAQFqxfndCAACArKuId0IAAACZU5J3QgAAQOtNnHdCAADA1/Wld0IAAAAq8K93QgAAQHzquXdCAADAaJLDd0IAAAC7jM13QgAAgKc013dCAADA+S7hd0IAAABMKet3QgAAAG0s9HdCAABAvyb+d0IAAMCrzgd4QgAAAP7IEXhCAACA6nAbeEIAAMA8ayV4QgAAAI9lL3hCAACAew05eEIAAMDNB0N4QgAAQLqvTHhCAACADKpWeEIAAMBepGB4QgAAwH+naXhCAAAA0qFzeEIAAIC+SX14QgAAwBBEh3hCAABA/euQeEIAAIBP5pp4QgAAwKHgpHhCAABAjoiueEIAAIDggrh4QgAAAM0qwnhCAABAHyXMeEIAAIBxH9Z4QgAAQPh033hCAACASm/peEIAAAA3F/N4QgAAQIkR/XhCAADAdbkGeUIAAADIsxB5QgAAQBquGnlCAADABlYkeUIAAABZUC55QgAAgEX4N3lCAADAl/JBeUIAAADq7Et5QgAAAAvwVHlCAABAXepeeUIAAMBJkmh5QgAAAJyMcnlC\"},\"shape\":[174],\"dtype\":\"float64\",\"order\":\"little\"}],[\"y\",{\"type\":\"ndarray\",\"array\":{\"type\":\"bytes\",\"data\":\"rK9Mg1PdMkBgLoqWf/wyQEVzUZkggTJA6JqvNsOgMkDp+PS1xUEyQJYCtX6lQDJApvaqgGHbMkAGgqr8uSEzQDCW/GLJbzJA0FCMiZtmMkD6D+m3r9MyQHxfCorK6TJAUDshJHkhMkAxC+tH5qMyQHHOiNLeYDJADTfV3QRQMkCAAP4H4D8yQHJDZkE7+jJA8bcpRg2/MkDKbJBJRs4yQGEdbd6nODNAps7NnlbMMkCJXNuNksgyQFrRSMA37zJAhRUs1jpPMkCDTxzptYIyQBPrEKa16DJAUrgehWtDMkApmNqZBtIyQCgeCd+KojJAFM+KRgJeMkDEgWSQTvEyQJ0i8HG2gTJAor+T1fKWM0Bd+oBPXaUyQMqIo7afYTNAInYnYndiMkBJtXaN+XoyQKG0NungljJA40QyTiQDM0CefEeGDaIyQBYBUwsqrzJABMWPMXeNMkDfMuoto94yQKhB23QOwDJAeHTOnDziMkBuXSP5CEMzQFfdOySqyDJAdKLI1JImM0AcuZEbuVEzQHV8+triIDNAtmvM143uMkCuR+F6FN0yQB5RhLfqnTJA8IkjvVYAM0AaIbcFeBgzQId03mJIRzNAa8dBF/4YM0C2Chz+6zYzQH9zefY3tzNAvWSkBgi/MkCSvXLF8OUyQJCRSw/GODNA8MoCryywMkApXI/C9eYyQB8MlqJGHjNA1shgjQwWM0CKQWDl0CI0QD/NDd81KTNAh6nL7Q9CM0CwA+eMKC0zQIXrUbgelTJAG3LuswtoMkBO5PCx7AYzQDWt480JZTNArTKRef+dMkD0BX1BX5AyQPkyoEAUezJAD+N+XVIZM0DjqVx4h9UyQK+VYGT26zJAM/hPzJHJMkAk0tinuVEzQF4Bcq+5YDNADBEYBfb/M0AEhraIF60zQMB6P1oUmTNAdxZkZ0EONEAnRMP7290zQI2zUpWBoTNAFr9RozE2NEDnwXIKvaYzQHKFk6DgqjNAXo7n5XheM0B0SDaHZFM0QOw2x25zXDRAkDWOQdO9M0CLOtIVt6gzQN07HV+AiTNAUw/lp4lhM0DyyJQTMngzQPqO5JA6iTNAIUlu0EysM0AfMsTj7pozQFhVIBag3jNAtl1i2yXOM0DwKzGRCu0zQENaKRDyCTRAfnyylPSXM0DyGyfId8YzQGVLIQj8BDVAGEt+seScNEBUeMUj7Yo0QBUkSq/pWTRAFOwmhB5JNECz/CXLX0I0QD6PQa3AJTRAvm9y03ddNEB2uEDO1hU1QK78e0BDsTRADYiSZBrCNEDHUq2c6tc0QNReFTBsCzVAKV6H4nXINEAFKF2dlaE0QHdmM5rOazRANLHBjIdhNEApXQfeNHs0QGsZ3PrieDRAzFBigURlNEAlNHkiLo40QDQlO5qLoTRAlCNn5/B2NEBswRZswVY0QK/rm4giUDRAlAPW6iv1M0AaXqLmKg80QLzbe0HE0zNAMgewDJokNEBn/EIXjvczQLMxcGurYjRAr66urq5mNEAMUjSPJ4k0QBLHjqZIxTRAvPzNJKi3NEB1Qv5eoXk0QM7tkUr6XzRAC5B7zYUkNEARvA/B+9AzQONewSYIHzRAqE1ZEIxtNED1uvpHeiI0QI/lcNY+azRAPTfK3PllNECiI0M7vVw0QMruCMEGRzRA9kJ+W4E8NEDs41ehZ1A0QO4lsdfYbjRAx9hdPPlcNEDIouewXw00QOq9D16lHjRAeWDUEvqNNEDlmYqyZjc0QDvfT40XPjRAqEnyoNRhNECn+1GO9zs0QIpf0doppTRAfhrgs6BINEAWcGRGPEc0QPbiGgC6PjRAjx/Hy0QPNEBwLD36BRc0QPQvG4lQKjRA\"},\"shape\":[174],\"dtype\":\"float64\",\"order\":\"little\"}]]}],[\"W-MON\",{\"type\":\"map\",\"entries\":[[\"x\",{\"type\":\"ndarray\",\"array\":{\"type\":\"bytes\",\"data\":\"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\"},\"shape\":[756],\"dtype\":\"float64\",\"order\":\"little\"}],[\"y\",{\"type\":\"ndarray\",\"array\":{\"type\":\"bytes\",\"data\":\"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\"},\"shape\":[756],\"dtype\":\"float64\",\"order\":\"little\"}]]}]]}],[\"Wiener_Sachtextformel\",{\"type\":\"map\",\"entries\":[[\"Y\",{\"type\":\"map\",\"entries\":[[\"x\",{\"type\":\"ndarray\",\"array\":{\"type\":\"bytes\",\"data\":\"AABA+u3TckIAAAANaUlzQgAAgIU2v3NCAABAmLE0dEIAAACrLKp0QgAAwL2nH3VCAABANnWVdUIAAABJ8Ap2QgAAwFtrgHZCAACAbub1dkIAAADns2t3QgAAwPku4XdCAACADKpWeEIAAEAfJcx4QgAAwJfyQXlC\"},\"shape\":[15],\"dtype\":\"float64\",\"order\":\"little\"}],[\"y\",{\"type\":\"ndarray\",\"array\":{\"type\":\"bytes\",\"data\":\"ZGOmybPQIkBtO2bDJPEiQDQEtq8eFyNAkCJHkCJHI0Cz3HUIMssjQJvmummumyNA/Kkuo1ZYI0ASUsLKlJokQF+b65JYYSRAWxD5z8RyJUAAMbV1CsolQHAp9ataZCVAnHFXz5JsJUAI0n4eOoUlQGKQxuERcCVA\"},\"shape\":[15],\"dtype\":\"float64\",\"order\":\"little\"}]]}],[\"M\",{\"type\":\"map\",\"entries\":[[\"x\",{\"type\":\"ndarray\",\"array\":{\"type\":\"bytes\",\"data\":\"AABA+u3TckIAAIBM6N1yQgAAgG3r5nJCAADAv+XwckIAAECsjfpyQgAAgP6HBHNCAAAA6y8Oc0IAAEA9KhhzQgAAgI8kInNCAAAAfMwrc0IAAEDOxjVzQgAAwLpuP3NCAAAADWlJc0IAAEBfY1NzQgAAAOa4XHNCAABAOLNmc0IAAMAkW3BzQgAAAHdVenNCAACAY/2Dc0IAAMC1941zQgAAAAjyl3NCAACA9Jmhc0IAAMBGlKtzQgAAQDM8tXNCAACAhTa/c0IAAMDXMMlzQgAAwPgz0nNCAAAASy7cc0IAAIA31uVzQgAAwInQ73NCAABAdnj5c0IAAIDIcgN0QgAAwBptDXRCAABABxUXdEIAAIBZDyF0QgAAAEa3KnRCAABAmLE0dEIAAIDqqz50QgAAgAuvR3RCAADAXalRdEIAAEBKUVt0QgAAgJxLZXRCAAAAifNudEIAAEDb7Xh0QgAAgC3ognRCAAAAGpCMdEIAAEBsipZ0QgAAwFgyoHRCAAAAqyyqdEIAAED9JrR0QgAAQB4qvXRCAACAcCTHdEIAAABdzNB0QgAAQK/G2nRCAADAm27kdEIAAADuaO50QgAAQEBj+HRCAADALAsCdUIAAAB/BQx1QgAAgGutFXVCAADAvacfdUIAAAAQoil1QgAAwJb3MnVCAAAA6fE8dUIAAIDVmUZ1QgAAwCeUUHVCAABAFDxadUIAAIBmNmR1QgAAwLgwbnVCAABApdh3dUIAAID30oF1QgAAAOR6i3VCAABANnWVdUIAAICIb591QgAAgKlyqHVCAADA+2yydUIAAEDoFLx1QgAAgDoPxnVCAAAAJ7fPdUIAAEB5sdl1QgAAgMur43VCAAAAuFPtdUIAAEAKTvd1QgAAwPb1AHZCAAAASfAKdkIAAECb6hR2QgAAQLztHXZCAACADugndkIAAAD7jzF2QgAAQE2KO3ZCAADAOTJFdkIAAACMLE92QgAAQN4mWXZCAADAys5idkIAAAAdyWx2QgAAgAlxdnZCAADAW2uAdkIAAACuZYp2QgAAAM9ok3ZCAABAIWOddkIAAMANC6d2QgAAAGAFsXZCAACATK26dkIAAMCep8R2QgAAAPGhznZCAACA3UnYdkIAAMAvROJ2QgAAQBzs63ZCAACAbub1dkIAAMDA4P92QgAAgEc2CXdCAADAmTATd0IAAECG2Bx3QgAAgNjSJndCAAAAxXowd0IAAEAXdTp3QgAAgGlvRHdCAAAAVhdOd0IAAECoEVh3QgAAwJS5YXdCAAAA57Nrd0IAAEA5rnV3QgAAQFqxfndCAACArKuId0IAAACZU5J3QgAAQOtNnHdCAADA1/Wld0IAAAAq8K93QgAAQHzquXdCAADAaJLDd0IAAAC7jM13QgAAgKc013dCAADA+S7hd0IAAABMKet3QgAAAG0s9HdCAABAvyb+d0IAAMCrzgd4QgAAAP7IEXhCAACA6nAbeEIAAMA8ayV4QgAAAI9lL3hCAACAew05eEIAAMDNB0N4QgAAQLqvTHhCAACADKpWeEIAAMBepGB4QgAAwH+naXhCAAAA0qFzeEIAAIC+SX14QgAAwBBEh3hCAABA/euQeEIAAIBP5pp4QgAAwKHgpHhCAABAjoiueEIAAIDggrh4QgAAAM0qwnhCAABAHyXMeEIAAIBxH9Z4QgAAQPh033hCAACASm/peEIAAAA3F/N4QgAAQIkR/XhCAADAdbkGeUIAAADIsxB5QgAAQBquGnlCAADABlYkeUIAAABZUC55QgAAgEX4N3lCAADAl/JBeUIAAADq7Et5QgAAAAvwVHlCAABAXepeeUIAAMBJkmh5QgAAAJyMcnlC\"},\"shape\":[174],\"dtype\":\"float64\",\"order\":\"little\"}],[\"y\",{\"type\":\"ndarray\",\"array\":{\"type\":\"bytes\",\"data\":\"PQrXo3A9I0Dd0wjLPY0jQPDhP3gAHyJAFsTkCmJyIkCu1Eqt1CoiQERTkYlq7iJAvy6pfBh3IkAcWDrJgSUjQNC9CN2L0CJAL85Dx/DiIkAhsHJokS0jQPKUIE8J8iJAF6hCo191IkD5abGNn5YiQMsyxLEubiJAMVf0jpZPIkCwPwH7E7AiQMgED+aJ+iJAMmr42xQjI0BDPujZrPoiQOyXOwkFmiNARN/WAC9II0BudUYq5lYjQNMnfdInvSNA5N/SqzZXIkCWL8li/JUiQPfrksqHMSNAMzMzMzOFIkAicGMZlAojQC3A5jPOAiNAgy3Ygi3YIkD61Iv51IsjQG/iAtTe+SJAfcVXfMUnJEA13yyaBFgjQIRs7riSwCNAZmZmZmbmIkCvf94gnKUiQCCxgDv9ESNAn/fyeS+fI0Cq0OhXvVwjQB23UOqDHSNA+FPjpZtEI0CPC/u4sI8jQKioqKioSCNAboXiVihuI0Dc4J5XUpQjQIIf+IEfeCNA7JB/S6/aI0AEP/ADP7AjQG/2Zm/2ZiNA5b4Kc6JDI0BmZmZmZkojQEhISEhISCNAJCQkJCRkI0AnObB0kgMkQG8xpPMWAyRAl161ucbtI0AtDhaUdPwjQGmYgIyGCSVAXK6SRrVlI0AJkzAJk7AjQBz80bTbpyNAwF9w17zkIkAzMzMzMzsjQHStsuGI6SNAHqrbobqdI0BU46WbxKAkQJqZmZmZ2SNAF2zBFmzBI0DgCGX0tqwjQB6F61G4viJArZY3RjDRIkDS5n2KS4YjQLcI6MFq2iNAn+3Znu3ZIkAcWDrJgSUjQOQ4juM4DiNAXVL5MO5XI0BWusKYalEjQLt4/fMG4SNA1EEd1EFdI0BbDZ4jUHQjQLWBThvodCNAVIWX4fzrJEAvPCFX64IkQM6BSc6BSSRADtXtUN2OJEDOWwzpvGUkQPLneETPUCRAeQOkhSoZJUBWxUX6SnAkQHu8/G/tbCRACAzRUjV2JECsSLyKxCslQJUgTwnytCVAppvEILByJEDKuNgcnYwkQIWyXlMo6yNAa5Pb2ZbhI0As6heR6BUkQEPj9XIoNCRAfB8qcyQ7JEAJBxlT1EYkQP7XoPWk0iRAZ2ZmZmamJEBBOYoPVdgkQK4ZfyMTxyRAbMS/RvxrJEAhWoBEx3MkQFw3tNKD9iVAq6qqqqoAJkAZATgoA6ElQDRJDiG1YSVA6BUSfcltJUBNA9o0oG0lQL7iK77iKyVAEHujUvSQJUClDqvsPDgmQCeaL2QOPCZAXQzkz8VAJkADc4h1wismQOx7AS6SUyZA4yAnDnLiJUCashCtNMMlQIj+YYwLiSVAAAAAAACAJUA+OSh5cKklQKrXkXodqSVAOgj/4V1eJUAWU5hsHLQlQJdyKZdyKSZA2qeav/G+JUDR1bhmU8clQKjCu3JePCVAK3Kha/L2JECDLdiCLRglQLuE2RXt2SRAaGNyNiZnJUA0Mcrq8wolQLhsBfvWhyVAXV1dXV2VJUCYH+n+wqclQGMcFTdDNSZAirYaPEegJUABzbtgQrglQAebAdViYiVAagOdNtApJUDH5WhcjsYkQDsihJ2aHiVAs8slpKlsJUCFwkc9UiglQMU02gKk1iVABj6AxqOqJUB9QZB8QZAlQP1I9xc+lSVADPCwg81bJUCezAN9i1slQPKa6FXAkyVA6fvva5F5JUCIKnUS1wwlQJ7WRifoaSVAsQ3bsA3bJUDTyWLTyWIlQDMzMzMzhSVAvpXJdAOlJUB02ye7vKIlQDnaw9LIJCZA+AYgm4h7JUDdsyDAaIclQK3USq3USiVAXoxGL9JdJUB2KF6H4nUlQGRh0O6PiiVA\"},\"shape\":[174],\"dtype\":\"float64\",\"order\":\"little\"}]]}],[\"W-MON\",{\"type\":\"map\",\"entries\":[[\"x\",{\"type\":\"ndarray\",\"array\":{\"type\":\"bytes\",\"data\":\"AABAY6TSckIAAIAr5dRyQgAAwPMl13JCAAAAvGbZckIAAECEp9tyQgAAgEzo3XJCAADAFCngckIAAADdaeJyQgAAQKWq5HJCAACAbevmckIAAMA1LOlyQgAAAP5s63JCAABAxq3tckIAAICO7u9yQgAAwFYv8nJCAAAAH3D0ckIAAEDnsPZyQgAAgK/x+HJCAADAdzL7ckIAAABAc/1yQgAAQAi0/3JCAACA0PQBc0IAAMCYNQRzQgAAAGF2BnNCAABAKbcIc0IAAIDx9wpzQgAAwLk4DXNCAAAAgnkPc0IAAEBKuhFzQgAAgBL7E3NCAADA2jsWc0IAAACjfBhzQgAAQGu9GnNCAACAM/4cc0IAAMD7Ph9zQgAAAMR/IXNCAABAjMAjc0IAAIBUASZzQgAAwBxCKHNCAAAA5YIqc0IAAECtwyxzQgAAgHUEL3NCAADAPUUxc0IAAAAGhjNzQgAAQM7GNXNCAACAlgc4c0IAAMBeSDpzQgAAACeJPHNCAABA78k+c0IAAIC3CkFzQgAAwH9LQ3NCAAAASIxFc0IAAEAQzUdzQgAAgNgNSnNCAADAoE5Mc0IAAABpj05zQgAAQDHQUHNCAACA+RBTc0IAAMDBUVVzQgAAAIqSV3NCAABAUtNZc0IAAIAaFFxzQgAAwOJUXnNCAAAAq5Vgc0IAAEBz1mJzQgAAgDsXZXNCAADAA1hnc0IAAADMmGlzQgAAQJTZa3NCAACAXBpuc0IAAMAkW3BzQgAAAO2bcnNCAABAtdx0c0IAAIB9HXdzQgAAwEVeeXNCAAAADp97c0IAAEDW331zQgAAgJ4ggHNCAADAZmGCc0IAAAAvooRzQgAAQPfihnNCAACAvyOJc0IAAMCHZItzQgAAAFCljXNCAABAGOaPc0IAAIDgJpJzQgAAwKhnlHNCAAAAcaiWc0IAAEA56ZhzQgAAgAEqm3NCAADAyWqdc0IAAACSq59zQgAAQFrsoXNCAACAIi2kc0IAAMDqbaZzQgAAALOuqHNCAABAe++qc0IAAIBDMK1zQgAAwAtxr3NCAAAA1LGxc0IAAECc8rNzQgAAgGQztnNCAADALHS4c0IAAAD1tLpzQgAAQL31vHNCAACAhTa/c0IAAMBNd8FzQgAAABa4w3NCAABA3vjFc0IAAICmOchzQgAAwG56ynNCAAAAN7vMc0IAAED/+85zQgAAgMc80XNCAADAj33Tc0IAAABYvtVzQgAAQCD/13NCAACA6D/ac0IAAMCwgNxzQgAAAHnB3nNCAABAQQLhc0IAAIAJQ+NzQgAAwNGD5XNCAAAAmsTnc0IAAEBiBepzQgAAgCpG7HNCAADA8obuc0IAAAC7x/BzQgAAQIMI83NCAACAS0n1c0IAAMATivdzQgAAANzK+XNCAABApAv8c0IAAIBsTP5zQgAAwDSNAHRCAAAA/c0CdEIAAEDFDgV0QgAAgI1PB3RCAADAVZAJdEIAAAAe0Qt0QgAAQOYRDnRCAACArlIQdEIAAMB2kxJ0QgAAAD/UFHRCAABABxUXdEIAAIDPVRl0QgAAwJeWG3RCAAAAYNcddEIAAEAoGCB0QgAAgPBYInRCAADAuJkkdEIAAACB2iZ0QgAAQEkbKXRCAACAEVwrdEIAAMDZnC10QgAAAKLdL3RCAABAah4ydEIAAIAyXzR0QgAAwPqfNnRCAAAAw+A4dEIAAECLITt0QgAAgFNiPXRCAADAG6M/dEIAAADk40F0QgAAQKwkRHRCAACAdGVGdEIAAMA8pkh0QgAAAAXnSnRCAABAzSdNdEIAAICVaE90QgAAwF2pUXRCAAAAJupTdEIAAEDuKlZ0QgAAgLZrWHRCAADAfqxadEIAAABH7Vx0QgAAQA8uX3RCAACA125hdEIAAMCfr2N0QgAAAGjwZXRCAABAMDFodEIAAID4cWp0QgAAwMCybHRCAAAAifNudEIAAEBRNHF0QgAAgBl1c3RCAADA4bV1dEIAAACq9nd0QgAAQHI3enRCAACAOnh8dEIAAMACuX50QgAAAMv5gHRCAABAkzqDdEIAAIBbe4V0QgAAwCO8h3RCAAAA7PyJdEIAAEC0PYx0QgAAgHx+jnRCAADARL+QdEIAAAANAJN0QgAAQNVAlXRCAACAnYGXdEIAAMBlwpl0QgAAAC4DnHRCAABA9kOedEIAAIC+hKB0QgAAwIbFonRCAAAATwaldEIAAEAXR6d0QgAAgN+HqXRCAADAp8irdEIAAABwCa50QgAAQDhKsHRCAACAAIuydEIAAMDIy7R0QgAAAJEMt3RCAABAWU25dEIAAIAhjrt0QgAAwOnOvXRCAAAAsg/AdEIAAEB6UMJ0QgAAgEKRxHRCAADACtLGdEIAAADTEsl0QgAAQJtTy3RCAACAY5TNdEIAAMAr1c90QgAAAPQV0nRCAABAvFbUdEIAAICEl9Z0QgAAwEzY2HRCAAAAFRnbdEIAAEDdWd10QgAAgKWa33RCAADAbdvhdEIAAAA2HOR0QgAAQP5c5nRCAACAxp3odEIAAMCO3up0QgAAAFcf7XRCAABAH2DvdEIAAIDnoPF0QgAAwK/h83RCAAAAeCL2dEIAAEBAY/h0QgAAgAik+nRCAADA0OT8dEIAAACZJf90QgAAQGFmAXVCAACAKacDdUIAAMDx5wV1QgAAALooCHVCAABAgmkKdUIAAIBKqgx1QgAAwBLrDnVCAAAA2ysRdUIAAECjbBN1QgAAgGutFXVCAADAM+4XdUIAAAD8Lhp1QgAAQMRvHHVCAACAjLAedUIAAMBU8SB1QgAAAB0yI3VCAABA5XIldUIAAICtsyd1QgAAwHX0KXVCAAAAPjUsdUIAAEAGdi51QgAAgM62MHVCAADAlvcydUIAAABfODV1QgAAQCd5N3VCAACA77k5dUIAAMC3+jt1QgAAAIA7PnVCAABASHxAdUIAAIAQvUJ1QgAAwNj9RHVCAAAAoT5HdUIAAEBpf0l1QgAAgDHAS3VCAADA+QBOdUIAAADCQVB1QgAAQIqCUnVCAACAUsNUdUIAAMAaBFd1QgAAAONEWXVCAABAq4VbdUIAAIBzxl11QgAAwDsHYHVCAAAABEhidUIAAEDMiGR1QgAAgJTJZnVCAADAXAppdUIAAAAlS2t1QgAAQO2LbXVCAACAtcxvdUIAAMB9DXJ1QgAAAEZOdHVCAABADo92dUIAAIDWz3h1QgAAwJ4Qe3VCAAAAZ1F9dUIAAEAvkn91QgAAgPfSgXVCAADAvxOEdUIAAACIVIZ1QgAAQFCViHVCAACAGNaKdUIAAMDgFo11QgAAAKlXj3VCAABAcZiRdUIAAIA52ZN1QgAAwAEalnVCAAAAylqYdUIAAECSm5p1QgAAgFrcnHVCAADAIh2fdUIAAADrXaF1QgAAQLOeo3VCAACAe9+ldUIAAMBDIKh1QgAAAAxhqnVCAABA1KGsdUIAAICc4q51QgAAwGQjsXVCAAAALWSzdUIAAED1pLV1QgAAgL3lt3VCAADAhSa6dUIAAABOZ7x1QgAAQBaovnVCAACA3ujAdUIAAMCmKcN1QgAAAG9qxXVCAABAN6vHdUIAAID/68l1QgAAwMcszHVCAAAAkG3OdUIAAEBYrtB1QgAAgCDv0nVCAADA6C/VdUIAAACxcNd1QgAAQHmx2XVCAACAQfLbdUIAAMAJM951QgAAANJz4HVCAABAmrTidUIAAIBi9eR1QgAAwCo253VCAAAA83bpdUIAAEC7t+t1QgAAgIP47XVCAADASznwdUIAAAAUevJ1QgAAQNy69HVCAACApPv2dUIAAMBsPPl1QgAAADV9+3VCAABA/b39dUIAAIDF/v91QgAAwI0/AnZCAAAAVoAEdkIAAEAewQZ2QgAAgOYBCXZCAADArkILdkIAAAB3gw12QgAAQD/ED3ZCAACABwUSdkIAAMDPRRR2QgAAAJiGFnZCAABAYMcYdkIAAIAoCBt2QgAAwPBIHXZCAAAAuYkfdkIAAECByiF2QgAAgEkLJHZCAADAEUwmdkIAAADajCh2QgAAQKLNKnZCAACAag4tdkIAAMAyTy92QgAAAPuPMXZCAABAw9AzdkIAAICLETZ2QgAAwFNSOHZCAAAAHJM6dkIAAEDk0zx2QgAAgKwUP3ZCAADAdFVBdkIAAAA9lkN2QgAAQAXXRXZCAACAzRdIdkIAAMCVWEp2QgAAAF6ZTHZCAABAJtpOdkIAAIDuGlF2QgAAwLZbU3ZCAAAAf5xVdkIAAEBH3Vd2QgAAgA8eWnZCAADA115cdkIAAACgn152QgAAQGjgYHZCAACAMCFjdkIAAMD4YWV2QgAAAMGiZ3ZCAABAieNpdkIAAIBRJGx2QgAAwBllbnZCAAAA4qVwdkIAAECq5nJ2QgAAgHIndXZCAADAOmh3dkIAAAADqXl2QgAAQMvpe3ZCAACAkyp+dkIAAMBba4B2QgAAACSsgnZCAABA7OyEdkIAAIC0LYd2QgAAwHxuiXZCAAAARa+LdkIAAEAN8I12QgAAgNUwkHZCAADAnXGSdkIAAABmspR2QgAAQC7zlnZCAACA9jOZdkIAAMC+dJt2QgAAAIe1nXZCAABAT/afdkIAAIAXN6J2QgAAwN93pHZCAAAAqLimdkIAAEBw+ah2QgAAgDg6q3ZCAADAAHutdkIAAADJu692QgAAQJH8sXZCAACAWT20dkIAAMAhfrZ2QgAAAOq+uHZCAABAsv+6dkIAAIB6QL12QgAAwEKBv3ZCAAAAC8LBdkIAAEDTAsR2QgAAgJtDxnZCAADAY4TIdkIAAAAsxcp2QgAAQPQFzXZCAACAvEbPdkIAAMCEh9F2QgAAAE3I03ZCAABAFQnWdkIAAIDdSdh2QgAAwKWK2nZCAAAAbsvcdkIAAEA2DN92QgAAgP5M4XZCAADAxo3jdkIAAACPzuV2QgAAQFcP6HZCAACAH1DqdkIAAMDnkOx2QgAAALDR7nZCAABAeBLxdkIAAIBAU/N2QgAAwAiU9XZCAAAA0dT3dkIAAECZFfp2QgAAgGFW/HZCAADAKZf+dkIAAADy1wB3QgAAQLoYA3dCAACAglkFd0IAAMBKmgd3QgAAABPbCXdCAABA2xsMd0IAAICjXA53QgAAwGudEHdCAAAANN4Sd0IAAED8HhV3QgAAgMRfF3dCAADAjKAZd0IAAABV4Rt3QgAAQB0iHndCAACA5WIgd0IAAMCtoyJ3QgAAAHbkJHdCAABAPiUnd0IAAIAGZil3QgAAwM6mK3dCAAAAl+ctd0IAAEBfKDB3QgAAgCdpMndCAADA76k0d0IAAAC46jZ3QgAAQIArOXdCAACASGw7d0IAAMAQrT13QgAAANntP3dCAABAoS5Cd0IAAIBpb0R3QgAAwDGwRndCAAAA+vBId0IAAEDCMUt3QgAAgIpyTXdCAADAUrNPd0IAAAAb9FF3QgAAQOM0VHdCAACAq3VWd0IAAMBztlh3QgAAADz3WndCAABABDhdd0IAAIDMeF93QgAAwJS5YXdCAAAAXfpjd0IAAEAlO2Z3QgAAgO17aHdCAADAtbxqd0IAAAB+/Wx3QgAAQEY+b3dCAACADn9xd0IAAMDWv3N3QgAAAJ8AdndCAABAZ0F4d0IAAIAvgnp3QgAAwPfCfHdCAAAAwAN/d0IAAECIRIF3QgAAgFCFg3dCAADAGMaFd0IAAADhBoh3QgAAQKlHindCAACAcYiMd0IAAMA5yY53QgAAAAIKkXdCAABAykqTd0IAAICSi5V3QgAAwFrMl3dCAAAAIw2ad0IAAEDrTZx3QgAAgLOOnndCAADAe8+gd0IAAABEEKN3QgAAQAxRpXdCAACA1JGnd0IAAMCc0ql3QgAAAGUTrHdCAABALVSud0IAAID1lLB3QgAAwL3VsndCAAAAhha1d0IAAEBOV7d3QgAAgBaYuXdCAADA3ti7d0IAAACnGb53QgAAQG9awHdCAACAN5vCd0IAAMD/28R3QgAAAMgcx3dCAABAkF3Jd0IAAIBYnst3QgAAwCDfzXdCAAAA6R/Qd0IAAECxYNJ3QgAAgHmh1HdCAADAQeLWd0IAAAAKI9l3QgAAQNJj23dCAACAmqTdd0IAAMBi5d93QgAAACsm4ndCAABA82bkd0IAAIC7p+Z3QgAAwIPo6HdCAAAATCnrd0IAAEAUau13QgAAgNyq73dCAADApOvxd0IAAABtLPR3QgAAQDVt9ndCAACA/a34d0IAAMDF7vp3QgAAAI4v/XdCAABAVnD/d0IAAIAesQF4QgAAwObxA3hCAAAArzIGeEIAAEB3cwh4QgAAgD+0CnhCAADAB/UMeEIAAADQNQ94QgAAQJh2EXhCAACAYLcTeEIAAMAo+BV4QgAAAPE4GHhCAABAuXkaeEIAAICBuhx4QgAAwEn7HnhCAAAAEjwheEIAAEDafCN4QgAAgKK9JXhCAADAav4neEIAAAAzPyp4QgAAQPt/LHhCAACAw8AueEIAAMCLATF4QgAAAFRCM3hCAABAHIM1eEIAAIDkwzd4QgAAwKwEOnhCAAAAdUU8eEIAAEA9hj54QgAAgAXHQHhCAADAzQdDeEIAAACWSEV4QgAAQF6JR3hCAACAJspJeEIAAMDuCkx4QgAAALdLTnhCAABAf4xQeEIAAIBHzVJ4QgAAwA8OVXhCAAAA2E5XeEIAAECgj1l4QgAAgGjQW3hCAADAMBFeeEIAAAD5UWB4QgAAQMGSYnhCAACAidNkeEIAAMBRFGd4QgAAABpVaXhCAABA4pVreEIAAICq1m14QgAAwHIXcHhCAAAAO1hyeEIAAEADmXR4QgAAgMvZdnhCAADAkxp5eEIAAABcW3t4QgAAQCScfXhCAACA7Nx/eEIAAMC0HYJ4QgAAAH1ehHhCAABARZ+GeEIAAIAN4Ih4QgAAwNUgi3hCAAAAnmGNeEIAAEBmoo94QgAAgC7jkXhCAADA9iOUeEIAAAC/ZJZ4QgAAQIelmHhCAACAT+aaeEIAAMAXJ514QgAAAOBnn3hCAABAqKiheEIAAIBw6aN4QgAAwDgqpnhCAAAAAWuoeEIAAEDJq6p4QgAAgJHsrHhCAADAWS2veEIAAAAibrF4QgAAQOqus3hCAACAsu+1eEIAAMB6MLh4QgAAAENxunhCAABAC7K8eEIAAIDT8r54QgAAwJszwXhCAAAAZHTDeEIAAEAstcV4QgAAgPT1x3hCAADAvDbKeEIAAACFd8x4QgAAQE24znhCAACAFfnQeEIAAMDdOdN4QgAAAKZ61XhCAABAbrvXeEIAAIA2/Nl4QgAAwP483HhCAAAAx33eeEIAAECPvuB4QgAAgFf/4nhCAADAH0DleEIAAADogOd4QgAAQLDB6XhCAACAeALseEIAAMBAQ+54QgAAAAmE8HhCAABA0cTyeEIAAICZBfV4QgAAwGFG93hCAAAAKof5eEIAAEDyx/t4QgAAgLoI/nhCAADAgkkAeUIAAABLigJ5QgAAQBPLBHlCAACA2wsHeUIAAMCjTAl5QgAAAGyNC3lCAABANM4NeUIAAID8DhB5QgAAwMRPEnlCAAAAjZAUeUIAAEBV0RZ5QgAAgB0SGXlCAADA5VIbeUIAAACukx15QgAAQHbUH3lCAACAPhUieUIAAMAGViR5QgAAAM+WJnlCAABAl9coeUIAAIBfGCt5QgAAwCdZLXlCAAAA8JkveUIAAEC42jF5QgAAgIAbNHlCAADASFw2eUIAAAARnTh5QgAAQNndOnlCAACAoR49eUIAAMBpXz95QgAAADKgQXlCAABA+uBDeUIAAIDCIUZ5QgAAwIpiSHlCAAAAU6NKeUIAAEAb5Ex5QgAAgOMkT3lCAADAq2VReUIAAAB0plN5QgAAQDznVXlCAACABChYeUIAAMDMaFp5QgAAAJWpXHlCAABAXepeeUIAAIAlK2F5QgAAwO1rY3lCAAAAtqxleUIAAEB+7Wd5QgAAgEYuanlCAADADm9seUIAAADXr255QgAAQJ/wcHlCAACAZzFzeUIAAMAvcnV5QgAAAPiyd3lC\"},\"shape\":[756],\"dtype\":\"float64\",\"order\":\"little\"}],[\"y\",{\"type\":\"ndarray\",\"array\":{\"type\":\"bytes\",\"data\":\"zczMzMzMGkCHtW9Y+wYjQJqZmZmZuSNACHVQB3VQI0BhuacRlnsjQLy7u7u7WyNAcFj7hrXvIkB8xVd8xVckQOJ6FK5HoSNAERERERERIkAj7ViBMNIiQF8qaPWlgiFASq3USq3UIkCcKNm1iZIhQBFYObTIdiJAv2HtG9a+IkAVFRUVFRUhQM3MzMzMTCRAR27kRm7kIUCJiIiIiEgiQFFRUVFRUSJAVII8JchTIkD9nlvi1O8iQKVP+qRP+iFAJ3ZiJ3biI0CZmZmZmZkjQAAAAAAAwCFAAAAAAACAJEBEREREREQjQGdmZmZmliJAFa5H4XpUIkCU11BeQ3kiQIJOG+i0ASNAeUqQpwR5JUCJiIiIiIgjQK8i8SoSryJAFl/xFV/xIkCw+Iqv+EojQL9NMWr42yJADLZgC7ZgIUBxPQrXo7AiQDMzMzMzMyRAB3VQB3VQI0AREREREXEiQAAAAAAAoCNAwcDAwMDAIkBr+NsUo4YjQOQ4juM4DiNAsPiKr/hKIkBqA5020GkjQMnJycnJySJA7+7u7u5uJEC96U1vetMhQF/xFV/x1SJAcer33BKnIkDNzMzMzMwhQDMzMzMzMyNAnN70pje9IkCZmZmZmZkhQIe1b1j7hiJAjtzIjdzIIkC4fMu3fMshQPYoXI/CtSJAsRM7sRM7IkDe3d3d3V0iQB2Boq0GzyNAzczMzMzMIkALxa1Q3AoiQHmLIZ23GCNAt23btm3bIUAUOIETOIEjQBj365LKhyJAiYiIiIgIIkA5f5bzZzkiQIYX56FjeCNAMzMzMzPTIkAAAAAAAKAiQOxRuB6F6yJAAAAAAADAIkAzMzMzMzMoQDMzMzMzcyRAvLu7u7s7IkDuaYTlnkYiQD81XrpJDCNAUrgeheuRJEC6zy4gNpUiQN0Sp37PLSJALuVSLuVSI0AiIiIiIqIkQAy2YAu2YCRAU7/nljj1IkBoq8FzBIoiQKabxCCwciNAHNa+Ye0bI0DJycnJyUkjQDMzMzMzsyRAaUCbBrRpI0CfW+LU77kiQJwo2bWJkiNAWqmVWqmVI0AUO7ETOzEjQOJ6FK5HYSNA6aKLLrroJkB+zy1x6vchQAAAAAAA0CNAFggj7ViBIUCkHSsQRtojQFHD36YYNSJAZZNNNtlkIUBbobgVilsjQFVVVVVVVSJAzczMzMzMIkBI4XoUrkciQFpaWlpaWiNA7NpEya5NIkCTXyz5xRIjQIiIiIiIiCNAAAAAAAAAJ0DOx+B8DM4iQEMv9EIvdCFA8AM/8AO/IkDNzMzMzMwiQD4K16NwPSNA6vfcEqd+I0DHxsbGxsYiQF8qaPWlgiJAuBWKW6G4IkD2Yz/2Yz8iQKx9w9o3LCRA5BdLfrHkIkCSJEmSJEkjQEM6bzGk8yJAP/ZjP/ZjI0AFW7AFW7AhQAAAAAAAgCVA7u3t7e3tIkBxPQrXo7AjQOtRuB6FKyJASpCnBHnKI0BJkiRJkiQkQNNNYhBYOSNAP7uA2FQaI0Am+jtZLW8iQPYoXI/CFSNARERERETEJECamZmZmRkjQM3MzMzMzCJAE+QpQZ6SJUBcj8L1KFwlQBERERERESRA9ihcj8J1IkAt2IIt2IIjQITlnkZY7iJAD+qgDuqgIkDC9Shcj4IjQEqf9Emf9CRAvLu7u7s7I0AzMzMzM0MiQKrfc0uc+iJAxNo3rH3DI0DsUbgehesjQAd1UAd1ECJA+7Ef+7EfI0DNzMzMzAwiQKEO6qAO6iJAtvP91HjpIUCOjY2NjY0kQMDjDwc8/iFA6ZM+6ZM+I0BISEhISEgiQP3hgMcfDiRAIIy0YwXCIkDNzMzMzMwkQOxPwP4E7CNASZIkSZJkI0D+1HjpJjEjQMpqeWMEEyNAX/EVX/FVI0AFW7AFWzAjQB0rEEbasSNAnisPSNa5IkCamZmZmRkkQML1KFyPwiJAlQck61x5I0DiehSuR+EhQMzMzMzMzCNAAAAAAAAAI0AAAAAAAAAmQOQpQZ4S5CRAzczMzMxMI0De3d3d3d0jQB6I34H4HSNAmpmZmZl5I0DNzMzMzMwiQH3FV3zFFyJAfsPaN6z9I0AzMzMzM6MkQH3FV3zF1yNAzpUHJOtcI0CU1fLGCCYjQM3MzMzMBCRA+N577733I0AzMzMzM6MiQKEO6qAO6iJA6vfcEqd+I0DNzMzMzCwjQFuplVqplSVAZmZmZmbmI0AzMzMzM3MhQJqZmZmZmSNA/Ia1b1j7IkDHcRzHcZwjQLdt27ZtWyRAagOdNtBpJEBXaqVWaqUjQJmZmZmZGSRAMzMzMzOzJkDNzMzMzBwiQBdswRZsQSRAAAAAAACgIkAtsp3vp8YjQOXk5OTk5CJAUAd1UAd1IkCKioqKioojQDMzMzMzMyNADw8PDw8PI0AP6qAO6qAjQFh8xVd8RSRAJ3ZiJ3ZiIkD1pje96U0jQBd6oRd6oSNA1r5h7RtWI0CF61G4HoUjQNejcD0KVyNAbuRGbuTGIkBVVVVVVVUjQGdmZmZmZiNAjuM4juM4JEDC9Shcj8IiQEjhehSuRyJAzczMzMzsI0AzMzMzMzMjQM3MzMzMjCRAvtALvdCLJEAGW7AFW7AjQMTaN6x9QyRA05ve9KY3JEAAAAAAAAAkQKO+s1Hf2SNAAAAAAAAgJEALWchCFrIjQLHkF0t+sSNAq6qqqqoqJUBnZmZmZuYjQAAAAAAAgCRAMJb8YsmvI0DWqViditUjQOfKA5J1riRADi2yne+nJUAAAAAAAAAmQJqZmZmZuSNA8fDw8PDwI0C+4iu+4qsiQNu2bdu2bSNA8AM/8AM/JEAzMzMzMzMjQBOnfs8tcSNAirYaPEegIkBmZmZmZoYlQLy7u7u7uyNA6qAO6qAOJECO4ziO47giQAAAAAAAACVAMzMzMzNzIUBYfMVXfMUiQHE9CtejsCJAUy7lUi7lIkB9xVd8xdciQN7d3d3d3SJAZmZmZmYmJUBf8RVf8RUiQKuqqqqqCiNAREREREREJEB2SeXDuF8kQOp2qG6H6iNAAAAAAABAJEAAAAAAAMAhQLolTv2eWyRAA2GkHSsQI0Dv7u7u7u4jQC3Ygi3YgiNAFa5H4XoUI0AjIiIiIqIjQCIiIiIi4iNAbMEWbMEWJkApXI/C9SgkQD0K16NwPSVA9ihcj8K1JEAcx3Ecx/EiQOqgDuqgDiNAmpmZmZmZI0C+4iu+4isiQCpBnhLkKSRAdmIndmInJECt0Rqt0RokQJQ+6ZM+6SJAMzMzMzMzJkBLS0tLS0sjQIIw0o4VCCNAFRUVFRUVJECamZmZmfkhQArXo3A9CiVAvLu7u7s7IkBERERERAQhQM3MzMzMzCJA+7Ef+7EfI0BdXV1dXV0iQNiCLdiCrSNAeHd3d3e3I0A/8AM/8AMkQMovlvxiySJACtejcD3KI0DNzMzMzMwjQFuwBVuwhSRAwRZswRZsJEDNzMzMzCwiQL2G8hrKayNAmpmZmZkJI0BswRZswZYjQBsbGxsbGyJACtejcD3KIkAPSNa58oAjQFmBMNKOFSRAiIeHh4eHIkCrqqqqqqoiQLAFW7AFWyJAVII8JchTJEDsUbgehesiQBERERERkSJA+6RP+qRPIkCamZmZmUkjQPcNa9+w9iJAKH3SJ33SI0AzMzMzM7MkQKOioqKioiNARERERETEI0AMvdALvdAiQO/u7u7u7iJAQh3UQR1UIUAehetRuB4jQLKxsbGxsSVAPDw8PDw8JEAY9+uSyockQISRdqxAGCRADw8PDw8PIkBYfMVXfIUjQDw8PDw8PCNA7+7u7u7uIkD94YDHHw4jQF3KpVzKpSJATwnylCBPJECamZmZmVkkQO/u7u7uriNAsAVbsAVbJUApXI/C9egiQK5H4XoUriFAgy3Ygi0YJEC1gU4b6DQlQAnK3teEoCRAqt9zS5z6JECh4aTuy2MlQJGB9P5cqyNA0hMcPcHRJEAAAAAAAEAkQLHkF0t+MSRAvLu7u7srJEDXo3A9ClclQNSANg1oUyRA4sV56BheI0C5efIdGTYkQO9TXDIE6yRAHdRBHdRBJECZmZmZmdkkQAVO4AROYCVA7+7u7u4uJEDsNsduc+wjQC4ZgnW0eSRA7OPCPi7sI0C/VNDqS4UkQALKHaDcASRA6naobodqJEBo9aWCVl8kQGIndmIn9iRAQh3UQR2UJUAK16NwPeokQEV/J6vljSVASauYtIpJJECh3AHKHaAjQLNKVxhTLSRAkrcheRuSJEBPVssbI5glQN/e3t7eniRA6tJUH/kmJEDIsEHcPPkjQIrEq0i8iiRAAAAAAAD0I0AQ/MAP/IAkQNFWg+cIlCRAzczMzMzMJUAzMzMzM7MkQBKWexphuSVADi2yne8nJUAAAAAAAMAkQAJ3+iMWcCVAAAAAAAAAJkCVD+N+XVImQOxRuB6F6yVArkfhehQuI0DgJbLK+10jQIDo2xrghSRAtiZla1K2JEBSWXWeuJokQFQo6zWFsiRAZfcbZfcbJUCq8dJNYtAkQIz2m/JcgiRARC176mS4I0AzMzMzMxMkQFeb/nvkkCNAWgCD2ThjI0Af+7Ef+7EkQJSxir7O4yNAArGpNOQcJEDu1yWVDyMkQFS8lrEwaCNAIiIiIiIiJEAENxerbtQjQCoOGXvt8iNAxanfc0v8I0DU/MpAza8kQKvk3sWuSiRAhZQVMfycI0ApsbWTElskQENCQkJCwiRAA2GkHSsQJEDPPnyGXQEkQHkTF6D2ziNAiYiIiIiIJEB0w3dNLmgkQA4oE1e6NyRA4U1cgNo7JEBnATafcRYkQM9bDOm8xSRASklJSUlJJUA7T5UKpcEkQOQtzcELqyRAAAAAAACAJEB9aKwPjXUkQG2O3ebYbSRAAAAAAABAJECwlzXwhgolQOfxShNW7CRAxNo3rH3DJEDtWIEw0u4kQL05oUQDtyRA26vDt706JUA1rePNCaUkQAR882ri2SRAFX2dx+S9JEC+4iu+4qskQO1K1K5E7SNA3d3d3d3dI0B+HThnRGkkQPTZMJg8nyRA/Z2sljfGJEAHOm2g0wYlQHDKcwlkjSRAZ4Vk6m1WJEAt589y/iwkQAcdqG3QgSRARn7UU/Q7JkDNzMzMzMwmQHDpVZtr3CZA7+7u7u6OJUDGZEzGZEwmQAAAAAAAACZA2Ymd2ImdJkCLUcPfplglQLOgm3XYPSZAg4KCgoKCJUCEkXasQFglQG0r15zqgiVAdM4555xzJUCKtho8R6AlQMHRExw9ASVAD+qgDupwJUAclaKHvVEmQGn9i3iSGiVAaccKhJE2JEBCqpSRbLAlQGPNUTfWHCVAxibmu4JTJUAXS36x5NclQM3MzMzMriVAzMzMzMwMJUAAAAAAAG4lQNjF6583CCVAWOAev/nvJECVHaYutz8lQMdxHMdxPCVAy1IcMvbaJUAJ8IwAzwglQK8i8SoSryVAaoLxVvY5JkBVGFDyslcmQEzHtnRsSyZAdVAHdVDHJUBq+qGmH2omQG8iZPcmQiZAuNkvxIrSJUBmZmZmZmYmQEDL+bOcPydAVT6M+3VJJUDNzMzMzEwmQKEcDMrBoCZANyRvQ/I2JkAlJCQkJCQmQH0Y9+uSSiZA2tra2tpaJkCSJEmSJJklQMvBzX4hViZAjCW/WPILJkAzMzMzMyUmQGL4OeMTBSZAIyIiIiISJ0AdUe/gbdUmQA1uJ8/gdiVAXlL5MO7XJUD1BEdPcPQlQInNvtYP0yVAv2HtG9b+JUAAAAAAAOAlQDeWQakw8SVAYznx8jVrJUA7TF1uf5AlQPLE+UYaTyVAsexFc+JuJUC8bhXC69YlQIiHh4eHhyVAqoWVnlpYJUD4+Pj4+PgkQEmf9Emf9CVAKH3SJ33SJUAXZFyQcUElQLN16DdbhyVAehamZ2F6JUAd22POa+klQFfAWgFrBSZA39eEoOx9JUANsGov3GElQIS7se8ROSZASfbB/d0mJUB/XVL5MO4lQCbPZ8Ng8iRA8RVf8RXfJEDYgi3Ygg0mQJxVn6ut2CVAHfPrpyGmJUB+qaDVl0olQJU8y4g+oCVAFRUVFRUVJkDNzMzMzEwmQJ7YiZ3YaSZAodWXClp9JkA+6ZM+6ZMlQJ4Mh1r21CVAxhPhZEE3JUCn5hBKeQQmQGJhYWFh4SVAchzHcRzHJUBSgS+uftAlQPUfq9649iVAdAH8yhGPJUBXaqVWaqUlQHUW01lM5yRAaWlpaWnpJECDeBrMCj8lQCQIeGqimyVASg1CuXraJEBtw5u4ALUkQLAj9TpS7yRAj8L1KFwPJUD0TUzfxPQkQMre14SgLCVAf4QDGUDkJEByugc4FmElQB3QjXn6aCRA7+7u7u7uJEDUKGMVfR0lQM3MzMzM3iRAw3vQhv4bJUC29JNjSz8lQOMxHuMxHiVAZ2ZmZmamJUBW0qi2XKUlQCN/X2J5MSVA6Pup8dKNJEBiuirUQDAlQOtBI+/8LSVAxVd8xVf8JEDA+qu/+qslQETumEPumCVANk5aYOOkJUDmcrlcLpclQHvefLsVYyVA+l6Ai+SsJUB1Mhxq2dMlQIEExY8xdyVAcuIgJw5yJUDAxKdVQrYlQD1DjQWpUiVAwRoZrJHBJUD1OlKvI/UlQEw3iUFgJSZAKGpeV4aiJkC562eLleEmQDMzMzMzMyVAAyzbfDnAJEDNzMzMzMAlQP1Zzp/lvCVAAvzKEY/2JUDKkejs+aAlQE7Byyl4OSZA/dR46SaxJUBrGR3XCFglQC0tLS0tLSVAcvPkOzLsJEABaaFKRjklQGPANAZMoyVAmpmZmZnVJUAK1RKgUC0lQK6urq6uriRAmpmZmZmJJUBmZmZmZi4lQPBPAv8k8CRAsRfPv2udJEA5L4v4BFIlQMf8l2XMfyRA1GBW+KnoJEB9y7d8y/ckQN7d3d3d3SRAJHKCcDf2JEA+CtejcH0lQBhBrHYRxCVAzczMzMzMJUCMGv42xegkQLLBeidAaCVAhta/iCepJECBKjT6VS8lQJmG7WZ5EiVAPSbvjQ84JUA0OJ6tRYMlQDmyUTTH6CVAMMsr6H37JUB84wMuSyQmQAkUbTV4TiVAt5bFuh+cJUDC61YhvC4mQML1KFyPwiVAqtuhuh0qJUC/ShibBdUlQD5xpNcKviVArvlhkTJwJUDaGn83j1AlQHsUrkfheiVAwc6hfoQDJUDOng9iWT8mQIXwulUILyZAbMEWbMFWJEDCSDtWIAwlQN3d3d3dVSVAsIg93QmLJUCv4BTyszIlQB2Boq0GzyVAE68i8SoSJUDNzMzMzHwlQEIapEEaZCVA+z23xKk/JUD6WwGpvxUlQKwokDPypSVAZmZmZmYGJkDWvmHtG5YlQDtXHpCscyVAcfo1GKdfJUD8bYpRw18lQDA9C9OzsCVAWXbjwWkiJUC0aUCbBrQkQEBuXd4BRyVAUS0BCtUSJUApXI/C9SglQB3UQR3UwSVANYrfNIrfJEC0XWctiWIlQBzHcRzHwSVAAs6aZzSBJUCiQCO21y8mQNNazIu6YyZA3mJI5y2GJUB32FauOdUkQCoJfchkXyVAPMzDPMzDJUAbGxsbG7slQKVEOYMiFyVAThlX5JRxJUCVxRntHrYlQB6q26G6XSVARuhehO6FJUBZlmVZlmUlQONIrxV84iVAPN9PjZfuJUBaHOHcbkIlQOgthnTeoiVAsPiKr/iKJUCgwmzi2B4mQF1LwXDsSSVAmwa0aUCbJUBxPQrXoxAmQM3MzMzMbCZAZmZmZmYmJkArvuIrvuIlQP6FT2UpDiRAciM3ciM3JUB6gqMnOLolQHrTm970piVAYm9Uih72JUC3bdu2bdskQF4XXNQmtyVA1BTYIf8WJkDd/iBDZYclQEfhehSuByVA4U1cgNq7JUA8VLdDdfskQJ+KzjGvFyVA/JaccRCkJUCcnJycnLwlQOQ93uM93iRAOz2c+PWWJEAf8ya8pzYlQNhcSJpS8SRAJ2VrUramJUDgH1Z2kSEmQAbCSDtWoCVAxVd8xVd8JUCKC1B75/UkQOXsFn41JiZA\"},\"shape\":[756],\"dtype\":\"float64\",\"order\":\"little\"}]]}]]}]]}],[\"radio_button_group_time\",{\"type\":\"object\",\"name\":\"RadioButtonGroup\",\"id\":\"p1060\",\"attributes\":{\"js_property_callbacks\":{\"type\":\"map\",\"entries\":[[\"change:active\",[{\"id\":\"p1062\"}]]]},\"labels\":[\"Yearly\",\"Monthly\",\"Weekly\"],\"active\":0}}],[\"radio_button_group_metric\",{\"id\":\"p1061\"}]]},\"code\":\"                \\n        // Access the value of the switch\\n        // const sources = switch_element.active ? relative_sources : absolute_sources;\\n\\n        // Access the value of the RadioButtonGroup Time\\n        const mode = radio_button_group_time.active;\\n        \\n        // Access the value of the RadioButtonGroup\\n        const base = radio_button_group_metric.active;\\n    \\n        // Retrieve the selected frequency\\n        const freq = [\\\"Y\\\", \\\"M\\\", \\\"W-MON\\\"][mode];\\n\\n        // Retrieve the selected metric\\n        const metric = [\\\"Flesch\\\", \\\"ARI\\\", \\\"Coleman_Liau\\\", \\\"Wiener_Sachtextformel\\\"][base];\\n    \\n        // update data source and emit change event\\n        line.data_source.data = sources[metric][freq];\\n        line.data_source.change.emit();\\n    \"}}]]]},\"labels\":[\"Flesch\",\"ARI\",\"Coleman_Liau\",\"Wiener_Sachtextformel\"],\"active\":0}},{\"id\":\"p1060\"}]}},{\"type\":\"object\",\"name\":\"Figure\",\"id\":\"p1004\",\"attributes\":{\"width\":700,\"height\":400,\"x_range\":{\"type\":\"object\",\"name\":\"DataRange1d\",\"id\":\"p1005\"},\"y_range\":{\"type\":\"object\",\"name\":\"DataRange1d\",\"id\":\"p1006\"},\"x_scale\":{\"type\":\"object\",\"name\":\"LinearScale\",\"id\":\"p1014\"},\"y_scale\":{\"type\":\"object\",\"name\":\"LinearScale\",\"id\":\"p1015\"},\"title\":{\"type\":\"object\",\"name\":\"Title\",\"id\":\"p1007\",\"attributes\":{\"text\":\"Lesbarkeitsma\\u00df\"}},\"renderers\":[{\"id\":\"p1057\"}],\"toolbar\":{\"type\":\"object\",\"name\":\"Toolbar\",\"id\":\"p1013\",\"attributes\":{\"tools\":[{\"type\":\"object\",\"name\":\"PanTool\",\"id\":\"p1038\"},{\"type\":\"object\",\"name\":\"WheelZoomTool\",\"id\":\"p1039\",\"attributes\":{\"renderers\":\"auto\"}},{\"type\":\"object\",\"name\":\"BoxZoomTool\",\"id\":\"p1040\",\"attributes\":{\"overlay\":{\"type\":\"object\",\"name\":\"BoxAnnotation\",\"id\":\"p1041\",\"attributes\":{\"syncable\":false,\"line_color\":\"black\",\"line_alpha\":1.0,\"line_width\":2,\"line_dash\":[4,4],\"fill_color\":\"lightgrey\",\"fill_alpha\":0.5,\"level\":\"overlay\",\"visible\":false,\"left\":{\"type\":\"number\",\"value\":\"nan\"},\"right\":{\"type\":\"number\",\"value\":\"nan\"},\"top\":{\"type\":\"number\",\"value\":\"nan\"},\"bottom\":{\"type\":\"number\",\"value\":\"nan\"},\"left_units\":\"canvas\",\"right_units\":\"canvas\",\"top_units\":\"canvas\",\"bottom_units\":\"canvas\",\"handles\":{\"type\":\"object\",\"name\":\"BoxInteractionHandles\",\"id\":\"p1047\",\"attributes\":{\"all\":{\"type\":\"object\",\"name\":\"AreaVisuals\",\"id\":\"p1046\",\"attributes\":{\"fill_color\":\"white\",\"hover_fill_color\":\"lightgray\"}}}}}}}},{\"type\":\"object\",\"name\":\"SaveTool\",\"id\":\"p1048\"},{\"type\":\"object\",\"name\":\"ResetTool\",\"id\":\"p1049\"},{\"type\":\"object\",\"name\":\"HelpTool\",\"id\":\"p1050\"}]}},\"left\":[{\"type\":\"object\",\"name\":\"LinearAxis\",\"id\":\"p1033\",\"attributes\":{\"ticker\":{\"type\":\"object\",\"name\":\"BasicTicker\",\"id\":\"p1034\",\"attributes\":{\"mantissas\":[1,2,5]}},\"formatter\":{\"type\":\"object\",\"name\":\"BasicTickFormatter\",\"id\":\"p1035\"},\"axis_label\":\"Durschnittlicher Score\",\"major_label_policy\":{\"type\":\"object\",\"name\":\"AllLabels\",\"id\":\"p1036\"}}}],\"below\":[{\"type\":\"object\",\"name\":\"DatetimeAxis\",\"id\":\"p1016\",\"attributes\":{\"ticker\":{\"type\":\"object\",\"name\":\"DatetimeTicker\",\"id\":\"p1017\",\"attributes\":{\"num_minor_ticks\":5,\"tickers\":[{\"type\":\"object\",\"name\":\"AdaptiveTicker\",\"id\":\"p1018\",\"attributes\":{\"num_minor_ticks\":0,\"mantissas\":[1,2,5],\"max_interval\":500.0}},{\"type\":\"object\",\"name\":\"AdaptiveTicker\",\"id\":\"p1019\",\"attributes\":{\"num_minor_ticks\":0,\"base\":60,\"mantissas\":[1,2,5,10,15,20,30],\"min_interval\":1000.0,\"max_interval\":1800000.0}},{\"type\":\"object\",\"name\":\"AdaptiveTicker\",\"id\":\"p1020\",\"attributes\":{\"num_minor_ticks\":0,\"base\":24,\"mantissas\":[1,2,4,6,8,12],\"min_interval\":3600000.0,\"max_interval\":43200000.0}},{\"type\":\"object\",\"name\":\"DaysTicker\",\"id\":\"p1021\",\"attributes\":{\"days\":[1,2,3,4,5,6,7,8,9,10,11,12,13,14,15,16,17,18,19,20,21,22,23,24,25,26,27,28,29,30,31]}},{\"type\":\"object\",\"name\":\"DaysTicker\",\"id\":\"p1022\",\"attributes\":{\"days\":[1,4,7,10,13,16,19,22,25,28]}},{\"type\":\"object\",\"name\":\"DaysTicker\",\"id\":\"p1023\",\"attributes\":{\"days\":[1,8,15,22]}},{\"type\":\"object\",\"name\":\"DaysTicker\",\"id\":\"p1024\",\"attributes\":{\"days\":[1,15]}},{\"type\":\"object\",\"name\":\"MonthsTicker\",\"id\":\"p1025\",\"attributes\":{\"months\":[0,1,2,3,4,5,6,7,8,9,10,11]}},{\"type\":\"object\",\"name\":\"MonthsTicker\",\"id\":\"p1026\",\"attributes\":{\"months\":[0,2,4,6,8,10]}},{\"type\":\"object\",\"name\":\"MonthsTicker\",\"id\":\"p1027\",\"attributes\":{\"months\":[0,4,8]}},{\"type\":\"object\",\"name\":\"MonthsTicker\",\"id\":\"p1028\",\"attributes\":{\"months\":[0,6]}},{\"type\":\"object\",\"name\":\"YearsTicker\",\"id\":\"p1029\"}]}},\"formatter\":{\"type\":\"object\",\"name\":\"DatetimeTickFormatter\",\"id\":\"p1030\"},\"axis_label\":\"Zeit\",\"major_label_policy\":{\"type\":\"object\",\"name\":\"AllLabels\",\"id\":\"p1031\"}}}],\"center\":[{\"type\":\"object\",\"name\":\"Grid\",\"id\":\"p1032\",\"attributes\":{\"axis\":{\"id\":\"p1016\"}}},{\"type\":\"object\",\"name\":\"Grid\",\"id\":\"p1037\",\"attributes\":{\"dimension\":1,\"axis\":{\"id\":\"p1033\"}}}]}}]}}]}};\n",
       "  const render_items = [{\"docid\":\"ee581c69-9f16-4368-85ec-cfdb98dd385b\",\"roots\":{\"p1064\":\"a7aaabce-d5fe-4c37-9fac-78272aa7a9b2\"},\"root_ids\":[\"p1064\"]}];\n",
       "  void root.Bokeh.embed.embed_items_notebook(docs_json, render_items);\n",
       "  }\n",
       "  if (root.Bokeh !== undefined) {\n",
       "    embed_document(root);\n",
       "  } else {\n",
       "    let attempts = 0;\n",
       "    const timer = setInterval(function(root) {\n",
       "      if (root.Bokeh !== undefined) {\n",
       "        clearInterval(timer);\n",
       "        embed_document(root);\n",
       "      } else {\n",
       "        attempts++;\n",
       "        if (attempts > 100) {\n",
       "          clearInterval(timer);\n",
       "          console.log(\"Bokeh: ERROR: Unable to run BokehJS code because BokehJS library is missing\");\n",
       "        }\n",
       "      }\n",
       "    }, 10, root)\n",
       "  }\n",
       "})(window);"
      ],
      "application/vnd.bokehjs_exec.v0+json": ""
     },
     "metadata": {
      "application/vnd.bokehjs_exec.v0+json": {
       "id": "p1064"
      }
     },
     "output_type": "display_data"
    }
   ],
   "source": [
    "plot_with_js(results_filtered)"
   ]
  }
 ],
 "metadata": {
  "kernelspec": {
   "display_name": "Python 3 (ipykernel)",
   "language": "python",
   "name": "python3"
  },
  "language_info": {
   "codemirror_mode": {
    "name": "ipython",
    "version": 3
   },
   "file_extension": ".py",
   "mimetype": "text/x-python",
   "name": "python",
   "nbconvert_exporter": "python",
   "pygments_lexer": "ipython3",
   "version": "3.12.8"
  }
 },
 "nbformat": 4,
 "nbformat_minor": 5
}
