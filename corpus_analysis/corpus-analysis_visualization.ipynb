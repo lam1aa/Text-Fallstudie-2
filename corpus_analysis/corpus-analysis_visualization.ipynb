{
 "cells": [
  {
   "cell_type": "markdown",
   "id": "f9a69fbe-87d1-4602-b4ad-89a8248e27de",
   "metadata": {},
   "source": [
    "# 🚀 Korpusanalyse – Visualisierung der Textkomplexität"
   ]
  },
  {
   "cell_type": "markdown",
   "id": "1c87b24e-2a0e-46df-bd3c-3a57d0940830",
   "metadata": {},
   "source": [
    "<div class=\"alert alert-block alert-info\"> <b> 🔔 Feinlernziel(e) dieses Kapitels</b></br>\n",
    "   Sie können die Konzeption der Analyse beschreiben und andere Möglichkeiten des Korpus-Splitting entwerfen. </br>\n",
    "    Sie können das Konzept eines Balkendiagramms erklären und das erstellte Diagramm interpretieren sowie die Gründe für Ihre Interpretation nennen.\n",
    "\n",
    "</div>"
   ]
  },
  {
   "cell_type": "markdown",
   "id": "90be2979-44f4-4b9d-851c-d855755d24f5",
   "metadata": {},
   "source": [
    "## Hinweise zur Ausführung des Notebooks\n",
    "Dieses Notebook kann auf unterschiedlichen Levels erarbeitet werden (siehe Abschnitt [\"Technische Voraussetzungen\"](../markdown/introduction_requirements)): \n",
    "1. Book-Only Mode\n",
    "2. Cloud Mode: Dafür auf 🚀 klicken und z.B. in Colab ausführen.\n",
    "3. Local Mode: Dafür auf Herunterladen ↓ klicken und \".ipynb\" wählen. \n",
    "\n",
    "## Übersicht\n",
    "Im Folgenden wird die Textkomplexität der einzelnen Pressemitteilungen für unterschiedliche Zeitabschnitte (Monate, Jahre) zusammengefasst und visualisiert. \n",
    "1. Einlesen der Tabelle mit den Textkomplexitätsscores\n",
    "2. Zusammenfassung für Zeitabschnitte\n",
    "3. Ergebnisse in einem Liniendiagramm visualisieren"
   ]
  },
  {
   "cell_type": "markdown",
   "id": "e0ddd57a-2882-41de-aa3d-babf3fa674dd",
   "metadata": {},
   "source": [
    "<details>\n",
    "  <summary><b>Informationen zum Ausführen des Notebooks – Zum Ausklappen klicken ⬇️</b></summary>\n",
    "  \n",
    "<b>Voraussetzungen zur Ausführung des Jupyter Notebooks</b>\n",
    "<ol>\n",
    "<li> Installieren der Bibliotheken </li>\n",
    "<li>2. Laden der Daten (z.B. über den Command `wget` (s.u.))</li>\n",
    "<li>3. Pfad zu den Daten setzen</li>\n",
    "</ol>\n",
    "Zum Testen: Ausführen der Zelle \"load libraries\" und der Sektion \"Einlesen des Korpus\". </br>\n",
    "Alle Zellen, die mit 🚀 gekennzeichnet sind, werden nur bei der Ausführung des Noteboos in Colab / JupyterHub bzw. lokal ausgeführt. \n",
    "</details>"
   ]
  },
  {
   "cell_type": "code",
   "execution_count": null,
   "id": "8e658281-233d-4291-97ed-9afa713ab0bf",
   "metadata": {
    "editable": true,
    "slideshow": {
     "slide_type": ""
    },
    "tags": [
     "skip-execution",
     "hide-cell"
    ]
   },
   "outputs": [],
   "source": [
    "# 🚀 Install libraries\n",
    "! pip install pandas matplotlib bokeh"
   ]
  },
  {
   "cell_type": "code",
   "execution_count": 1,
   "id": "79a39412-bdbd-45cb-a5d2-86f94105e8a4",
   "metadata": {
    "editable": true,
    "slideshow": {
     "slide_type": ""
    },
    "tags": [
     "hide-cell",
     "hide-output"
    ]
   },
   "outputs": [
    {
     "data": {
      "text/html": [
       "    <style>\n",
       "        .bk-notebook-logo {\n",
       "            display: block;\n",
       "            width: 20px;\n",
       "            height: 20px;\n",
       "            background-image: url(data:image/png;base64,iVBORw0KGgoAAAANSUhEUgAAABQAAAAUCAYAAACNiR0NAAAABHNCSVQICAgIfAhkiAAAAAlwSFlzAAALEgAACxIB0t1+/AAAABx0RVh0U29mdHdhcmUAQWRvYmUgRmlyZXdvcmtzIENTNui8sowAAAOkSURBVDiNjZRtaJVlGMd/1/08zzln5zjP1LWcU9N0NkN8m2CYjpgQYQXqSs0I84OLIC0hkEKoPtiH3gmKoiJDU7QpLgoLjLIQCpEsNJ1vqUOdO7ppbuec5+V+rj4ctwzd8IIbbi6u+8f1539dt3A78eXC7QizUF7gyV1fD1Yqg4JWz84yffhm0qkFqBogB9rM8tZdtwVsPUhWhGcFJngGeWrPzHm5oaMmkfEg1usvLFyc8jLRqDOMru7AyC8saQr7GG7f5fvDeH7Ej8CM66nIF+8yngt6HWaKh7k49Soy9nXurCi1o3qUbS3zWfrYeQDTB/Qj6kX6Ybhw4B+bOYoLKCC9H3Nu/leUTZ1JdRWkkn2ldcCamzrcf47KKXdAJllSlxAOkRgyHsGC/zRday5Qld9DyoM4/q/rUoy/CXh3jzOu3bHUVZeU+DEn8FInkPBFlu3+nW3Nw0mk6vCDiWg8CeJaxEwuHS3+z5RgY+YBR6V1Z1nxSOfoaPa4LASWxxdNp+VWTk7+4vzaou8v8PN+xo+KY2xsw6une2frhw05CTYOmQvsEhjhWjn0bmXPjpE1+kplmmkP3suftwTubK9Vq22qKmrBhpY4jvd5afdRA3wGjFAgcnTK2s4hY0/GPNIb0nErGMCRxWOOX64Z8RAC4oCXdklmEvcL8o0BfkNK4lUg9HTl+oPlQxdNo3Mg4Nv175e/1LDGzZen30MEjRUtmXSfiTVu1kK8W4txyV6BMKlbgk3lMwYCiusNy9fVfvvwMxv8Ynl6vxoByANLTWplvuj/nF9m2+PDtt1eiHPBr1oIfhCChQMBw6Aw0UulqTKZdfVvfG7VcfIqLG9bcldL/+pdWTLxLUy8Qq38heUIjh4XlzZxzQm19lLFlr8vdQ97rjZVOLf8nclzckbcD4wxXMidpX30sFd37Fv/GtwwhzhxGVAprjbg0gCAEeIgwCZyTV2Z1REEW8O4py0wsjeloKoMr6iCY6dP92H6Vw/oTyICIthibxjm/DfN9lVz8IqtqKYLUXfoKVMVQVVJOElGjrnnUt9T9wbgp8AyYKaGlqingHZU/uG2NTZSVqwHQTWkx9hxjkpWDaCg6Ckj5qebgBVbT3V3NNXMSiWSDdGV3hrtzla7J+duwPOToIg42ChPQOQjspnSlp1V+Gjdged7+8UN5CRAV7a5EdFNwCjEaBR27b3W890TE7g24NAP/mMDXRWrGoFPQI9ls/MWO2dWFAar/xcOIImbbpA3zgAAAABJRU5ErkJggg==);\n",
       "        }\n",
       "    </style>\n",
       "    <div>\n",
       "        <a href=\"https://bokeh.org\" target=\"_blank\" class=\"bk-notebook-logo\"></a>\n",
       "        <span id=\"cd6d4af2-30fe-4b43-be22-a1fd9eaa083e\">Loading BokehJS ...</span>\n",
       "    </div>\n"
      ]
     },
     "metadata": {},
     "output_type": "display_data"
    },
    {
     "data": {
      "application/javascript": [
       "'use strict';\n",
       "(function(root) {\n",
       "  function now() {\n",
       "    return new Date();\n",
       "  }\n",
       "\n",
       "  const force = true;\n",
       "\n",
       "  if (typeof root._bokeh_onload_callbacks === \"undefined\" || force === true) {\n",
       "    root._bokeh_onload_callbacks = [];\n",
       "    root._bokeh_is_loading = undefined;\n",
       "  }\n",
       "\n",
       "const JS_MIME_TYPE = 'application/javascript';\n",
       "  const HTML_MIME_TYPE = 'text/html';\n",
       "  const EXEC_MIME_TYPE = 'application/vnd.bokehjs_exec.v0+json';\n",
       "  const CLASS_NAME = 'output_bokeh rendered_html';\n",
       "\n",
       "  /**\n",
       "   * Render data to the DOM node\n",
       "   */\n",
       "  function render(props, node) {\n",
       "    const script = document.createElement(\"script\");\n",
       "    node.appendChild(script);\n",
       "  }\n",
       "\n",
       "  /**\n",
       "   * Handle when an output is cleared or removed\n",
       "   */\n",
       "  function handleClearOutput(event, handle) {\n",
       "    function drop(id) {\n",
       "      const view = Bokeh.index.get_by_id(id)\n",
       "      if (view != null) {\n",
       "        view.model.document.clear()\n",
       "        Bokeh.index.delete(view)\n",
       "      }\n",
       "    }\n",
       "\n",
       "    const cell = handle.cell;\n",
       "\n",
       "    const id = cell.output_area._bokeh_element_id;\n",
       "    const server_id = cell.output_area._bokeh_server_id;\n",
       "\n",
       "    // Clean up Bokeh references\n",
       "    if (id != null) {\n",
       "      drop(id)\n",
       "    }\n",
       "\n",
       "    if (server_id !== undefined) {\n",
       "      // Clean up Bokeh references\n",
       "      const cmd_clean = \"from bokeh.io.state import curstate; print(curstate().uuid_to_server['\" + server_id + \"'].get_sessions()[0].document.roots[0]._id)\";\n",
       "      cell.notebook.kernel.execute(cmd_clean, {\n",
       "        iopub: {\n",
       "          output: function(msg) {\n",
       "            const id = msg.content.text.trim()\n",
       "            drop(id)\n",
       "          }\n",
       "        }\n",
       "      });\n",
       "      // Destroy server and session\n",
       "      const cmd_destroy = \"import bokeh.io.notebook as ion; ion.destroy_server('\" + server_id + \"')\";\n",
       "      cell.notebook.kernel.execute(cmd_destroy);\n",
       "    }\n",
       "  }\n",
       "\n",
       "  /**\n",
       "   * Handle when a new output is added\n",
       "   */\n",
       "  function handleAddOutput(event, handle) {\n",
       "    const output_area = handle.output_area;\n",
       "    const output = handle.output;\n",
       "\n",
       "    // limit handleAddOutput to display_data with EXEC_MIME_TYPE content only\n",
       "    if ((output.output_type != \"display_data\") || (!Object.prototype.hasOwnProperty.call(output.data, EXEC_MIME_TYPE))) {\n",
       "      return\n",
       "    }\n",
       "\n",
       "    const toinsert = output_area.element.find(\".\" + CLASS_NAME.split(' ')[0]);\n",
       "\n",
       "    if (output.metadata[EXEC_MIME_TYPE][\"id\"] !== undefined) {\n",
       "      toinsert[toinsert.length - 1].firstChild.textContent = output.data[JS_MIME_TYPE];\n",
       "      // store reference to embed id on output_area\n",
       "      output_area._bokeh_element_id = output.metadata[EXEC_MIME_TYPE][\"id\"];\n",
       "    }\n",
       "    if (output.metadata[EXEC_MIME_TYPE][\"server_id\"] !== undefined) {\n",
       "      const bk_div = document.createElement(\"div\");\n",
       "      bk_div.innerHTML = output.data[HTML_MIME_TYPE];\n",
       "      const script_attrs = bk_div.children[0].attributes;\n",
       "      for (let i = 0; i < script_attrs.length; i++) {\n",
       "        toinsert[toinsert.length - 1].firstChild.setAttribute(script_attrs[i].name, script_attrs[i].value);\n",
       "        toinsert[toinsert.length - 1].firstChild.textContent = bk_div.children[0].textContent\n",
       "      }\n",
       "      // store reference to server id on output_area\n",
       "      output_area._bokeh_server_id = output.metadata[EXEC_MIME_TYPE][\"server_id\"];\n",
       "    }\n",
       "  }\n",
       "\n",
       "  function register_renderer(events, OutputArea) {\n",
       "\n",
       "    function append_mime(data, metadata, element) {\n",
       "      // create a DOM node to render to\n",
       "      const toinsert = this.create_output_subarea(\n",
       "        metadata,\n",
       "        CLASS_NAME,\n",
       "        EXEC_MIME_TYPE\n",
       "      );\n",
       "      this.keyboard_manager.register_events(toinsert);\n",
       "      // Render to node\n",
       "      const props = {data: data, metadata: metadata[EXEC_MIME_TYPE]};\n",
       "      render(props, toinsert[toinsert.length - 1]);\n",
       "      element.append(toinsert);\n",
       "      return toinsert\n",
       "    }\n",
       "\n",
       "    /* Handle when an output is cleared or removed */\n",
       "    events.on('clear_output.CodeCell', handleClearOutput);\n",
       "    events.on('delete.Cell', handleClearOutput);\n",
       "\n",
       "    /* Handle when a new output is added */\n",
       "    events.on('output_added.OutputArea', handleAddOutput);\n",
       "\n",
       "    /**\n",
       "     * Register the mime type and append_mime function with output_area\n",
       "     */\n",
       "    OutputArea.prototype.register_mime_type(EXEC_MIME_TYPE, append_mime, {\n",
       "      /* Is output safe? */\n",
       "      safe: true,\n",
       "      /* Index of renderer in `output_area.display_order` */\n",
       "      index: 0\n",
       "    });\n",
       "  }\n",
       "\n",
       "  // register the mime type if in Jupyter Notebook environment and previously unregistered\n",
       "  if (root.Jupyter !== undefined) {\n",
       "    const events = require('base/js/events');\n",
       "    const OutputArea = require('notebook/js/outputarea').OutputArea;\n",
       "\n",
       "    if (OutputArea.prototype.mime_types().indexOf(EXEC_MIME_TYPE) == -1) {\n",
       "      register_renderer(events, OutputArea);\n",
       "    }\n",
       "  }\n",
       "  if (typeof (root._bokeh_timeout) === \"undefined\" || force === true) {\n",
       "    root._bokeh_timeout = Date.now() + 5000;\n",
       "    root._bokeh_failed_load = false;\n",
       "  }\n",
       "\n",
       "  const NB_LOAD_WARNING = {'data': {'text/html':\n",
       "     \"<div style='background-color: #fdd'>\\n\"+\n",
       "     \"<p>\\n\"+\n",
       "     \"BokehJS does not appear to have successfully loaded. If loading BokehJS from CDN, this \\n\"+\n",
       "     \"may be due to a slow or bad network connection. Possible fixes:\\n\"+\n",
       "     \"</p>\\n\"+\n",
       "     \"<ul>\\n\"+\n",
       "     \"<li>re-rerun `output_notebook()` to attempt to load from CDN again, or</li>\\n\"+\n",
       "     \"<li>use INLINE resources instead, as so:</li>\\n\"+\n",
       "     \"</ul>\\n\"+\n",
       "     \"<code>\\n\"+\n",
       "     \"from bokeh.resources import INLINE\\n\"+\n",
       "     \"output_notebook(resources=INLINE)\\n\"+\n",
       "     \"</code>\\n\"+\n",
       "     \"</div>\"}};\n",
       "\n",
       "  function display_loaded(error = null) {\n",
       "    const el = document.getElementById(\"cd6d4af2-30fe-4b43-be22-a1fd9eaa083e\");\n",
       "    if (el != null) {\n",
       "      const html = (() => {\n",
       "        if (typeof root.Bokeh === \"undefined\") {\n",
       "          if (error == null) {\n",
       "            return \"BokehJS is loading ...\";\n",
       "          } else {\n",
       "            return \"BokehJS failed to load.\";\n",
       "          }\n",
       "        } else {\n",
       "          const prefix = `BokehJS ${root.Bokeh.version}`;\n",
       "          if (error == null) {\n",
       "            return `${prefix} successfully loaded.`;\n",
       "          } else {\n",
       "            return `${prefix} <b>encountered errors</b> while loading and may not function as expected.`;\n",
       "          }\n",
       "        }\n",
       "      })();\n",
       "      el.innerHTML = html;\n",
       "\n",
       "      if (error != null) {\n",
       "        const wrapper = document.createElement(\"div\");\n",
       "        wrapper.style.overflow = \"auto\";\n",
       "        wrapper.style.height = \"5em\";\n",
       "        wrapper.style.resize = \"vertical\";\n",
       "        const content = document.createElement(\"div\");\n",
       "        content.style.fontFamily = \"monospace\";\n",
       "        content.style.whiteSpace = \"pre-wrap\";\n",
       "        content.style.backgroundColor = \"rgb(255, 221, 221)\";\n",
       "        content.textContent = error.stack ?? error.toString();\n",
       "        wrapper.append(content);\n",
       "        el.append(wrapper);\n",
       "      }\n",
       "    } else if (Date.now() < root._bokeh_timeout) {\n",
       "      setTimeout(() => display_loaded(error), 100);\n",
       "    }\n",
       "  }\n",
       "\n",
       "  function run_callbacks() {\n",
       "    try {\n",
       "      root._bokeh_onload_callbacks.forEach(function(callback) {\n",
       "        if (callback != null)\n",
       "          callback();\n",
       "      });\n",
       "    } finally {\n",
       "      delete root._bokeh_onload_callbacks\n",
       "    }\n",
       "    console.debug(\"Bokeh: all callbacks have finished\");\n",
       "  }\n",
       "\n",
       "  function load_libs(css_urls, js_urls, callback) {\n",
       "    if (css_urls == null) css_urls = [];\n",
       "    if (js_urls == null) js_urls = [];\n",
       "\n",
       "    root._bokeh_onload_callbacks.push(callback);\n",
       "    if (root._bokeh_is_loading > 0) {\n",
       "      console.debug(\"Bokeh: BokehJS is being loaded, scheduling callback at\", now());\n",
       "      return null;\n",
       "    }\n",
       "    if (js_urls == null || js_urls.length === 0) {\n",
       "      run_callbacks();\n",
       "      return null;\n",
       "    }\n",
       "    console.debug(\"Bokeh: BokehJS not loaded, scheduling load and callback at\", now());\n",
       "    root._bokeh_is_loading = css_urls.length + js_urls.length;\n",
       "\n",
       "    function on_load() {\n",
       "      root._bokeh_is_loading--;\n",
       "      if (root._bokeh_is_loading === 0) {\n",
       "        console.debug(\"Bokeh: all BokehJS libraries/stylesheets loaded\");\n",
       "        run_callbacks()\n",
       "      }\n",
       "    }\n",
       "\n",
       "    function on_error(url) {\n",
       "      console.error(\"failed to load \" + url);\n",
       "    }\n",
       "\n",
       "    for (let i = 0; i < css_urls.length; i++) {\n",
       "      const url = css_urls[i];\n",
       "      const element = document.createElement(\"link\");\n",
       "      element.onload = on_load;\n",
       "      element.onerror = on_error.bind(null, url);\n",
       "      element.rel = \"stylesheet\";\n",
       "      element.type = \"text/css\";\n",
       "      element.href = url;\n",
       "      console.debug(\"Bokeh: injecting link tag for BokehJS stylesheet: \", url);\n",
       "      document.body.appendChild(element);\n",
       "    }\n",
       "\n",
       "    for (let i = 0; i < js_urls.length; i++) {\n",
       "      const url = js_urls[i];\n",
       "      const element = document.createElement('script');\n",
       "      element.onload = on_load;\n",
       "      element.onerror = on_error.bind(null, url);\n",
       "      element.async = false;\n",
       "      element.src = url;\n",
       "      console.debug(\"Bokeh: injecting script tag for BokehJS library: \", url);\n",
       "      document.head.appendChild(element);\n",
       "    }\n",
       "  };\n",
       "\n",
       "  function inject_raw_css(css) {\n",
       "    const element = document.createElement(\"style\");\n",
       "    element.appendChild(document.createTextNode(css));\n",
       "    document.body.appendChild(element);\n",
       "  }\n",
       "\n",
       "  const js_urls = [\"https://cdn.bokeh.org/bokeh/release/bokeh-3.6.2.min.js\", \"https://cdn.bokeh.org/bokeh/release/bokeh-gl-3.6.2.min.js\", \"https://cdn.bokeh.org/bokeh/release/bokeh-widgets-3.6.2.min.js\", \"https://cdn.bokeh.org/bokeh/release/bokeh-tables-3.6.2.min.js\", \"https://cdn.bokeh.org/bokeh/release/bokeh-mathjax-3.6.2.min.js\"];\n",
       "  const css_urls = [];\n",
       "\n",
       "  const inline_js = [    function(Bokeh) {\n",
       "      Bokeh.set_log_level(\"info\");\n",
       "    },\n",
       "function(Bokeh) {\n",
       "    }\n",
       "  ];\n",
       "\n",
       "  function run_inline_js() {\n",
       "    if (root.Bokeh !== undefined || force === true) {\n",
       "      try {\n",
       "            for (let i = 0; i < inline_js.length; i++) {\n",
       "      inline_js[i].call(root, root.Bokeh);\n",
       "    }\n",
       "\n",
       "      } catch (error) {display_loaded(error);throw error;\n",
       "      }if (force === true) {\n",
       "        display_loaded();\n",
       "      }} else if (Date.now() < root._bokeh_timeout) {\n",
       "      setTimeout(run_inline_js, 100);\n",
       "    } else if (!root._bokeh_failed_load) {\n",
       "      console.log(\"Bokeh: BokehJS failed to load within specified timeout.\");\n",
       "      root._bokeh_failed_load = true;\n",
       "    } else if (force !== true) {\n",
       "      const cell = $(document.getElementById(\"cd6d4af2-30fe-4b43-be22-a1fd9eaa083e\")).parents('.cell').data().cell;\n",
       "      cell.output_area.append_execute_result(NB_LOAD_WARNING)\n",
       "    }\n",
       "  }\n",
       "\n",
       "  if (root._bokeh_is_loading === 0) {\n",
       "    console.debug(\"Bokeh: BokehJS loaded, going straight to plotting\");\n",
       "    run_inline_js();\n",
       "  } else {\n",
       "    load_libs(css_urls, js_urls, function() {\n",
       "      console.debug(\"Bokeh: BokehJS plotting callback run at\", now());\n",
       "      run_inline_js();\n",
       "    });\n",
       "  }\n",
       "}(window));"
      ],
      "application/vnd.bokehjs_load.v0+json": "'use strict';\n(function(root) {\n  function now() {\n    return new Date();\n  }\n\n  const force = true;\n\n  if (typeof root._bokeh_onload_callbacks === \"undefined\" || force === true) {\n    root._bokeh_onload_callbacks = [];\n    root._bokeh_is_loading = undefined;\n  }\n\n\n  if (typeof (root._bokeh_timeout) === \"undefined\" || force === true) {\n    root._bokeh_timeout = Date.now() + 5000;\n    root._bokeh_failed_load = false;\n  }\n\n  const NB_LOAD_WARNING = {'data': {'text/html':\n     \"<div style='background-color: #fdd'>\\n\"+\n     \"<p>\\n\"+\n     \"BokehJS does not appear to have successfully loaded. If loading BokehJS from CDN, this \\n\"+\n     \"may be due to a slow or bad network connection. Possible fixes:\\n\"+\n     \"</p>\\n\"+\n     \"<ul>\\n\"+\n     \"<li>re-rerun `output_notebook()` to attempt to load from CDN again, or</li>\\n\"+\n     \"<li>use INLINE resources instead, as so:</li>\\n\"+\n     \"</ul>\\n\"+\n     \"<code>\\n\"+\n     \"from bokeh.resources import INLINE\\n\"+\n     \"output_notebook(resources=INLINE)\\n\"+\n     \"</code>\\n\"+\n     \"</div>\"}};\n\n  function display_loaded(error = null) {\n    const el = document.getElementById(\"cd6d4af2-30fe-4b43-be22-a1fd9eaa083e\");\n    if (el != null) {\n      const html = (() => {\n        if (typeof root.Bokeh === \"undefined\") {\n          if (error == null) {\n            return \"BokehJS is loading ...\";\n          } else {\n            return \"BokehJS failed to load.\";\n          }\n        } else {\n          const prefix = `BokehJS ${root.Bokeh.version}`;\n          if (error == null) {\n            return `${prefix} successfully loaded.`;\n          } else {\n            return `${prefix} <b>encountered errors</b> while loading and may not function as expected.`;\n          }\n        }\n      })();\n      el.innerHTML = html;\n\n      if (error != null) {\n        const wrapper = document.createElement(\"div\");\n        wrapper.style.overflow = \"auto\";\n        wrapper.style.height = \"5em\";\n        wrapper.style.resize = \"vertical\";\n        const content = document.createElement(\"div\");\n        content.style.fontFamily = \"monospace\";\n        content.style.whiteSpace = \"pre-wrap\";\n        content.style.backgroundColor = \"rgb(255, 221, 221)\";\n        content.textContent = error.stack ?? error.toString();\n        wrapper.append(content);\n        el.append(wrapper);\n      }\n    } else if (Date.now() < root._bokeh_timeout) {\n      setTimeout(() => display_loaded(error), 100);\n    }\n  }\n\n  function run_callbacks() {\n    try {\n      root._bokeh_onload_callbacks.forEach(function(callback) {\n        if (callback != null)\n          callback();\n      });\n    } finally {\n      delete root._bokeh_onload_callbacks\n    }\n    console.debug(\"Bokeh: all callbacks have finished\");\n  }\n\n  function load_libs(css_urls, js_urls, callback) {\n    if (css_urls == null) css_urls = [];\n    if (js_urls == null) js_urls = [];\n\n    root._bokeh_onload_callbacks.push(callback);\n    if (root._bokeh_is_loading > 0) {\n      console.debug(\"Bokeh: BokehJS is being loaded, scheduling callback at\", now());\n      return null;\n    }\n    if (js_urls == null || js_urls.length === 0) {\n      run_callbacks();\n      return null;\n    }\n    console.debug(\"Bokeh: BokehJS not loaded, scheduling load and callback at\", now());\n    root._bokeh_is_loading = css_urls.length + js_urls.length;\n\n    function on_load() {\n      root._bokeh_is_loading--;\n      if (root._bokeh_is_loading === 0) {\n        console.debug(\"Bokeh: all BokehJS libraries/stylesheets loaded\");\n        run_callbacks()\n      }\n    }\n\n    function on_error(url) {\n      console.error(\"failed to load \" + url);\n    }\n\n    for (let i = 0; i < css_urls.length; i++) {\n      const url = css_urls[i];\n      const element = document.createElement(\"link\");\n      element.onload = on_load;\n      element.onerror = on_error.bind(null, url);\n      element.rel = \"stylesheet\";\n      element.type = \"text/css\";\n      element.href = url;\n      console.debug(\"Bokeh: injecting link tag for BokehJS stylesheet: \", url);\n      document.body.appendChild(element);\n    }\n\n    for (let i = 0; i < js_urls.length; i++) {\n      const url = js_urls[i];\n      const element = document.createElement('script');\n      element.onload = on_load;\n      element.onerror = on_error.bind(null, url);\n      element.async = false;\n      element.src = url;\n      console.debug(\"Bokeh: injecting script tag for BokehJS library: \", url);\n      document.head.appendChild(element);\n    }\n  };\n\n  function inject_raw_css(css) {\n    const element = document.createElement(\"style\");\n    element.appendChild(document.createTextNode(css));\n    document.body.appendChild(element);\n  }\n\n  const js_urls = [\"https://cdn.bokeh.org/bokeh/release/bokeh-3.6.2.min.js\", \"https://cdn.bokeh.org/bokeh/release/bokeh-gl-3.6.2.min.js\", \"https://cdn.bokeh.org/bokeh/release/bokeh-widgets-3.6.2.min.js\", \"https://cdn.bokeh.org/bokeh/release/bokeh-tables-3.6.2.min.js\", \"https://cdn.bokeh.org/bokeh/release/bokeh-mathjax-3.6.2.min.js\"];\n  const css_urls = [];\n\n  const inline_js = [    function(Bokeh) {\n      Bokeh.set_log_level(\"info\");\n    },\nfunction(Bokeh) {\n    }\n  ];\n\n  function run_inline_js() {\n    if (root.Bokeh !== undefined || force === true) {\n      try {\n            for (let i = 0; i < inline_js.length; i++) {\n      inline_js[i].call(root, root.Bokeh);\n    }\n\n      } catch (error) {display_loaded(error);throw error;\n      }if (force === true) {\n        display_loaded();\n      }} else if (Date.now() < root._bokeh_timeout) {\n      setTimeout(run_inline_js, 100);\n    } else if (!root._bokeh_failed_load) {\n      console.log(\"Bokeh: BokehJS failed to load within specified timeout.\");\n      root._bokeh_failed_load = true;\n    } else if (force !== true) {\n      const cell = $(document.getElementById(\"cd6d4af2-30fe-4b43-be22-a1fd9eaa083e\")).parents('.cell').data().cell;\n      cell.output_area.append_execute_result(NB_LOAD_WARNING)\n    }\n  }\n\n  if (root._bokeh_is_loading === 0) {\n    console.debug(\"Bokeh: BokehJS loaded, going straight to plotting\");\n    run_inline_js();\n  } else {\n    load_libs(css_urls, js_urls, function() {\n      console.debug(\"Bokeh: BokehJS plotting callback run at\", now());\n      run_inline_js();\n    });\n  }\n}(window));"
     },
     "metadata": {},
     "output_type": "display_data"
    }
   ],
   "source": [
    "# import libraries for table processing and for compuation of readability metrics\n",
    "from pathlib import Path\n",
    "\n",
    "import pandas as pd\n",
    "import matplotlib.pyplot as plt\n",
    "\n",
    "from bokeh.io import output_notebook, show\n",
    "from bokeh.plotting import figure\n",
    "from bokeh.layouts import column, row, layout\n",
    "from bokeh.models import ColumnDataSource, CustomJS, TextInput, Div, RadioButtonGroup, Switch, TableColumn, DataTable\n",
    "# Ensure Bokeh output is displayed in the notebook\n",
    "output_notebook()"
   ]
  },
  {
   "cell_type": "markdown",
   "id": "0606f3ba-a80a-4a9f-9399-e063578c3164",
   "metadata": {
    "editable": true,
    "slideshow": {
     "slide_type": ""
    },
    "tags": []
   },
   "source": [
    "## Einlesen der Textkomplexitätsscores"
   ]
  },
  {
   "cell_type": "markdown",
   "id": "4be4149d-d21d-477e-940c-d059aef3b007",
   "metadata": {},
   "source": [
    "<details>\n",
    "  <summary><b>Informationen zum Ausführen des Notebooks – Zum Ausklappen klicken ⬇️</b></summary>\n",
    "Zuerst wird der Ordner angelegt, in dem die Textdateien gespeichert werden. Der Einfachheit halber wird die gleich Datenablagestruktur wie in dem <a href=\"https://github.com/dh-network/quadriga/tree/main\">GitHub Repository</a>, in dem die Daten gespeichert sind, vorausgesetzt. </br>\n",
    "Der Text wird aus GitHub heruntergeladen und in dem Ordner <i>../data/txt/</i> abgespeichert. </br>\n",
    "Der Pfad kann in der Variable <i>text_path</i> angepasst werden. Die einzulesenden Daten müssen die Endung `.txt` haben. </br>\n",
    "</details>"
   ]
  },
  {
   "cell_type": "code",
   "execution_count": 2,
   "id": "a8ef6bd6-cd83-45fe-ad96-d90267c12d9e",
   "metadata": {
    "editable": true,
    "slideshow": {
     "slide_type": ""
    },
    "tags": []
   },
   "outputs": [],
   "source": [
    "# 🚀 Create result directory path\n",
    "result_dir = Path(r\"../results\")\n",
    "if not result_dir.exists():\n",
    "    result_dir.mkdir()"
   ]
  },
  {
   "cell_type": "code",
   "execution_count": null,
   "id": "010e6e62-448d-439c-adf7-04ccc3362b2e",
   "metadata": {
    "editable": true,
    "slideshow": {
     "slide_type": ""
    },
    "tags": [
     "skip-execution",
     "hide-cell",
     "hide-output"
    ]
   },
   "outputs": [],
   "source": [
    "# 🚀 Load the results file from GitHub \n",
    "! wget https://media.githubusercontent.com/media/quadriga-dk/Text-Fallstudie-2/refs/heads/main/results/metadata_with_readability_scores.csv -P ../results/"
   ]
  },
  {
   "cell_type": "code",
   "execution_count": 3,
   "id": "017acba9-ee2e-4204-97d2-dc712b320212",
   "metadata": {
    "editable": true,
    "slideshow": {
     "slide_type": ""
    },
    "tags": []
   },
   "outputs": [],
   "source": [
    "result_path = result_dir / r\"metadata_with_readability_scores.csv\""
   ]
  },
  {
   "cell_type": "code",
   "execution_count": 7,
   "id": "b66185b9-adc9-413a-99f7-970335aba070",
   "metadata": {},
   "outputs": [
    {
     "name": "stdout",
     "output_type": "stream",
     "text": [
      "<class 'pandas.core.frame.DataFrame'>\n",
      "Index(['id', 'url', 'date', 'title', 'source', 'filename_html', 'filename',\n",
      "       'n_tokens', 'Flesch', 'Wiener_Sachtextformel', 'ARI', 'Coleman_Liau'],\n",
      "      dtype='object')\n"
     ]
    }
   ],
   "source": [
    "result_df = pd.read_csv(result_path, sep=\",\")\n",
    "print(type(result_df))\n",
    "print(result_df.columns)\n",
    "\n",
    "# Convert date to datetime\n",
    "result_df['date'] = pd.to_datetime(result_df['date'], dayfirst=True)"
   ]
  },
  {
   "cell_type": "markdown",
   "id": "ffe82c02-20c5-4d96-9691-bb8f52c13e28",
   "metadata": {},
   "source": [
    "Die Anzahl der Einträge anzeigen lassen:"
   ]
  },
  {
   "cell_type": "code",
   "execution_count": 5,
   "id": "e36aec62-ea54-45a6-a498-6a51fc830170",
   "metadata": {},
   "outputs": [
    {
     "data": {
      "text/plain": [
       "51826"
      ]
     },
     "execution_count": 5,
     "metadata": {},
     "output_type": "execute_result"
    }
   ],
   "source": [
    "len(result_df)"
   ]
  },
  {
   "cell_type": "markdown",
   "id": "09fde2fa-5cd4-4962-94ab-cea5325c1206",
   "metadata": {},
   "source": [
    "Erste 100 Zeilen der Daten angucken:"
   ]
  },
  {
   "cell_type": "code",
   "execution_count": 6,
   "id": "81c8d725-859a-4aa5-8987-1f0f99c66a8b",
   "metadata": {
    "editable": true,
    "slideshow": {
     "slide_type": ""
    },
    "tags": []
   },
   "outputs": [
    {
     "data": {
      "text/html": [
       "    <style>\n",
       "        .bk-notebook-logo {\n",
       "            display: block;\n",
       "            width: 20px;\n",
       "            height: 20px;\n",
       "            background-image: url(data:image/png;base64,iVBORw0KGgoAAAANSUhEUgAAABQAAAAUCAYAAACNiR0NAAAABHNCSVQICAgIfAhkiAAAAAlwSFlzAAALEgAACxIB0t1+/AAAABx0RVh0U29mdHdhcmUAQWRvYmUgRmlyZXdvcmtzIENTNui8sowAAAOkSURBVDiNjZRtaJVlGMd/1/08zzln5zjP1LWcU9N0NkN8m2CYjpgQYQXqSs0I84OLIC0hkEKoPtiH3gmKoiJDU7QpLgoLjLIQCpEsNJ1vqUOdO7ppbuec5+V+rj4ctwzd8IIbbi6u+8f1539dt3A78eXC7QizUF7gyV1fD1Yqg4JWz84yffhm0qkFqBogB9rM8tZdtwVsPUhWhGcFJngGeWrPzHm5oaMmkfEg1usvLFyc8jLRqDOMru7AyC8saQr7GG7f5fvDeH7Ej8CM66nIF+8yngt6HWaKh7k49Soy9nXurCi1o3qUbS3zWfrYeQDTB/Qj6kX6Ybhw4B+bOYoLKCC9H3Nu/leUTZ1JdRWkkn2ldcCamzrcf47KKXdAJllSlxAOkRgyHsGC/zRday5Qld9DyoM4/q/rUoy/CXh3jzOu3bHUVZeU+DEn8FInkPBFlu3+nW3Nw0mk6vCDiWg8CeJaxEwuHS3+z5RgY+YBR6V1Z1nxSOfoaPa4LASWxxdNp+VWTk7+4vzaou8v8PN+xo+KY2xsw6une2frhw05CTYOmQvsEhjhWjn0bmXPjpE1+kplmmkP3suftwTubK9Vq22qKmrBhpY4jvd5afdRA3wGjFAgcnTK2s4hY0/GPNIb0nErGMCRxWOOX64Z8RAC4oCXdklmEvcL8o0BfkNK4lUg9HTl+oPlQxdNo3Mg4Nv175e/1LDGzZen30MEjRUtmXSfiTVu1kK8W4txyV6BMKlbgk3lMwYCiusNy9fVfvvwMxv8Ynl6vxoByANLTWplvuj/nF9m2+PDtt1eiHPBr1oIfhCChQMBw6Aw0UulqTKZdfVvfG7VcfIqLG9bcldL/+pdWTLxLUy8Qq38heUIjh4XlzZxzQm19lLFlr8vdQ97rjZVOLf8nclzckbcD4wxXMidpX30sFd37Fv/GtwwhzhxGVAprjbg0gCAEeIgwCZyTV2Z1REEW8O4py0wsjeloKoMr6iCY6dP92H6Vw/oTyICIthibxjm/DfN9lVz8IqtqKYLUXfoKVMVQVVJOElGjrnnUt9T9wbgp8AyYKaGlqingHZU/uG2NTZSVqwHQTWkx9hxjkpWDaCg6Ckj5qebgBVbT3V3NNXMSiWSDdGV3hrtzla7J+duwPOToIg42ChPQOQjspnSlp1V+Gjdged7+8UN5CRAV7a5EdFNwCjEaBR27b3W890TE7g24NAP/mMDXRWrGoFPQI9ls/MWO2dWFAar/xcOIImbbpA3zgAAAABJRU5ErkJggg==);\n",
       "        }\n",
       "    </style>\n",
       "    <div>\n",
       "        <a href=\"https://bokeh.org\" target=\"_blank\" class=\"bk-notebook-logo\"></a>\n",
       "        <span id=\"aff881ee-bd1d-4373-842e-3498c9f6f3fb\">Loading BokehJS ...</span>\n",
       "    </div>\n"
      ]
     },
     "metadata": {},
     "output_type": "display_data"
    },
    {
     "data": {
      "application/javascript": [
       "'use strict';\n",
       "(function(root) {\n",
       "  function now() {\n",
       "    return new Date();\n",
       "  }\n",
       "\n",
       "  const force = true;\n",
       "\n",
       "  if (typeof root._bokeh_onload_callbacks === \"undefined\" || force === true) {\n",
       "    root._bokeh_onload_callbacks = [];\n",
       "    root._bokeh_is_loading = undefined;\n",
       "  }\n",
       "\n",
       "const JS_MIME_TYPE = 'application/javascript';\n",
       "  const HTML_MIME_TYPE = 'text/html';\n",
       "  const EXEC_MIME_TYPE = 'application/vnd.bokehjs_exec.v0+json';\n",
       "  const CLASS_NAME = 'output_bokeh rendered_html';\n",
       "\n",
       "  /**\n",
       "   * Render data to the DOM node\n",
       "   */\n",
       "  function render(props, node) {\n",
       "    const script = document.createElement(\"script\");\n",
       "    node.appendChild(script);\n",
       "  }\n",
       "\n",
       "  /**\n",
       "   * Handle when an output is cleared or removed\n",
       "   */\n",
       "  function handleClearOutput(event, handle) {\n",
       "    function drop(id) {\n",
       "      const view = Bokeh.index.get_by_id(id)\n",
       "      if (view != null) {\n",
       "        view.model.document.clear()\n",
       "        Bokeh.index.delete(view)\n",
       "      }\n",
       "    }\n",
       "\n",
       "    const cell = handle.cell;\n",
       "\n",
       "    const id = cell.output_area._bokeh_element_id;\n",
       "    const server_id = cell.output_area._bokeh_server_id;\n",
       "\n",
       "    // Clean up Bokeh references\n",
       "    if (id != null) {\n",
       "      drop(id)\n",
       "    }\n",
       "\n",
       "    if (server_id !== undefined) {\n",
       "      // Clean up Bokeh references\n",
       "      const cmd_clean = \"from bokeh.io.state import curstate; print(curstate().uuid_to_server['\" + server_id + \"'].get_sessions()[0].document.roots[0]._id)\";\n",
       "      cell.notebook.kernel.execute(cmd_clean, {\n",
       "        iopub: {\n",
       "          output: function(msg) {\n",
       "            const id = msg.content.text.trim()\n",
       "            drop(id)\n",
       "          }\n",
       "        }\n",
       "      });\n",
       "      // Destroy server and session\n",
       "      const cmd_destroy = \"import bokeh.io.notebook as ion; ion.destroy_server('\" + server_id + \"')\";\n",
       "      cell.notebook.kernel.execute(cmd_destroy);\n",
       "    }\n",
       "  }\n",
       "\n",
       "  /**\n",
       "   * Handle when a new output is added\n",
       "   */\n",
       "  function handleAddOutput(event, handle) {\n",
       "    const output_area = handle.output_area;\n",
       "    const output = handle.output;\n",
       "\n",
       "    // limit handleAddOutput to display_data with EXEC_MIME_TYPE content only\n",
       "    if ((output.output_type != \"display_data\") || (!Object.prototype.hasOwnProperty.call(output.data, EXEC_MIME_TYPE))) {\n",
       "      return\n",
       "    }\n",
       "\n",
       "    const toinsert = output_area.element.find(\".\" + CLASS_NAME.split(' ')[0]);\n",
       "\n",
       "    if (output.metadata[EXEC_MIME_TYPE][\"id\"] !== undefined) {\n",
       "      toinsert[toinsert.length - 1].firstChild.textContent = output.data[JS_MIME_TYPE];\n",
       "      // store reference to embed id on output_area\n",
       "      output_area._bokeh_element_id = output.metadata[EXEC_MIME_TYPE][\"id\"];\n",
       "    }\n",
       "    if (output.metadata[EXEC_MIME_TYPE][\"server_id\"] !== undefined) {\n",
       "      const bk_div = document.createElement(\"div\");\n",
       "      bk_div.innerHTML = output.data[HTML_MIME_TYPE];\n",
       "      const script_attrs = bk_div.children[0].attributes;\n",
       "      for (let i = 0; i < script_attrs.length; i++) {\n",
       "        toinsert[toinsert.length - 1].firstChild.setAttribute(script_attrs[i].name, script_attrs[i].value);\n",
       "        toinsert[toinsert.length - 1].firstChild.textContent = bk_div.children[0].textContent\n",
       "      }\n",
       "      // store reference to server id on output_area\n",
       "      output_area._bokeh_server_id = output.metadata[EXEC_MIME_TYPE][\"server_id\"];\n",
       "    }\n",
       "  }\n",
       "\n",
       "  function register_renderer(events, OutputArea) {\n",
       "\n",
       "    function append_mime(data, metadata, element) {\n",
       "      // create a DOM node to render to\n",
       "      const toinsert = this.create_output_subarea(\n",
       "        metadata,\n",
       "        CLASS_NAME,\n",
       "        EXEC_MIME_TYPE\n",
       "      );\n",
       "      this.keyboard_manager.register_events(toinsert);\n",
       "      // Render to node\n",
       "      const props = {data: data, metadata: metadata[EXEC_MIME_TYPE]};\n",
       "      render(props, toinsert[toinsert.length - 1]);\n",
       "      element.append(toinsert);\n",
       "      return toinsert\n",
       "    }\n",
       "\n",
       "    /* Handle when an output is cleared or removed */\n",
       "    events.on('clear_output.CodeCell', handleClearOutput);\n",
       "    events.on('delete.Cell', handleClearOutput);\n",
       "\n",
       "    /* Handle when a new output is added */\n",
       "    events.on('output_added.OutputArea', handleAddOutput);\n",
       "\n",
       "    /**\n",
       "     * Register the mime type and append_mime function with output_area\n",
       "     */\n",
       "    OutputArea.prototype.register_mime_type(EXEC_MIME_TYPE, append_mime, {\n",
       "      /* Is output safe? */\n",
       "      safe: true,\n",
       "      /* Index of renderer in `output_area.display_order` */\n",
       "      index: 0\n",
       "    });\n",
       "  }\n",
       "\n",
       "  // register the mime type if in Jupyter Notebook environment and previously unregistered\n",
       "  if (root.Jupyter !== undefined) {\n",
       "    const events = require('base/js/events');\n",
       "    const OutputArea = require('notebook/js/outputarea').OutputArea;\n",
       "\n",
       "    if (OutputArea.prototype.mime_types().indexOf(EXEC_MIME_TYPE) == -1) {\n",
       "      register_renderer(events, OutputArea);\n",
       "    }\n",
       "  }\n",
       "  if (typeof (root._bokeh_timeout) === \"undefined\" || force === true) {\n",
       "    root._bokeh_timeout = Date.now() + 5000;\n",
       "    root._bokeh_failed_load = false;\n",
       "  }\n",
       "\n",
       "  const NB_LOAD_WARNING = {'data': {'text/html':\n",
       "     \"<div style='background-color: #fdd'>\\n\"+\n",
       "     \"<p>\\n\"+\n",
       "     \"BokehJS does not appear to have successfully loaded. If loading BokehJS from CDN, this \\n\"+\n",
       "     \"may be due to a slow or bad network connection. Possible fixes:\\n\"+\n",
       "     \"</p>\\n\"+\n",
       "     \"<ul>\\n\"+\n",
       "     \"<li>re-rerun `output_notebook()` to attempt to load from CDN again, or</li>\\n\"+\n",
       "     \"<li>use INLINE resources instead, as so:</li>\\n\"+\n",
       "     \"</ul>\\n\"+\n",
       "     \"<code>\\n\"+\n",
       "     \"from bokeh.resources import INLINE\\n\"+\n",
       "     \"output_notebook(resources=INLINE)\\n\"+\n",
       "     \"</code>\\n\"+\n",
       "     \"</div>\"}};\n",
       "\n",
       "  function display_loaded(error = null) {\n",
       "    const el = document.getElementById(\"aff881ee-bd1d-4373-842e-3498c9f6f3fb\");\n",
       "    if (el != null) {\n",
       "      const html = (() => {\n",
       "        if (typeof root.Bokeh === \"undefined\") {\n",
       "          if (error == null) {\n",
       "            return \"BokehJS is loading ...\";\n",
       "          } else {\n",
       "            return \"BokehJS failed to load.\";\n",
       "          }\n",
       "        } else {\n",
       "          const prefix = `BokehJS ${root.Bokeh.version}`;\n",
       "          if (error == null) {\n",
       "            return `${prefix} successfully loaded.`;\n",
       "          } else {\n",
       "            return `${prefix} <b>encountered errors</b> while loading and may not function as expected.`;\n",
       "          }\n",
       "        }\n",
       "      })();\n",
       "      el.innerHTML = html;\n",
       "\n",
       "      if (error != null) {\n",
       "        const wrapper = document.createElement(\"div\");\n",
       "        wrapper.style.overflow = \"auto\";\n",
       "        wrapper.style.height = \"5em\";\n",
       "        wrapper.style.resize = \"vertical\";\n",
       "        const content = document.createElement(\"div\");\n",
       "        content.style.fontFamily = \"monospace\";\n",
       "        content.style.whiteSpace = \"pre-wrap\";\n",
       "        content.style.backgroundColor = \"rgb(255, 221, 221)\";\n",
       "        content.textContent = error.stack ?? error.toString();\n",
       "        wrapper.append(content);\n",
       "        el.append(wrapper);\n",
       "      }\n",
       "    } else if (Date.now() < root._bokeh_timeout) {\n",
       "      setTimeout(() => display_loaded(error), 100);\n",
       "    }\n",
       "  }\n",
       "\n",
       "  function run_callbacks() {\n",
       "    try {\n",
       "      root._bokeh_onload_callbacks.forEach(function(callback) {\n",
       "        if (callback != null)\n",
       "          callback();\n",
       "      });\n",
       "    } finally {\n",
       "      delete root._bokeh_onload_callbacks\n",
       "    }\n",
       "    console.debug(\"Bokeh: all callbacks have finished\");\n",
       "  }\n",
       "\n",
       "  function load_libs(css_urls, js_urls, callback) {\n",
       "    if (css_urls == null) css_urls = [];\n",
       "    if (js_urls == null) js_urls = [];\n",
       "\n",
       "    root._bokeh_onload_callbacks.push(callback);\n",
       "    if (root._bokeh_is_loading > 0) {\n",
       "      console.debug(\"Bokeh: BokehJS is being loaded, scheduling callback at\", now());\n",
       "      return null;\n",
       "    }\n",
       "    if (js_urls == null || js_urls.length === 0) {\n",
       "      run_callbacks();\n",
       "      return null;\n",
       "    }\n",
       "    console.debug(\"Bokeh: BokehJS not loaded, scheduling load and callback at\", now());\n",
       "    root._bokeh_is_loading = css_urls.length + js_urls.length;\n",
       "\n",
       "    function on_load() {\n",
       "      root._bokeh_is_loading--;\n",
       "      if (root._bokeh_is_loading === 0) {\n",
       "        console.debug(\"Bokeh: all BokehJS libraries/stylesheets loaded\");\n",
       "        run_callbacks()\n",
       "      }\n",
       "    }\n",
       "\n",
       "    function on_error(url) {\n",
       "      console.error(\"failed to load \" + url);\n",
       "    }\n",
       "\n",
       "    for (let i = 0; i < css_urls.length; i++) {\n",
       "      const url = css_urls[i];\n",
       "      const element = document.createElement(\"link\");\n",
       "      element.onload = on_load;\n",
       "      element.onerror = on_error.bind(null, url);\n",
       "      element.rel = \"stylesheet\";\n",
       "      element.type = \"text/css\";\n",
       "      element.href = url;\n",
       "      console.debug(\"Bokeh: injecting link tag for BokehJS stylesheet: \", url);\n",
       "      document.body.appendChild(element);\n",
       "    }\n",
       "\n",
       "    for (let i = 0; i < js_urls.length; i++) {\n",
       "      const url = js_urls[i];\n",
       "      const element = document.createElement('script');\n",
       "      element.onload = on_load;\n",
       "      element.onerror = on_error.bind(null, url);\n",
       "      element.async = false;\n",
       "      element.src = url;\n",
       "      console.debug(\"Bokeh: injecting script tag for BokehJS library: \", url);\n",
       "      document.head.appendChild(element);\n",
       "    }\n",
       "  };\n",
       "\n",
       "  function inject_raw_css(css) {\n",
       "    const element = document.createElement(\"style\");\n",
       "    element.appendChild(document.createTextNode(css));\n",
       "    document.body.appendChild(element);\n",
       "  }\n",
       "\n",
       "  const js_urls = [\"https://cdn.bokeh.org/bokeh/release/bokeh-3.6.2.min.js\", \"https://cdn.bokeh.org/bokeh/release/bokeh-gl-3.6.2.min.js\", \"https://cdn.bokeh.org/bokeh/release/bokeh-widgets-3.6.2.min.js\", \"https://cdn.bokeh.org/bokeh/release/bokeh-tables-3.6.2.min.js\", \"https://cdn.bokeh.org/bokeh/release/bokeh-mathjax-3.6.2.min.js\"];\n",
       "  const css_urls = [];\n",
       "\n",
       "  const inline_js = [    function(Bokeh) {\n",
       "      Bokeh.set_log_level(\"info\");\n",
       "    },\n",
       "function(Bokeh) {\n",
       "    }\n",
       "  ];\n",
       "\n",
       "  function run_inline_js() {\n",
       "    if (root.Bokeh !== undefined || force === true) {\n",
       "      try {\n",
       "            for (let i = 0; i < inline_js.length; i++) {\n",
       "      inline_js[i].call(root, root.Bokeh);\n",
       "    }\n",
       "\n",
       "      } catch (error) {display_loaded(error);throw error;\n",
       "      }if (force === true) {\n",
       "        display_loaded();\n",
       "      }} else if (Date.now() < root._bokeh_timeout) {\n",
       "      setTimeout(run_inline_js, 100);\n",
       "    } else if (!root._bokeh_failed_load) {\n",
       "      console.log(\"Bokeh: BokehJS failed to load within specified timeout.\");\n",
       "      root._bokeh_failed_load = true;\n",
       "    } else if (force !== true) {\n",
       "      const cell = $(document.getElementById(\"aff881ee-bd1d-4373-842e-3498c9f6f3fb\")).parents('.cell').data().cell;\n",
       "      cell.output_area.append_execute_result(NB_LOAD_WARNING)\n",
       "    }\n",
       "  }\n",
       "\n",
       "  if (root._bokeh_is_loading === 0) {\n",
       "    console.debug(\"Bokeh: BokehJS loaded, going straight to plotting\");\n",
       "    run_inline_js();\n",
       "  } else {\n",
       "    load_libs(css_urls, js_urls, function() {\n",
       "      console.debug(\"Bokeh: BokehJS plotting callback run at\", now());\n",
       "      run_inline_js();\n",
       "    });\n",
       "  }\n",
       "}(window));"
      ],
      "application/vnd.bokehjs_load.v0+json": "'use strict';\n(function(root) {\n  function now() {\n    return new Date();\n  }\n\n  const force = true;\n\n  if (typeof root._bokeh_onload_callbacks === \"undefined\" || force === true) {\n    root._bokeh_onload_callbacks = [];\n    root._bokeh_is_loading = undefined;\n  }\n\n\n  if (typeof (root._bokeh_timeout) === \"undefined\" || force === true) {\n    root._bokeh_timeout = Date.now() + 5000;\n    root._bokeh_failed_load = false;\n  }\n\n  const NB_LOAD_WARNING = {'data': {'text/html':\n     \"<div style='background-color: #fdd'>\\n\"+\n     \"<p>\\n\"+\n     \"BokehJS does not appear to have successfully loaded. If loading BokehJS from CDN, this \\n\"+\n     \"may be due to a slow or bad network connection. Possible fixes:\\n\"+\n     \"</p>\\n\"+\n     \"<ul>\\n\"+\n     \"<li>re-rerun `output_notebook()` to attempt to load from CDN again, or</li>\\n\"+\n     \"<li>use INLINE resources instead, as so:</li>\\n\"+\n     \"</ul>\\n\"+\n     \"<code>\\n\"+\n     \"from bokeh.resources import INLINE\\n\"+\n     \"output_notebook(resources=INLINE)\\n\"+\n     \"</code>\\n\"+\n     \"</div>\"}};\n\n  function display_loaded(error = null) {\n    const el = document.getElementById(\"aff881ee-bd1d-4373-842e-3498c9f6f3fb\");\n    if (el != null) {\n      const html = (() => {\n        if (typeof root.Bokeh === \"undefined\") {\n          if (error == null) {\n            return \"BokehJS is loading ...\";\n          } else {\n            return \"BokehJS failed to load.\";\n          }\n        } else {\n          const prefix = `BokehJS ${root.Bokeh.version}`;\n          if (error == null) {\n            return `${prefix} successfully loaded.`;\n          } else {\n            return `${prefix} <b>encountered errors</b> while loading and may not function as expected.`;\n          }\n        }\n      })();\n      el.innerHTML = html;\n\n      if (error != null) {\n        const wrapper = document.createElement(\"div\");\n        wrapper.style.overflow = \"auto\";\n        wrapper.style.height = \"5em\";\n        wrapper.style.resize = \"vertical\";\n        const content = document.createElement(\"div\");\n        content.style.fontFamily = \"monospace\";\n        content.style.whiteSpace = \"pre-wrap\";\n        content.style.backgroundColor = \"rgb(255, 221, 221)\";\n        content.textContent = error.stack ?? error.toString();\n        wrapper.append(content);\n        el.append(wrapper);\n      }\n    } else if (Date.now() < root._bokeh_timeout) {\n      setTimeout(() => display_loaded(error), 100);\n    }\n  }\n\n  function run_callbacks() {\n    try {\n      root._bokeh_onload_callbacks.forEach(function(callback) {\n        if (callback != null)\n          callback();\n      });\n    } finally {\n      delete root._bokeh_onload_callbacks\n    }\n    console.debug(\"Bokeh: all callbacks have finished\");\n  }\n\n  function load_libs(css_urls, js_urls, callback) {\n    if (css_urls == null) css_urls = [];\n    if (js_urls == null) js_urls = [];\n\n    root._bokeh_onload_callbacks.push(callback);\n    if (root._bokeh_is_loading > 0) {\n      console.debug(\"Bokeh: BokehJS is being loaded, scheduling callback at\", now());\n      return null;\n    }\n    if (js_urls == null || js_urls.length === 0) {\n      run_callbacks();\n      return null;\n    }\n    console.debug(\"Bokeh: BokehJS not loaded, scheduling load and callback at\", now());\n    root._bokeh_is_loading = css_urls.length + js_urls.length;\n\n    function on_load() {\n      root._bokeh_is_loading--;\n      if (root._bokeh_is_loading === 0) {\n        console.debug(\"Bokeh: all BokehJS libraries/stylesheets loaded\");\n        run_callbacks()\n      }\n    }\n\n    function on_error(url) {\n      console.error(\"failed to load \" + url);\n    }\n\n    for (let i = 0; i < css_urls.length; i++) {\n      const url = css_urls[i];\n      const element = document.createElement(\"link\");\n      element.onload = on_load;\n      element.onerror = on_error.bind(null, url);\n      element.rel = \"stylesheet\";\n      element.type = \"text/css\";\n      element.href = url;\n      console.debug(\"Bokeh: injecting link tag for BokehJS stylesheet: \", url);\n      document.body.appendChild(element);\n    }\n\n    for (let i = 0; i < js_urls.length; i++) {\n      const url = js_urls[i];\n      const element = document.createElement('script');\n      element.onload = on_load;\n      element.onerror = on_error.bind(null, url);\n      element.async = false;\n      element.src = url;\n      console.debug(\"Bokeh: injecting script tag for BokehJS library: \", url);\n      document.head.appendChild(element);\n    }\n  };\n\n  function inject_raw_css(css) {\n    const element = document.createElement(\"style\");\n    element.appendChild(document.createTextNode(css));\n    document.body.appendChild(element);\n  }\n\n  const js_urls = [\"https://cdn.bokeh.org/bokeh/release/bokeh-3.6.2.min.js\", \"https://cdn.bokeh.org/bokeh/release/bokeh-gl-3.6.2.min.js\", \"https://cdn.bokeh.org/bokeh/release/bokeh-widgets-3.6.2.min.js\", \"https://cdn.bokeh.org/bokeh/release/bokeh-tables-3.6.2.min.js\", \"https://cdn.bokeh.org/bokeh/release/bokeh-mathjax-3.6.2.min.js\"];\n  const css_urls = [];\n\n  const inline_js = [    function(Bokeh) {\n      Bokeh.set_log_level(\"info\");\n    },\nfunction(Bokeh) {\n    }\n  ];\n\n  function run_inline_js() {\n    if (root.Bokeh !== undefined || force === true) {\n      try {\n            for (let i = 0; i < inline_js.length; i++) {\n      inline_js[i].call(root, root.Bokeh);\n    }\n\n      } catch (error) {display_loaded(error);throw error;\n      }if (force === true) {\n        display_loaded();\n      }} else if (Date.now() < root._bokeh_timeout) {\n      setTimeout(run_inline_js, 100);\n    } else if (!root._bokeh_failed_load) {\n      console.log(\"Bokeh: BokehJS failed to load within specified timeout.\");\n      root._bokeh_failed_load = true;\n    } else if (force !== true) {\n      const cell = $(document.getElementById(\"aff881ee-bd1d-4373-842e-3498c9f6f3fb\")).parents('.cell').data().cell;\n      cell.output_area.append_execute_result(NB_LOAD_WARNING)\n    }\n  }\n\n  if (root._bokeh_is_loading === 0) {\n    console.debug(\"Bokeh: BokehJS loaded, going straight to plotting\");\n    run_inline_js();\n  } else {\n    load_libs(css_urls, js_urls, function() {\n      console.debug(\"Bokeh: BokehJS plotting callback run at\", now());\n      run_inline_js();\n    });\n  }\n}(window));"
     },
     "metadata": {},
     "output_type": "display_data"
    },
    {
     "data": {
      "text/html": [
       "\n",
       "  <div id=\"e79a7a63-246e-414c-9ab4-a722ce73fbb5\" data-root-id=\"p1046\" style=\"display: contents;\"></div>\n"
      ]
     },
     "metadata": {},
     "output_type": "display_data"
    },
    {
     "data": {
      "application/javascript": [
       "(function(root) {\n",
       "  function embed_document(root) {\n",
       "  const docs_json = {\"300f929b-7021-4457-9ff6-15e1257957e3\":{\"version\":\"3.6.2\",\"title\":\"Bokeh Application\",\"roots\":[{\"type\":\"object\",\"name\":\"Column\",\"id\":\"p1046\",\"attributes\":{\"children\":[{\"type\":\"object\",\"name\":\"DataTable\",\"id\":\"p1040\",\"attributes\":{\"source\":{\"type\":\"object\",\"name\":\"ColumnDataSource\",\"id\":\"p1001\",\"attributes\":{\"selected\":{\"type\":\"object\",\"name\":\"Selection\",\"id\":\"p1002\",\"attributes\":{\"indices\":[],\"line_indices\":[]}},\"selection_policy\":{\"type\":\"object\",\"name\":\"UnionRenderers\",\"id\":\"p1003\"},\"data\":{\"type\":\"map\",\"entries\":[[\"index\",{\"type\":\"ndarray\",\"array\":{\"type\":\"bytes\",\"data\":\"AAAAAAEAAAACAAAAAwAAAAQAAAAFAAAABgAAAAcAAAAIAAAACQAAAAoAAAALAAAADAAAAA0AAAAOAAAADwAAABAAAAARAAAAEgAAABMAAAAUAAAAFQAAABYAAAAXAAAAGAAAABkAAAAaAAAAGwAAABwAAAAdAAAAHgAAAB8AAAAgAAAAIQAAACIAAAAjAAAAJAAAACUAAAAmAAAAJwAAACgAAAApAAAAKgAAACsAAAAsAAAALQAAAC4AAAAvAAAAMAAAADEAAAAyAAAAMwAAADQAAAA1AAAANgAAADcAAAA4AAAAOQAAADoAAAA7AAAAPAAAAD0AAAA+AAAAPwAAAEAAAABBAAAAQgAAAEMAAABEAAAARQAAAEYAAABHAAAASAAAAEkAAABKAAAASwAAAEwAAABNAAAATgAAAE8AAABQAAAAUQAAAFIAAABTAAAAVAAAAFUAAABWAAAAVwAAAFgAAABZAAAAWgAAAFsAAABcAAAAXQAAAF4AAABfAAAAYAAAAGEAAABiAAAAYwAAAA==\"},\"shape\":[100],\"dtype\":\"int32\",\"order\":\"little\"}],[\"id\",{\"type\":\"ndarray\",\"array\":{\"type\":\"bytes\",\"data\":\"dfkXAE/5FwAi+RcA2PgXANb4FwDi+BcAzfgXAKj4FwC5+BcAmPgXAGn4FwBT+BcARvgXAEL4FwBD+BcAKfgXABb4FwDC9xcAtfcXAKv3FwCc9xcAnfcXAE73FwBS9xcAlPcXAFf3FwBu9xcAbfcXAGv3FwBm9xcAZPcXAFr3FwBp9xcAevcXAGf3FwBi9xcAW/cXADL3FwAw9xcAFvcXAAn3FwBW8xcA7PYXAOj2FwDm9hcA2/YXAOr2FwDX9hcAzPYXAKX2FwCb9hcAl/YXAI/2FwCI9hcAhfYXAH72FwBx9hcATfYXABb2FwAm9hcA6fUXAOz1FwDf9RcAvvUXAJ/1FwCS9RcAcvUXAFf1FwBe9RcAXfUXAEz1FwAw9RcAG/UXAEL1FwA09RcACvUXABL1FwAL9RcA9fQXAH70FwCA9BcAlfQXAN/zFwCB9BcAcPQXAGv0FwBq9BcAD/QXAFL0FwBI9BcAiPQXAHXzFwBd8xcAXvMXAG3zFwBR8xcA9vIXACzzFwAY8xcADfMXAA==\"},\"shape\":[100],\"dtype\":\"int32\",\"order\":\"little\"}],[\"url\",{\"type\":\"ndarray\",\"array\":[\"https://www.berlin.de/rbmskzl/aktuelles/pressemitteilungen/2025/pressemitteilung.1571189.php\",\"https://www.berlin.de/ba-spandau/aktuelles/pressemitteilungen/2025/pressemitteilung.1571151.php\",\"https://www.berlin.de/ba-marzahn-hellersdorf/aktuelles/pressemitteilungen/2025/pressemitteilung.1571106.php\",\"https://www.berlin.de/ba-lichtenberg/aktuelles/pressemitteilungen/2025/pressemitteilung.1571032.php\",\"https://www.berlin.de/ba-neukoelln/aktuelles/pressemitteilungen/2025/pressemitteilung.1571030.php\",\"https://www.berlin.de/ba-friedrichshain-kreuzberg/aktuelles/pressemitteilungen/2025/pressemitteilung.1571042.php\",\"https://www.berlin.de/ba-steglitz-zehlendorf/aktuelles/pressemitteilungen/2025/pressemitteilung.1571021.php\",\"https://www.berlin.de/ba-spandau/aktuelles/pressemitteilungen/2025/pressemitteilung.1570984.php\",\"https://www.berlin.de/ba-friedrichshain-kreuzberg/aktuelles/pressemitteilungen/2025/pressemitteilung.1571001.php\",\"https://www.berlin.de/ba-treptow-koepenick/aktuelles/pressemitteilungen/2025/pressemitteilung.1570968.php\",\"https://www.berlin.de/ba-neukoelln/aktuelles/pressemitteilungen/2025/pressemitteilung.1570921.php\",\"https://www.berlin.de/ba-reinickendorf/aktuelles/pressemitteilungen/2025/pressemitteilung.1570899.php\",\"https://www.berlin.de/ba-charlottenburg-wilmersdorf/aktuelles/pressemitteilungen/2025/pressemitteilung.1570886.php\",\"https://www.berlin.de/ba-marzahn-hellersdorf/aktuelles/pressemitteilungen/2025/pressemitteilung.1570882.php\",\"https://www.berlin.de/ba-spandau/aktuelles/pressemitteilungen/2025/pressemitteilung.1570883.php\",\"https://www.berlin.de/ba-marzahn-hellersdorf/aktuelles/pressemitteilungen/2025/pressemitteilung.1570857.php\",\"https://www.berlin.de/sen/kultgz/aktuelles/pressemitteilungen/2025/pressemitteilung.1570838.php\",\"https://www.berlin.de/ba-steglitz-zehlendorf/aktuelles/pressemitteilungen/2025/pressemitteilung.1570754.php\",\"https://www.berlin.de/ba-spandau/aktuelles/pressemitteilungen/2025/pressemitteilung.1570741.php\",\"https://www.berlin.de/ba-marzahn-hellersdorf/aktuelles/pressemitteilungen/2025/pressemitteilung.1570731.php\",\"https://www.berlin.de/ba-marzahn-hellersdorf/aktuelles/pressemitteilungen/2025/pressemitteilung.1570716.php\",\"https://www.berlin.de/ba-mitte/aktuelles/pressemitteilungen/2025/pressemitteilung.1570717.php\",\"https://www.berlin.de/rbmskzl/aktuelles/pressemitteilungen/2025/pressemitteilung.1570638.php\",\"https://www.berlin.de/rbmskzl/aktuelles/pressemitteilungen/2025/pressemitteilung.1570642.php\",\"https://www.berlin.de/sen/justv/presse/pressemitteilungen/2025/pressemitteilung.1570708.php\",\"https://www.berlin.de/rbmskzl/aktuelles/pressemitteilungen/2025/pressemitteilung.1570647.php\",\"https://www.berlin.de/rbmskzl/aktuelles/pressemitteilungen/2025/pressemitteilung.1570670.php\",\"https://www.berlin.de/rbmskzl/aktuelles/pressemitteilungen/2025/pressemitteilung.1570669.php\",\"https://www.berlin.de/rbmskzl/aktuelles/pressemitteilungen/2025/pressemitteilung.1570667.php\",\"https://www.berlin.de/rbmskzl/aktuelles/pressemitteilungen/2025/pressemitteilung.1570662.php\",\"https://www.berlin.de/rbmskzl/aktuelles/pressemitteilungen/2025/pressemitteilung.1570660.php\",\"https://www.berlin.de/rbmskzl/aktuelles/pressemitteilungen/2025/pressemitteilung.1570650.php\",\"https://www.berlin.de/ba-treptow-koepenick/aktuelles/pressemitteilungen/2025/pressemitteilung.1570665.php\",\"https://www.berlin.de/ba-neukoelln/aktuelles/pressemitteilungen/2025/pressemitteilung.1570682.php\",\"https://www.berlin.de/ba-pankow/aktuelles/pressemitteilungen/2025/pressemitteilung.1570663.php\",\"https://www.berlin.de/ba-tempelhof-schoeneberg/aktuelles/pressemitteilungen/2025/pressemitteilung.1570658.php\",\"https://www.berlin.de/ba-spandau/aktuelles/pressemitteilungen/2025/pressemitteilung.1570651.php\",\"https://www.berlin.de/ba-marzahn-hellersdorf/aktuelles/pressemitteilungen/2025/pressemitteilung.1570610.php\",\"https://www.berlin.de/ba-charlottenburg-wilmersdorf/aktuelles/pressemitteilungen/2025/pressemitteilung.1570608.php\",\"https://www.berlin.de/ba-marzahn-hellersdorf/aktuelles/pressemitteilungen/2025/pressemitteilung.1570582.php\",\"https://www.berlin.de/ba-friedrichshain-kreuzberg/aktuelles/pressemitteilungen/2025/pressemitteilung.1570569.php\",\"https://www.berlin.de/ba-treptow-koepenick/aktuelles/pressemitteilungen/2025/pressemitteilung.1569622.php\",\"https://www.berlin.de/rbmskzl/aktuelles/pressemitteilungen/2025/pressemitteilung.1570540.php\",\"https://www.berlin.de/ba-reinickendorf/aktuelles/pressemitteilungen/2025/pressemitteilung.1570536.php\",\"https://www.berlin.de/ba-neukoelln/aktuelles/pressemitteilungen/2025/pressemitteilung.1570534.php\",\"https://www.berlin.de/ba-mitte/aktuelles/pressemitteilungen/2025/pressemitteilung.1570523.php\",\"https://www.berlin.de/ba-friedrichshain-kreuzberg/aktuelles/pressemitteilungen/2025/pressemitteilung.1570538.php\",\"https://www.berlin.de/ba-treptow-koepenick/aktuelles/pressemitteilungen/2025/pressemitteilung.1570519.php\",\"https://www.berlin.de/ba-marzahn-hellersdorf/aktuelles/pressemitteilungen/2025/pressemitteilung.1570508.php\",\"https://www.berlin.de/sen/web/presse/pressemitteilungen/2025/pressemitteilung.1570469.php\",\"https://www.berlin.de/ba-spandau/aktuelles/pressemitteilungen/2025/pressemitteilung.1570459.php\",\"https://www.berlin.de/ba-spandau/aktuelles/pressemitteilungen/2025/pressemitteilung.1570455.php\",\"https://www.berlin.de/ba-spandau/aktuelles/pressemitteilungen/2025/pressemitteilung.1570447.php\",\"https://www.berlin.de/ba-treptow-koepenick/aktuelles/pressemitteilungen/2025/pressemitteilung.1570440.php\",\"https://www.berlin.de/ba-spandau/aktuelles/pressemitteilungen/2025/pressemitteilung.1570437.php\",\"https://www.berlin.de/ba-mitte/aktuelles/pressemitteilungen/2025/pressemitteilung.1570430.php\",\"https://www.berlin.de/ba-treptow-koepenick/aktuelles/pressemitteilungen/2025/pressemitteilung.1570417.php\",\"https://www.berlin.de/ba-reinickendorf/aktuelles/pressemitteilungen/2025/pressemitteilung.1570381.php\",\"https://www.berlin.de/ba-tempelhof-schoeneberg/aktuelles/pressemitteilungen/2025/pressemitteilung.1570326.php\",\"https://www.berlin.de/ba-lichtenberg/aktuelles/pressemitteilungen/2025/pressemitteilung.1570342.php\",\"https://www.berlin.de/ba-tempelhof-schoeneberg/aktuelles/pressemitteilungen/2025/pressemitteilung.1570281.php\",\"https://www.berlin.de/ba-charlottenburg-wilmersdorf/aktuelles/pressemitteilungen/2025/pressemitteilung.1570284.php\",\"https://www.berlin.de/ba-reinickendorf/aktuelles/pressemitteilungen/2025/pressemitteilung.1570271.php\",\"https://www.berlin.de/ba-spandau/aktuelles/pressemitteilungen/2025/pressemitteilung.1570238.php\",\"https://www.berlin.de/ba-tempelhof-schoeneberg/aktuelles/pressemitteilungen/2025/pressemitteilung.1570207.php\",\"https://www.berlin.de/rbmskzl/aktuelles/pressemitteilungen/2025/pressemitteilung.1570194.php\",\"https://www.berlin.de/ba-treptow-koepenick/aktuelles/pressemitteilungen/2025/pressemitteilung.1570162.php\",\"https://www.berlin.de/sen/bjf/service/presse/pressearchiv-2025/pressemitteilung.1570135.php\",\"https://www.berlin.de/sen/wgp/presse/2025/pressemitteilung.1570142.php\",\"https://www.berlin.de/rbmskzl/aktuelles/pressemitteilungen/2025/pressemitteilung.1570141.php\",\"https://www.berlin.de/ba-treptow-koepenick/aktuelles/pressemitteilungen/2025/pressemitteilung.1570124.php\",\"https://www.berlin.de/ba-reinickendorf/aktuelles/pressemitteilungen/2025/pressemitteilung.1570096.php\",\"https://www.berlin.de/rbmskzl/aktuelles/pressemitteilungen/2025/pressemitteilung.1570075.php\",\"https://www.berlin.de/ba-friedrichshain-kreuzberg/aktuelles/pressemitteilungen/2025/pressemitteilung.1570114.php\",\"https://www.berlin.de/ba-friedrichshain-kreuzberg/aktuelles/pressemitteilungen/2025/pressemitteilung.1570100.php\",\"https://www.berlin.de/ba-treptow-koepenick/aktuelles/pressemitteilungen/2025/pressemitteilung.1570058.php\",\"https://www.berlin.de/ba-reinickendorf/aktuelles/pressemitteilungen/2025/pressemitteilung.1570066.php\",\"https://www.berlin.de/ba-reinickendorf/aktuelles/pressemitteilungen/2025/pressemitteilung.1570059.php\",\"https://www.berlin.de/ba-reinickendorf/aktuelles/pressemitteilungen/2025/pressemitteilung.1570037.php\",\"https://www.berlin.de/sen/uvk/presse/pressemitteilungen/2025/pressemitteilung.1569918.php\",\"https://www.berlin.de/ba-treptow-koepenick/aktuelles/pressemitteilungen/2025/pressemitteilung.1569920.php\",\"https://www.berlin.de/ba-neukoelln/aktuelles/pressemitteilungen/2025/pressemitteilung.1569941.php\",\"https://www.berlin.de/ba-treptow-koepenick/aktuelles/pressemitteilungen/2025/pressemitteilung.1569759.php\",\"https://www.berlin.de/ba-reinickendorf/aktuelles/pressemitteilungen/2025/pressemitteilung.1569921.php\",\"https://www.berlin.de/ba-reinickendorf/aktuelles/pressemitteilungen/2025/pressemitteilung.1569904.php\",\"https://www.berlin.de/ba-friedrichshain-kreuzberg/aktuelles/pressemitteilungen/2025/pressemitteilung.1569899.php\",\"https://www.berlin.de/ba-charlottenburg-wilmersdorf/aktuelles/pressemitteilungen/2025/pressemitteilung.1569898.php\",\"https://www.berlin.de/ba-treptow-koepenick/aktuelles/pressemitteilungen/2025/pressemitteilung.1569807.php\",\"https://www.berlin.de/ba-steglitz-zehlendorf/aktuelles/pressemitteilungen/2025/pressemitteilung.1569874.php\",\"https://www.berlin.de/ba-marzahn-hellersdorf/aktuelles/pressemitteilungen/2025/pressemitteilung.1569864.php\",\"https://www.berlin.de/ba-neukoelln/aktuelles/pressemitteilungen/2025/pressemitteilung.1569928.php\",\"https://www.berlin.de/ba-treptow-koepenick/aktuelles/pressemitteilungen/2025/pressemitteilung.1569653.php\",\"https://www.berlin.de/ba-steglitz-zehlendorf/aktuelles/pressemitteilungen/2025/pressemitteilung.1569629.php\",\"https://www.berlin.de/ba-marzahn-hellersdorf/aktuelles/pressemitteilungen/2025/pressemitteilung.1569630.php\",\"https://www.berlin.de/ba-friedrichshain-kreuzberg/aktuelles/pressemitteilungen/2025/pressemitteilung.1569645.php\",\"https://www.berlin.de/rbmskzl/aktuelles/pressemitteilungen/2025/pressemitteilung.1569617.php\",\"https://www.berlin.de/ba-treptow-koepenick/aktuelles/pressemitteilungen/2025/pressemitteilung.1569526.php\",\"https://www.berlin.de/ba-mitte/aktuelles/pressemitteilungen/2025/pressemitteilung.1569580.php\",\"https://www.berlin.de/ba-treptow-koepenick/aktuelles/pressemitteilungen/2025/pressemitteilung.1569560.php\",\"https://www.berlin.de/rbmskzl/aktuelles/pressemitteilungen/2025/pressemitteilung.1569549.php\"],\"shape\":[100],\"dtype\":\"object\",\"order\":\"little\"}],[\"date\",{\"type\":\"ndarray\",\"array\":{\"type\":\"bytes\",\"data\":\"AADAXQV4eUIAAMBdBXh5QgAAwF0FeHlCAADAXQV4eUIAAMBdBXh5QgAAwF0FeHlCAADAXQV4eUIAAMBdBXh5QgAAwF0FeHlCAADAXQV4eUIAAMBdBXh5QgAAAPiyd3lCAAAA+LJ3eUIAAAD4snd5QgAAAPiyd3lCAAAA+LJ3eUIAAAD4snd5QgAAAPiyd3lCAAAA+LJ3eUIAAAD4snd5QgAAAPiyd3lCAAAA+LJ3eUIAAAD4snd5QgAAAPiyd3lCAAAA+LJ3eUIAAAD4snd5QgAAAPiyd3lCAAAA+LJ3eUIAAAD4snd5QgAAAPiyd3lCAAAA+LJ3eUIAAAD4snd5QgAAAPiyd3lCAAAA+LJ3eUIAAAD4snd5QgAAAPiyd3lCAAAA+LJ3eUIAAAD4snd5QgAAAPiyd3lCAAAA+LJ3eUIAAAD4snd5QgAAAPiyd3lCAAAA+LJ3eUIAAAD4snd5QgAAAPiyd3lCAAAA+LJ3eUIAAAD4snd5QgAAAPiyd3lCAAAA+LJ3eUIAAECSYHd5QgAAQJJgd3lCAABAkmB3eUIAAECSYHd5QgAAQJJgd3lCAABAkmB3eUIAAECSYHd5QgAAQJJgd3lCAABAkmB3eUIAAECSYHd5QgAAQJJgd3lCAABAkmB3eUIAAECSYHd5QgAAQJJgd3lCAABAkmB3eUIAAECSYHd5QgAAQJJgd3lCAABAkmB3eUIAAECSYHd5QgAAQJJgd3lCAABAkmB3eUIAAECSYHd5QgAAQJJgd3lCAABAkmB3eUIAAECSYHd5QgAAQJJgd3lCAABAkmB3eUIAAECSYHd5QgAAQJJgd3lCAABAkmB3eUIAAMDGu3Z5QgAAAGFpdnlCAAAAYWl2eUIAAABhaXZ5QgAAAGFpdnlCAAAAYWl2eUIAAABhaXZ5QgAAAGFpdnlCAAAAYWl2eUIAAABhaXZ5QgAAAGFpdnlCAAAAYWl2eUIAAABhaXZ5QgAAAGFpdnlCAAAAYWl2eUIAAABhaXZ5QgAAAGFpdnlCAAAAYWl2eUIAAABhaXZ5QgAAAGFpdnlCAABA+xZ2eUI=\"},\"shape\":[100],\"dtype\":\"float64\",\"order\":\"little\"}],[\"title\",{\"type\":\"ndarray\",\"array\":[\"Mehr Sicherheit f\\u00fcr Daten und Digitalisierungsprojekte \\u2013 der neue Data-Governance-Wegweiser\",\"Aufruf zur Teilnahme: Online-Befragung Spandauer Unternehmen zur Entwicklung eines bezirklichen Wirtschaftsfl\\u00e4chenkonzepts gestartet\",\"Marzahn-Hellersdorf sucht freie R\\u00e4ume f\\u00fcr b\\u00fcrgerschaftliches Engagement\",\"4. Queere Kunst- und Kulturtage in Lichtenberg\",\"Online-Umfrage zur Sauberkeit und Ordnung in Berlin\",\"Lesung von Mareike Barmeyer mit \\u201eLauf, Mama, lauf! Geschichten mit Kindern\\u201c in der Bezirkszentralbibliothek\",\"24. \\u00f6ffentliche Sitzung des Ausschusses f\\u00fcr Geb\\u00e4ude, Wirtschaft, Inklusion, Verwaltungsmodernisierung, Digitalisierung\",\"Presseeinladung: Hissen der Prideflagge am 09.07.2025 vor dem Rathaus Spandau\",\"JazzOrchester X-berg (JOX) gewinnt 1. Platz beim Deutschen Orchesterwettbewerb 2025\",\"Sommerzeit ist Badezeit: Der FEZ-Badesee startet in die Saison\",\"B\\u00fcrgersprechstunden der Bezirksamtsmitglieder und Kiez-Tour mit Bezirksb\\u00fcrgermeister\",\"Reinickendorf gedenkt der Opfer des Volksaufstandes vom 17. Juni 1953\",\"Starker Befall mit Eichenprozessionsspinnern im Volkspark Jungfernheide \\u2013 Teilweise Schlie\\u00dfungen und Schutzma\\u00dfnahmen\",\"Sichere Schulwege digital: Das neue \\u201eSchulwegportal\\u201c\",\"Modernisiertes Spielfeld am Cosmarweg st\\u00e4rkt Bewegung und Teilhabe\",\"Halt, Beratung und konkrete Hilfe f\\u00fcr junge Menschen in Krisensituationen: neue Au\\u00dfenstelle der Manege gGmbH in Hellersdorf er\\u00f6ffnet\",\"Berliner Gedenktafel f\\u00fcr Anna Maria Jokl\",\"Bildungswoche mit Konferenz 2025: Digitale Jugendarbeit im Fokus (23.06. bis 27.06.2025)\",\"F\\u00eate de la musique \\u2013 Musikmeile in der Spandauer Altstadt\",\"Hitzeschutz f\\u00fcr wohnungs- und obdachlose Menschen in Marzahn-Hellersdorf\",\"Fantasy bei Mark Twain: Lisanne Surborg liest aus \\u201eNachtl\\u00fcgen\\u201c in Marzahn-Hellersdorf\",\"\\u00d6ffentlichkeitsbeteiligung zu Kiezblocks im Bezirk Mitte: Die zweite Online-Beteiligung ist gestartet\",\"Fortschreibung von L\\u00e4rmaktionsplan und Luftreinhalteplan f\\u00fcr Berlin\",\"Mitteilung des Senates zum Abgeordnetenhausbeschluss \\u201eAusreichend Lades\\u00e4ulen f\\u00fcr Berlin\\u201c\",\"Justizakademie Berlin er\\u00f6ffnet - Neues Ausbildungszentrum f\\u00fcr die Berliner Justiz in Moabit\",\"Senat beschlie\\u00dft Berliner Biodiversit\\u00e4tsstrategie 2030+\",\"Senat beruft zwei neue Mitglieder in den Berliner Klimaschutzrat\",\"Senat stimmt Dienstvertrag mit Matthias Lilienthal als Intendant der Volksb\\u00fchne zu\",\"\\u00c4nderung des Gesetzes \\u00fcber das Vermessungswesen in Berlin\",\"Betriebliches Gesundheitsmanagement und Arbeitgeberattraktivit\\u00e4t: Senat schafft M\\u00f6glichkeiten f\\u00fcr Hunde am Arbeitsplatz\",\"Sachstandsbericht zur Weiterentwicklung der B\\u00fcrger\\u00e4mter beschlossen\",\"Berlin modernisiert Lehrkr\\u00e4ftebildung\",\"Seniorenwoche in Berlin: Mit vielen Veranstaltungen f\\u00fcr Seniorinnen und Senioren in Treptow-K\\u00f6penick\",\"Im Neuk\\u00f6llner Haushalt drohen drastische Einsparungen\",\"Pankower Ausbildungspreis 2025 ausgelobt - Bewerbungen bis 31. Juli 2025 m\\u00f6glich\",\"Jetzt bewerben: F\\u00f6rderung f\\u00fcr nachbarschaftliche Projekte in der Neuen Mitte Tempelhof\",\"Mayors for Peace \\u2013 Flagge zeigen f\\u00fcr den Frieden\",\"\\\"Tag der Offenen Gesellschaft\\\" in der Mark-Twain-Zentralbibliothek\",\"\\u201eSpurensuche\\u201c \\u2013 Ausstellung von Sch\\u00fcler:innen der Arno-Fuchs-Schule in der Kommunalen Galerie Berlin\",\"\\u201eMarzahn, mon amour\\u201c \\u2013 Einladung zur kostenlosen Vorf\\u00fchrung ein Jahr nach den Dreharbeiten\",\"Ausstellung \\u201eaufbrechen\\u201c der Jugendkunstschule FRI-X BERG im Projektraum Alte Feuerwache\",\"8. Berliner Wassersportfest vom 27. bis 29. Juni 2025 an der Regattastrecke Gr\\u00fcnau\",\"Presseeinladung: Tag der Offenen T\\u00fcr im Roten Rathaus\",\"Museum Reinickendorf \\u2013 Sommerferienangebote 2025\",\"\\u201eOptimismus f\\u00fcr Realisten\\u201c - Lesung und Gespr\\u00e4ch mit Sina Haghiri\",\"Kulturtipps aus Mitte\",\"Silvio-Meier-Preis 2025 geht an die Theatermacherin, Autorin und Aktivistin Simone Dede Ayivi und den Verein Suppe & Mucke\",\"Neue Einladung zur Engagement Werkstatt Sch\\u00f6neweide am 10. Juli 2025\",\"Gut informiert und aktiv in den Ruhestand: Einladung zu Informationsveranstaltungen\",\"Berlin stellt neues Esport-Nachwuchsteam vor \\u2013 20 Talente starten gef\\u00f6rdert in den Profibereich\",\"Drei Sprachen, ein Tag: Dein Tor zum Norden\",\"Schnupperkurs Qi Gong in der Stadtbibliothek Spandau\",\"Digitaltag 2025: Digitalisierung von Archivbest\\u00e4nden\",\"Kunst am Bau: Entscheidung im Kunstwettbewerb f\\u00fcr den Schulneubau am Stellingdamm/Hirtestra\\u00dfe 10 in Berlin-K\\u00f6penick\",\"Lebendige B\\u00fccher: Triff dein Vorurteil\",\"Aufruf zur Teilnahme am B\\u00fcrger*innen-F\\u00f6rderfonds \\u201eWE ARE LEO\\u201c\",\"Jugendfreizeiteinrichtung \\u201eW\\u00fcrfel\\u201c l\\u00e4dt ein zur \\u201eDisco f\\u00fcr Alle\\u201c\",\"\\u201eAllee der Kl\\u00e4nge\\u201c bezaubert den Augustekiez\",\"Naturschutz zum Mitmachen beim NachbarSchatz\",\"Feierliche Er\\u00f6ffnung der Kita Gudrunstra\\u00dfe\",\"Er\\u00f6ffnung der Car-Sharing-Station Goltzstra\\u00dfe\",\"Raum f\\u00fcr Beteiligung: \\u201eKieze, Kioske, Kompetenzen!\\u201c am F\\u00fcrstenplatz\",\"45 Jahre T\\u00f6ne der Freundschaft: Deutsch-Franz\\u00f6sische Musikschule feiert ihr Jubil\\u00e4um\",\"Spandau empf\\u00e4ngt Delegation aus Korosten\",\"Er\\u00f6ffnung der Jelbi-Station U Friedrich-Wilhelm-Platz/Schmiljanstra\\u00dfe\",\"Presseeinladung: Berliner Hoffest 2025 am 1. Juli \\u2013 Akkreditierung erforderlich\",\"Einschr\\u00e4nkungen des Dienstbetriebes im Bereich Kindertagesbetreuung und Familienserviceb\\u00fcro des Jugendamtes\",\"Berlin geht neue Wege: Einf\\u00fchrung eines Flex-Masters im Lehramtsstudium\",\"Berlin geht neue Wege: Einf\\u00fchrung eines Flex-Masters im Lehramtsstudium\",\"\\u201eKai Wegner vor Ort\\u201c am 21. Juli 2025 in Neuk\\u00f6lln\",\"F\\u00fcr immer jung \\u2013 Die Poeten vom M\\u00fcggelsee feiern Geburtstag\",\"\\u201eMusique dans le jardin\\u201c bringt sommerliche Kl\\u00e4nge in den Museumsgarten\",\"Wegner zum 72. Jahrestag des Aufstands vom 17. Juni 1953\",\"Schlie\\u00dftage der B\\u00fcrger\\u00e4mter in Friedrichshain-Kreuzberg\",\"Online-Befragung des Bezirksamtes zum Sportverhalten\",\"Baumf\\u00e4llungen in der Woche vom 16. bis 20. Juni 2025\",\"Kranzniederlegung f\\u00fcr die Opfer des Volksaufstandes vom 17. Juni 1953\",\"Haushaltsbefragung im Milieuschutzgebiet \\u201eLetteplatz\\u201c gestartet\",\"Kiezfest Rollbergesiedlung \\u2013 Nachbarschaft gestalten, Kiezlabor erleben\",\"Volle Fahrt voraus f\\u00fcr Berlins Vielfalt\",\"Die Rolle der Frauen in der K\\u00f6penicker Blutwoche. Eine Spurensuche im Elsengrund.\",\"28. Neuk\\u00f6llner Theatertreffen der Grundschulen\",\"Sommerfest im Wuhlegarten: Einladung zum interkulturellen Gartenfest in K\\u00f6penick\",\"Verkehrssicherheit im Blick: Gemeinsamer Einsatz von Berliner Feuerwehr und Ordnungsamt Reinickendorf\",\"Schlie\\u00dfzeiten im Amt f\\u00fcr Soziales\",\"Extreme Hitze in Innenst\\u00e4dten: Wie Friedrichshain-Kreuzberg seine B\\u00fcrger*innen sch\\u00fctzt\",\"Kandidat:innen f\\u00fcr B\\u00fcrgermedaille 2025 gesucht\",\"Das VHS-Herbstprogramm 2025 ist da\",\"BVV: 38. \\u00f6ffentliche Sitzung der Bezirksverordnetenversammlung Steglitz-Zehlendorf am 18.06.2025\",\"radio connection in Marzahn-Hellersdorf: Spendenaufruf f\\u00fcr festes Tonstudio\",\"Erste Schlie\\u00dff\\u00e4cher f\\u00fcr das Hab und Gut von obdachlosen Menschen in Neuk\\u00f6lln\",\"Woche der Religionen \\u2013 Eine lokale Tradition im Entstehen\",\"BVV: 23. \\u00f6ffentliche Sitzung des Sportausschusses am 19.06.2025\",\"Neues \\\"Open Space\\\"-Angebot in Marzahn-Hellersdorf f\\u00fcr junge Erwachsene in der Selbsthilfe\",\"Sommerfest der Else-Ury-Familienbibliothek l\\u00e4dt Familien zum Feiern ein\",\"Wegner zum Nationalen Veteranentag am Sonntag \\u2013 Regierender B\\u00fcrgermeister verleiht Fahnenband an das Sanit\\u00e4tsregiment 1 F\\u00fchrungsbereich Berlin\",\"Einweihung zweier Gedenktafeln auf dem Friedhof Rahnsdorf \\u2013 Erinnerung an Johann Fischer-Jung und Emil Wei\\u00df\",\"F\\u00eate de la Musique im B\\u00e4renzwinger Berlin\",\"Sozialpolitische Sprechstunde f\\u00fcr Seniorinnen und Senioren gemeinsam mit der Seniorenvertretung am 14. Juli 2025\",\"Wegner \\u00fcbergibt Dietmar Arnold das Bundesverdienstkreuz\"],\"shape\":[100],\"dtype\":\"object\",\"order\":\"little\"}],[\"source\",{\"type\":\"ndarray\",\"array\":[\"Presse- und Informationsamt des Landes Berlin\",\"Bezirksamt Spandau\",\"Bezirksamt Marzahn-Hellersdorf\",\"Bezirksamt Lichtenberg\",\"Bezirksamt Neuk\\u00f6lln\",\"Bezirksamt Friedrichshain-Kreuzberg\",\"Bezirksamt Steglitz-Zehlendorf\",\"Bezirksamt Spandau\",\"Bezirksamt Friedrichshain-Kreuzberg\",\"Bezirksamt Treptow-K\\u00f6penick\",\"Bezirksamt Neuk\\u00f6lln\",\"Bezirksamt Reinickendorf\",\"Bezirksamt Charlottenburg-Wilmersdorf\",\"Bezirksamt Marzahn-Hellersdorf\",\"Bezirksamt Spandau\",\"Bezirksamt Marzahn-Hellersdorf\",\"Senatsverwaltung f\\u00fcr Kultur und Gesellschaftlichen Zusammenhalt\",\"Bezirksamt Steglitz-Zehlendorf\",\"Bezirksamt Spandau\",\"Bezirksamt Marzahn-Hellersdorf\",\"Bezirksamt Marzahn-Hellersdorf\",\"Bezirksamt Mitte\",\"Presse- und Informationsamt des Landes Berlin(Senatsverwaltung f\\u00fcr Mobilit\\u00e4t, Verkehr, Klimaschutz und Umwelt)\",\"Presse- und Informationsamt des Landes Berlin(Senatsverwaltung f\\u00fcr Mobilit\\u00e4t, Verkehr, Klimaschutz und Umwelt)\",\"Senatsverwaltung f\\u00fcr Justiz und Verbraucherschutz\",\"Presse- und Informationsamt des Landes Berlin(Senatsverwaltung f\\u00fcr Mobilit\\u00e4t, Verkehr, Klimaschutz und Umwelt)\",\"Presse- und Informationsamt des Landes Berlin(Senatsverwaltung f\\u00fcr Mobilit\\u00e4t, Verkehr, Klimaschutz und Umwelt)\",\"Presse- und Informationsamt des Landes Berlin(Senatsverwaltung f\\u00fcr Kultur und Gesellschaftlichen Zusammenhalt)\",\"Presse- und Informationsamt des Landes Berlin(Senatsverwaltung f\\u00fcr Stadtentwicklung, Bauen und Wohnen)\",\"Presse- und Informationsamt des Landes Berlin(Senatsverwaltung f\\u00fcr Finanzen)\",\"Presse- und Informationsamt des Landes Berlin\",\"Presse- und Informationsamt des Landes Berlin(Senatsverwaltung f\\u00fcr Bildung, Jugend und Familie)\",\"Bezirksamt Treptow-K\\u00f6penick\",\"Bezirksamt Neuk\\u00f6lln\",\"Bezirksamt Pankow\",\"Bezirksamt Tempelhof-Sch\\u00f6neberg\",\"Bezirksamt Spandau\",\"Bezirksamt Marzahn-Hellersdorf\",\"Bezirksamt Charlottenburg-Wilmersdorf\",\"Bezirksamt Marzahn-Hellersdorf\",\"Bezirksamt Friedrichshain-Kreuzberg\",\"Bezirksamt Treptow-K\\u00f6penick\",\"Presse- und Informationsamt des Landes Berlin\",\"Bezirksamt Reinickendorf\",\"Bezirksamt Neuk\\u00f6lln\",\"Bezirksamt Mitte\",\"Bezirksamt Friedrichshain-Kreuzberg\",\"Bezirksamt Treptow-K\\u00f6penick\",\"Bezirksamt Marzahn-Hellersdorf\",\"Senatsverwaltung f\\u00fcr Wirtschaft, Energie und Betriebe\",\"Bezirksamt Spandau\",\"Bezirksamt Spandau\",\"Bezirksamt Spandau\",\"Bezirksamt Treptow-K\\u00f6penick\",\"Bezirksamt Spandau\",\"Bezirksamt Mitte\",\"Bezirksamt Treptow-K\\u00f6penick\",\"Bezirksamt Reinickendorf\",\"Bezirksamt Tempelhof-Sch\\u00f6neberg\",\"Bezirksamt Lichtenberg\",\"Bezirksamt Tempelhof-Sch\\u00f6neberg\",\"Bezirksamt Charlottenburg-Wilmersdorf\",\"Bezirksamt Reinickendorf\",\"Bezirksamt Spandau\",\"Bezirksamt Tempelhof-Sch\\u00f6neberg\",\"Presse- und Informationsamt des Landes Berlin\",\"Bezirksamt Treptow-K\\u00f6penick\",\"Senatsverwaltung f\\u00fcr Bildung, Jugend und Familie\",\"Senatsverwaltung f\\u00fcr Wissenschaft, Gesundheit und Pflege\",\"Presse- und Informationsamt des Landes Berlin\",\"Bezirksamt Treptow-K\\u00f6penick\",\"Bezirksamt Reinickendorf\",\"Presse- und Informationsamt des Landes Berlin\",\"Bezirksamt Friedrichshain-Kreuzberg\",\"Bezirksamt Friedrichshain-Kreuzberg\",\"Bezirksamt Treptow-K\\u00f6penick\",\"Bezirksamt Reinickendorf\",\"Bezirksamt Reinickendorf\",\"Bezirksamt Reinickendorf\",\"Senatsverwaltung f\\u00fcr Mobilit\\u00e4t, Verkehr, Klimaschutz und Umwelt\",\"Bezirksamt Treptow-K\\u00f6penick\",\"Bezirksamt Neuk\\u00f6lln\",\"Bezirksamt Treptow-K\\u00f6penick\",\"Bezirksamt Reinickendorf\",\"Bezirksamt Reinickendorf\",\"Bezirksamt Friedrichshain-Kreuzberg\",\"Bezirksamt Charlottenburg-Wilmersdorf\",\"Bezirksamt Treptow-K\\u00f6penick\",\"Bezirksamt Steglitz-Zehlendorf\",\"Bezirksamt Marzahn-Hellersdorf\",\"Bezirksamt Neuk\\u00f6lln\",\"Bezirksamt Treptow-K\\u00f6penick\",\"Bezirksamt Steglitz-Zehlendorf\",\"Bezirksamt Marzahn-Hellersdorf\",\"Bezirksamt Friedrichshain-Kreuzberg\",\"Presse- und Informationsamt des Landes Berlin\",\"Bezirksamt Treptow-K\\u00f6penick\",\"Bezirksamt Mitte\",\"Bezirksamt Treptow-K\\u00f6penick\",\"Presse- und Informationsamt des Landes Berlin\"],\"shape\":[100],\"dtype\":\"object\",\"order\":\"little\"}],[\"filename_html\",{\"type\":\"ndarray\",\"array\":[\"1571189.html\",\"1571151.html\",\"1571106.html\",\"1571032.html\",\"1571030.html\",\"1571042.html\",\"1571021.html\",\"1570984.html\",\"1571001.html\",\"1570968.html\",\"1570921.html\",\"1570899.html\",\"1570886.html\",\"1570882.html\",\"1570883.html\",\"1570857.html\",\"1570838.html\",\"1570754.html\",\"1570741.html\",\"1570731.html\",\"1570716.html\",\"1570717.html\",\"1570638.html\",\"1570642.html\",\"1570708.html\",\"1570647.html\",\"1570670.html\",\"1570669.html\",\"1570667.html\",\"1570662.html\",\"1570660.html\",\"1570650.html\",\"1570665.html\",\"1570682.html\",\"1570663.html\",\"1570658.html\",\"1570651.html\",\"1570610.html\",\"1570608.html\",\"1570582.html\",\"1570569.html\",\"1569622.html\",\"1570540.html\",\"1570536.html\",\"1570534.html\",\"1570523.html\",\"1570538.html\",\"1570519.html\",\"1570508.html\",\"1570469.html\",\"1570459.html\",\"1570455.html\",\"1570447.html\",\"1570440.html\",\"1570437.html\",\"1570430.html\",\"1570417.html\",\"1570381.html\",\"1570326.html\",\"1570342.html\",\"1570281.html\",\"1570284.html\",\"1570271.html\",\"1570238.html\",\"1570207.html\",\"1570194.html\",\"1570162.html\",\"1570135.html\",\"1570142.html\",\"1570141.html\",\"1570124.html\",\"1570096.html\",\"1570075.html\",\"1570114.html\",\"1570100.html\",\"1570058.html\",\"1570066.html\",\"1570059.html\",\"1570037.html\",\"1569918.html\",\"1569920.html\",\"1569941.html\",\"1569759.html\",\"1569921.html\",\"1569904.html\",\"1569899.html\",\"1569898.html\",\"1569807.html\",\"1569874.html\",\"1569864.html\",\"1569928.html\",\"1569653.html\",\"1569629.html\",\"1569630.html\",\"1569645.html\",\"1569617.html\",\"1569526.html\",\"1569580.html\",\"1569560.html\",\"1569549.html\"],\"shape\":[100],\"dtype\":\"object\",\"order\":\"little\"}],[\"filename\",{\"type\":\"ndarray\",\"array\":[\"1571189.txt\",\"1571151.txt\",\"1571106.txt\",\"1571032.txt\",\"1571030.txt\",\"1571042.txt\",\"1571021.txt\",\"1570984.txt\",\"1571001.txt\",\"1570968.txt\",\"1570921.txt\",\"1570899.txt\",\"1570886.txt\",\"1570882.txt\",\"1570883.txt\",\"1570857.txt\",\"1570838.txt\",\"1570754.txt\",\"1570741.txt\",\"1570731.txt\",\"1570716.txt\",\"1570717.txt\",\"1570638.txt\",\"1570642.txt\",\"1570708.txt\",\"1570647.txt\",\"1570670.txt\",\"1570669.txt\",\"1570667.txt\",\"1570662.txt\",\"1570660.txt\",\"1570650.txt\",\"1570665.txt\",\"1570682.txt\",\"1570663.txt\",\"1570658.txt\",\"1570651.txt\",\"1570610.txt\",\"1570608.txt\",\"1570582.txt\",\"1570569.txt\",\"1569622.txt\",\"1570540.txt\",\"1570536.txt\",\"1570534.txt\",\"1570523.txt\",\"1570538.txt\",\"1570519.txt\",\"1570508.txt\",\"1570469.txt\",\"1570459.txt\",\"1570455.txt\",\"1570447.txt\",\"1570440.txt\",\"1570437.txt\",\"1570430.txt\",\"1570417.txt\",\"1570381.txt\",\"1570326.txt\",\"1570342.txt\",\"1570281.txt\",\"1570284.txt\",\"1570271.txt\",\"1570238.txt\",\"1570207.txt\",\"1570194.txt\",\"1570162.txt\",\"1570135.txt\",\"1570142.txt\",\"1570141.txt\",\"1570124.txt\",\"1570096.txt\",\"1570075.txt\",\"1570114.txt\",\"1570100.txt\",\"1570058.txt\",\"1570066.txt\",\"1570059.txt\",\"1570037.txt\",\"1569918.txt\",\"1569920.txt\",\"1569941.txt\",\"1569759.txt\",\"1569921.txt\",\"1569904.txt\",\"1569899.txt\",\"1569898.txt\",\"1569807.txt\",\"1569874.txt\",\"1569864.txt\",\"1569928.txt\",\"1569653.txt\",\"1569629.txt\",\"1569630.txt\",\"1569645.txt\",\"1569617.txt\",\"1569526.txt\",\"1569580.txt\",\"1569560.txt\",\"1569549.txt\"],\"shape\":[100],\"dtype\":\"object\",\"order\":\"little\"}],[\"n_tokens\",{\"type\":\"ndarray\",\"array\":{\"type\":\"bytes\",\"data\":\"EgMAAMkCAACfAgAAPAMAANIDAAD0BQAAvwIAAHkCAADVBQAAsAMAAIgDAADZAgAAIQUAAHADAAASAwAAegMAAMUCAAAXBAAAJwMAAFADAAC0AgAAqwMAAKUDAADmAgAABgMAALcCAABwAgAAQAIAAHoCAADUAgAAOQIAAFoDAACDBAAAeAQAAOgCAAASBAAAtQIAAKcCAACOBAAATwMAAC0GAACjAwAAewIAAAkDAABlAwAA6gMAAEwHAADSBAAAEgMAAKUDAADyAgAAkgIAAMACAADwAwAAwAIAAMADAACmAwAA3AIAABkEAABqBAAAegMAALIEAAAUAwAASQMAAD8EAAAvAgAAjgMAAMkDAACOBAAAGwIAAHEEAADhAgAAdQIAABkFAAA7BQAAcQMAACICAAANAwAA1QIAAEcQAACrAwAAiwMAAJwDAADWAgAAnQIAAHQGAABXBAAAXQQAALQCAACQAgAA4gMAAD4EAAC3AgAAiAIAALIFAACFAgAAuQMAAIQDAABiAwAASQIAAA==\"},\"shape\":[100],\"dtype\":\"int32\",\"order\":\"little\"}],[\"Flesch\",{\"type\":\"ndarray\",\"array\":{\"type\":\"bytes\",\"data\":\"AAAAAACAJkAzMzMzM7M3QGZmZmZmZh9AzczMzMxsS0CamZmZmdlHQAAAAAAA4EtAZmZmZmaGQUAAAAAAAABKQM3MzMzMjEBAAAAAAACASkCamZmZmZlEQJqZmZmZmUBAzczMzMyMREDNzMzMzAw9QAAAAAAAoERAzczMzMxMQEAzMzMzM3NHQM3MzMzM7EZAmpmZmZm5SUCamZmZmZk4QM3MzMzMjElAmpmZmZlZP0CamZmZmVk8QDMzMzMzE0VAmpmZmZlZQUAAAAAAAEA5QGZmZmZmBkVAZmZmZmYGREAzMzMzMzM/QJqZmZmZWT1AAAAAAADAPUCamZmZmZk2QM3MzMzMLERAzczMzMzMQUBmZmZmZsZBQGZmZmZmBkBAZmZmZmbmSEAAAAAAAOBGQM3MzMzMTERAMzMzMzPTSkCamZmZmRk6QGZmZmZmBkVAmpmZmZkZSUAAAAAAAEBIQJqZmZmZeUZAmpmZmZn5REDNzMzMzAw4QJqZmZmZGUJAZmZmZmYmPkAzMzMzM/M7QM3MzMzMbE1AmpmZmZlZSkAzMzMzM9NAQGZmZmZmhkRAmpmZmZk5RkCamZmZmZkkQDMzMzMz00RAMzMzMzNTQ0DNzMzMzKxDQAAAAAAAoEJAMzMzMzPzPECamZmZmflFQJqZmZmZuUFAZmZmZmYmQkAzMzMzM/M8QJqZmZmZ2UpAmpmZmZkZN0BmZmZmZiY5QJqZmZmZWTpAmpmZmZlZSkAzMzMzMzNIQAAAAAAAQEhAMzMzMzOTS0AzMzMzM5NIQM3MzMzMrEdAmpmZmZlZSUBmZmZmZgZHQDMzMzMz80JAzczMzMwsRUBmZmZmZuZHQM3MzMzMzDhAMzMzMzOzQ0CamZmZmVlCQAAAAAAAQEFAZmZmZmaGRkBmZmZmZuZBQAAAAAAAAERAMzMzMzOzPUAAAAAAACBDQDMzMzMzs0RAzczMzMxMSECamZmZmZkvQDMzMzMzE09AZmZmZmbGS0BmZmZmZiY+QM3MzMzMjEJAmpmZmZlZQUAAAAAAAEBKQGZmZmZmpj5AmpmZmZm5REA=\"},\"shape\":[100],\"dtype\":\"float64\",\"order\":\"little\"}],[\"Wiener_Sachtextformel\",{\"type\":\"ndarray\",\"array\":{\"type\":\"bytes\",\"data\":\"zczMzMzMLEBmZmZmZmYqQJqZmZmZmSpAzczMzMzMIEBmZmZmZmYjQGZmZmZmZiFAAAAAAAAAJ0CamZmZmZkfQM3MzMzMzCdAmpmZmZmZIUAAAAAAAAAhQAAAAAAAACdAmpmZmZmZJ0CamZmZmZkrQM3MzMzMzCVAzczMzMzMJ0AzMzMzMzMjQJqZmZmZmSFAmpmZmZmZIkDNzMzMzMwqQDMzMzMzMyNAZmZmZmZmJ0CamZmZmZkoQAAAAAAAACRAAAAAAAAAKECamZmZmZkqQJqZmZmZmSRAzczMzMzMKECamZmZmZkqQJqZmZmZmSdAAAAAAAAAKECamZmZmZkqQAAAAAAAACVAAAAAAAAAJ0DNzMzMzMwjQGZmZmZmZipAmpmZmZmZIUAzMzMzMzMjQAAAAAAAACdAMzMzMzMzIkDNzMzMzMwqQAAAAAAAACZAZmZmZmZmIUDNzMzMzMwgQM3MzMzMzCRAmpmZmZmZI0AAAAAAAAAqQM3MzMzMzCVAmpmZmZmZKEBmZmZmZmYoQM3MzMzMzB5AMzMzMzMzIkDNzMzMzMwlQJqZmZmZmSdAAAAAAAAAIkAAAAAAAAAuQJqZmZmZmSBAzczMzMzMJ0AAAAAAAAAmQAAAAAAAACdAMzMzMzMzLEAzMzMzMzMjQJqZmZmZmShAzczMzMzMJ0AAAAAAAAApQJqZmZmZmR9AmpmZmZmZKUCamZmZmZkqQAAAAAAAACpAmpmZmZmZHUCamZmZmZkkQJqZmZmZmSNAAAAAAAAAIEAzMzMzMzMjQAAAAAAAACFAZmZmZmZmIkAzMzMzMzMkQM3MzMzMzCdAmpmZmZmZJ0AAAAAAAAAhQAAAAAAAACtAAAAAAAAAJUDNzMzMzMwmQAAAAAAAACxAmpmZmZmZJUCamZmZmZkmQDMzMzMzMyNAZmZmZmZmKUCamZmZmZkjQAAAAAAAACRAZmZmZmZmIkBmZmZmZmYtQAAAAAAAABxAmpmZmZmZIEAzMzMzMzMoQAAAAAAAACZAAAAAAAAAKUCamZmZmZkhQM3MzMzMzCdAmpmZmZmZJUA=\"},\"shape\":[100],\"dtype\":\"float64\",\"order\":\"little\"}],[\"ARI\",{\"type\":\"ndarray\",\"array\":{\"type\":\"bytes\",\"data\":\"mpmZmZkZOECamZmZmRk2QAAAAAAAADZAMzMzMzMzLUCamZmZmZkuQDMzMzMzMyxAzczMzMzMM0DNzMzMzMwsQAAAAAAAADVAAAAAAAAAK0AAAAAAAIAxQGZmZmZmZjNAzczMzMzMMEBmZmZmZmY1QAAAAAAAADJAmpmZmZmZM0DNzMzMzEwwQJqZmZmZmStAMzMzMzMzMEAAAAAAAAA0QM3MzMzMzC1AZmZmZmbmM0CamZmZmRk1QAAAAAAAgDBAzczMzMzMMkDNzMzMzEw1QAAAAAAAADFAZmZmZmbmMEBmZmZmZmY1QAAAAAAAgDNAZmZmZmbmMkDNzMzMzEw1QM3MzMzMzDFAzczMzMzMMUBmZmZmZmYxQDMzMzMzMzNAAAAAAAAAL0BmZmZmZmYvQJqZmZmZmTBAmpmZmZmZLEAzMzMzM7M0QDMzMzMzszFAMzMzMzMzKkDNzMzMzEwwQGZmZmZmZi1AAAAAAACAMUDNzMzMzEw2QGZmZmZmZjJAMzMzMzMzNEAzMzMzM7M1QGZmZmZmZitAAAAAAAAALkBmZmZmZmYxQM3MzMzMTDNAZmZmZmZmLkAzMzMzMzM4QDMzMzMzszFAmpmZmZkZM0AzMzMzM7MyQAAAAAAAgDNAzczMzMxMNUBmZmZmZuYwQJqZmZmZmTVAmpmZmZkZMkCamZmZmZk1QAAAAAAAAClAzczMzMzMNUAAAAAAAAA2QGZmZmZmZjVAAAAAAAAAK0DNzMzMzMwuQDMzMzMzMy9AZmZmZmZmLEDNzMzMzMwvQDMzMzMzszBAAAAAAAAALkBmZmZmZmYwQJqZmZmZmTNAZmZmZmZmMkDNzMzMzMwvQJqZmZmZGTVAAAAAAAAAMUCamZmZmZkyQAAAAAAAADVAmpmZmZmZLkDNzMzMzEwyQAAAAAAAADFAMzMzMzMzNkDNzMzMzMwzQJqZmZmZGTBAZmZmZmZmLkBmZmZmZuY3QM3MzMzMzCpAZmZmZmZmLUAzMzMzM7MzQJqZmZmZGTBAMzMzMzOzM0AAAAAAAAArQGZmZmZmZjNAzczMzMzMMUA=\"},\"shape\":[100],\"dtype\":\"float64\",\"order\":\"little\"}],[\"Coleman_Liau\",{\"type\":\"ndarray\",\"array\":{\"type\":\"bytes\",\"data\":\"KVyPwvXoN0BxPQrXo/A4QGZmZmZmZjlAH4XrUbgeMEAK16NwPQoxQM3MzMzMDDBA7FG4HoUrN0BmZmZmZiYxQLgehetRODZACtejcD0KMECPwvUoXI80QClcj8L1aDRASOF6FK4HNUDXo3A9Ctc3QFK4HoXrETRA7FG4HoVrNEBcj8L1KNwxQM3MzMzMzDBAzczMzMxMMEAAAAAAAIA2QAAAAAAAgDFAZmZmZmbmNkCkcD0K1yM3QM3MzMzMjDJA4XoUrkfhNECkcD0K16M1QGZmZmZm5jJAXI/C9SjcMUAUrkfhelQ2QAAAAAAAwDVA9ihcj8J1NUC4HoXrUbg3QJqZmZmZ2TJArkfhehQuNEDD9Shcj0I1QFyPwvUonDZAH4XrUbieMUB7FK5H4XoyQClcj8L1KDRA16NwPQrXLkCPwvUoXA84QKRwPQrX4zNAXI/C9ShcLkB7FK5H4TowQJqZmZmZGTFAZmZmZmbmMkApXI/C9Sg2QIXrUbgehTRA4XoUrkdhNkAzMzMzMzM3QAAAAAAAgDBAzczMzMxMMkDhehSuR6E0QFyPwvUoHDVACtejcD3KMUAfhetRuN45QDMzMzMzMzNAuB6F61G4M0AK16NwPYozQPYoXI/C9TNAH4XrUbheN0BSuB6F6xEzQAAAAAAAADVACtejcD1KNECuR+F6FG43QM3MzMzMzC5Aw/UoXI8COEDNzMzMzMw2QB+F61G4njZA9ihcj8L1L0ApXI/C9SgxQLgehetRODFAj8L1KFwPMEBcj8L1KNwyQJqZmZmZGTRA7FG4HoXrMEBI4XoUroczQHsUrkfhujZAmpmZmZlZNEAzMzMzM3MxQClcj8L1qDdAFK5H4XqUNEA9CtejcP00QDMzMzMzMzdAPQrXo3B9MkDD9Shcj8I0QLgehetRODRAH4XrUbjeNUCF61G4HgU4QAAAAAAAwDNAw/UoXI+CMUDXo3A9Chc3QK5H4XoULjBASOF6FK5HMEDXo3A9Chc2QFyPwvUonDJAXI/C9SjcNUDXo3A9CtcvQNejcD0KVzVASOF6FK7HM0A=\"},\"shape\":[100],\"dtype\":\"float64\",\"order\":\"little\"}]]}}},\"view\":{\"type\":\"object\",\"name\":\"CDSView\",\"id\":\"p1044\",\"attributes\":{\"filter\":{\"type\":\"object\",\"name\":\"AllIndices\",\"id\":\"p1045\"}}},\"columns\":[{\"type\":\"object\",\"name\":\"TableColumn\",\"id\":\"p1004\",\"attributes\":{\"field\":\"id\",\"title\":\"id\",\"formatter\":{\"type\":\"object\",\"name\":\"StringFormatter\",\"id\":\"p1005\"},\"editor\":{\"type\":\"object\",\"name\":\"StringEditor\",\"id\":\"p1006\"}}},{\"type\":\"object\",\"name\":\"TableColumn\",\"id\":\"p1007\",\"attributes\":{\"field\":\"url\",\"title\":\"url\",\"formatter\":{\"type\":\"object\",\"name\":\"StringFormatter\",\"id\":\"p1008\"},\"editor\":{\"type\":\"object\",\"name\":\"StringEditor\",\"id\":\"p1009\"}}},{\"type\":\"object\",\"name\":\"TableColumn\",\"id\":\"p1010\",\"attributes\":{\"field\":\"date\",\"title\":\"date\",\"formatter\":{\"type\":\"object\",\"name\":\"StringFormatter\",\"id\":\"p1011\"},\"editor\":{\"type\":\"object\",\"name\":\"StringEditor\",\"id\":\"p1012\"}}},{\"type\":\"object\",\"name\":\"TableColumn\",\"id\":\"p1013\",\"attributes\":{\"field\":\"title\",\"title\":\"title\",\"formatter\":{\"type\":\"object\",\"name\":\"StringFormatter\",\"id\":\"p1014\"},\"editor\":{\"type\":\"object\",\"name\":\"StringEditor\",\"id\":\"p1015\"}}},{\"type\":\"object\",\"name\":\"TableColumn\",\"id\":\"p1016\",\"attributes\":{\"field\":\"source\",\"title\":\"source\",\"formatter\":{\"type\":\"object\",\"name\":\"StringFormatter\",\"id\":\"p1017\"},\"editor\":{\"type\":\"object\",\"name\":\"StringEditor\",\"id\":\"p1018\"}}},{\"type\":\"object\",\"name\":\"TableColumn\",\"id\":\"p1019\",\"attributes\":{\"field\":\"filename_html\",\"title\":\"filename_html\",\"formatter\":{\"type\":\"object\",\"name\":\"StringFormatter\",\"id\":\"p1020\"},\"editor\":{\"type\":\"object\",\"name\":\"StringEditor\",\"id\":\"p1021\"}}},{\"type\":\"object\",\"name\":\"TableColumn\",\"id\":\"p1022\",\"attributes\":{\"field\":\"filename\",\"title\":\"filename\",\"formatter\":{\"type\":\"object\",\"name\":\"StringFormatter\",\"id\":\"p1023\"},\"editor\":{\"type\":\"object\",\"name\":\"StringEditor\",\"id\":\"p1024\"}}},{\"type\":\"object\",\"name\":\"TableColumn\",\"id\":\"p1025\",\"attributes\":{\"field\":\"n_tokens\",\"title\":\"n_tokens\",\"formatter\":{\"type\":\"object\",\"name\":\"StringFormatter\",\"id\":\"p1026\"},\"editor\":{\"type\":\"object\",\"name\":\"StringEditor\",\"id\":\"p1027\"}}},{\"type\":\"object\",\"name\":\"TableColumn\",\"id\":\"p1028\",\"attributes\":{\"field\":\"Flesch\",\"title\":\"Flesch\",\"formatter\":{\"type\":\"object\",\"name\":\"StringFormatter\",\"id\":\"p1029\"},\"editor\":{\"type\":\"object\",\"name\":\"StringEditor\",\"id\":\"p1030\"}}},{\"type\":\"object\",\"name\":\"TableColumn\",\"id\":\"p1031\",\"attributes\":{\"field\":\"Wiener_Sachtextformel\",\"title\":\"Wiener_Sachtextformel\",\"formatter\":{\"type\":\"object\",\"name\":\"StringFormatter\",\"id\":\"p1032\"},\"editor\":{\"type\":\"object\",\"name\":\"StringEditor\",\"id\":\"p1033\"}}},{\"type\":\"object\",\"name\":\"TableColumn\",\"id\":\"p1034\",\"attributes\":{\"field\":\"ARI\",\"title\":\"ARI\",\"formatter\":{\"type\":\"object\",\"name\":\"StringFormatter\",\"id\":\"p1035\"},\"editor\":{\"type\":\"object\",\"name\":\"StringEditor\",\"id\":\"p1036\"}}},{\"type\":\"object\",\"name\":\"TableColumn\",\"id\":\"p1037\",\"attributes\":{\"field\":\"Coleman_Liau\",\"title\":\"Coleman_Liau\",\"formatter\":{\"type\":\"object\",\"name\":\"StringFormatter\",\"id\":\"p1038\"},\"editor\":{\"type\":\"object\",\"name\":\"StringEditor\",\"id\":\"p1039\"}}}]}}]}}]}};\n",
       "  const render_items = [{\"docid\":\"300f929b-7021-4457-9ff6-15e1257957e3\",\"roots\":{\"p1046\":\"e79a7a63-246e-414c-9ab4-a722ce73fbb5\"},\"root_ids\":[\"p1046\"]}];\n",
       "  void root.Bokeh.embed.embed_items_notebook(docs_json, render_items);\n",
       "  }\n",
       "  if (root.Bokeh !== undefined) {\n",
       "    embed_document(root);\n",
       "  } else {\n",
       "    let attempts = 0;\n",
       "    const timer = setInterval(function(root) {\n",
       "      if (root.Bokeh !== undefined) {\n",
       "        clearInterval(timer);\n",
       "        embed_document(root);\n",
       "      } else {\n",
       "        attempts++;\n",
       "        if (attempts > 100) {\n",
       "          clearInterval(timer);\n",
       "          console.log(\"Bokeh: ERROR: Unable to run BokehJS code because BokehJS library is missing\");\n",
       "        }\n",
       "      }\n",
       "    }, 10, root)\n",
       "  }\n",
       "})(window);"
      ],
      "application/vnd.bokehjs_exec.v0+json": ""
     },
     "metadata": {
      "application/vnd.bokehjs_exec.v0+json": {
       "id": "p1046"
      }
     },
     "output_type": "display_data"
    }
   ],
   "source": [
    "# Too slow if done with entire data frame\n",
    "\n",
    "# Convert DataFrame to ColumnDataSource\n",
    "source = ColumnDataSource(result_df[:100])\n",
    "        \n",
    "# Create Table Columns\n",
    "columns = [TableColumn(field=col, title=col) for col in result_df.head().columns]\n",
    "\n",
    "# Create DataTable\n",
    "data_table = DataTable(source=source, columns=columns)\n",
    "\n",
    "# Display DataTable\n",
    "output_notebook()  # Use this to render in Jupyter Notebook\n",
    "show(layout([data_table]))"
   ]
  },
  {
   "cell_type": "markdown",
   "id": "374f69fb-c6b3-4fa5-84f0-b8b8d51c0e4b",
   "metadata": {
    "editable": true,
    "slideshow": {
     "slide_type": ""
    },
    "tags": []
   },
   "source": [
    "## Analyse"
   ]
  },
  {
   "cell_type": "markdown",
   "id": "6565fcd6-c8c3-40a3-b388-491cec68f28b",
   "metadata": {
    "editable": true,
    "slideshow": {
     "slide_type": ""
    },
    "tags": []
   },
   "source": [
    "### Übersicht über die Daten erhalten"
   ]
  },
  {
   "cell_type": "markdown",
   "id": "f0f8dbeb-8569-4420-b161-41a2a780043e",
   "metadata": {
    "editable": true,
    "slideshow": {
     "slide_type": ""
    },
    "tags": []
   },
   "source": [
    "Wie viele Pressemitteilungen gab es pro Jahr?"
   ]
  },
  {
   "cell_type": "code",
   "execution_count": null,
   "id": "8ddc57a3-90a8-4bbe-b7eb-bde551ffc88c",
   "metadata": {},
   "outputs": [],
   "source": [
    "result_df.groupby(pd.PeriodIndex(result_df['date'], freq=\"Y\"))['n_tokens'].count().plot(kind=\"bar\")"
   ]
  },
  {
   "cell_type": "markdown",
   "id": "8c6a404a-5e7b-4a0a-8eb2-50f060f1c2c1",
   "metadata": {},
   "source": [
    "Wie lang sind die Pressemitteilungen im Schnitt in Wörtern?"
   ]
  },
  {
   "cell_type": "code",
   "execution_count": null,
   "id": "934000fc-733e-4769-9f8d-64bb32c14fce",
   "metadata": {
    "editable": true,
    "slideshow": {
     "slide_type": ""
    },
    "tags": []
   },
   "outputs": [],
   "source": [
    "result_df.groupby(pd.PeriodIndex(result_df['date'], freq=\"Y\"))['n_tokens'].mean().plot(kind=\"bar\")"
   ]
  },
  {
   "cell_type": "markdown",
   "id": "2ce491a3-8fd8-4411-ae00-ff36d6c03776",
   "metadata": {
    "editable": true,
    "slideshow": {
     "slide_type": ""
    },
    "tags": []
   },
   "source": [
    "Wie viele Mitteilungen aus welcher Kategorie sind vorhanden?\n",
    "Da die Anzahl der Kategorien hoch ist, zeigen wir nur die Kategorien, die mit 100 Mitteilungen oder mehr vertreten sind."
   ]
  },
  {
   "cell_type": "code",
   "execution_count": null,
   "id": "61ae3748-929a-493f-b8b6-eab088894e2b",
   "metadata": {},
   "outputs": [],
   "source": [
    "counts = result_df['source'].value_counts()\n",
    "counts[counts > 100].plot(kind=\"bar\")"
   ]
  },
  {
   "cell_type": "markdown",
   "id": "ae319ab2-0bff-4522-b172-017baa9a2e86",
   "metadata": {},
   "source": [
    "### Extrahieren von schwierigsten und einfachsten Texten"
   ]
  },
  {
   "cell_type": "code",
   "execution_count": null,
   "id": "2f69dc61-fee5-45fb-970d-c1cd449ee7f6",
   "metadata": {},
   "outputs": [],
   "source": [
    "metrics = [\"Flesch\", \"ARI\", \"Coleman_Liau\", \"Wiener_Sachtextformel\"]"
   ]
  },
  {
   "cell_type": "code",
   "execution_count": null,
   "id": "4795da68-d194-48a4-a373-e9c1c6099fa4",
   "metadata": {},
   "outputs": [],
   "source": [
    "# TODO: prettify\n",
    "for metric in metrics:\n",
    "    print(metric)\n",
    "    if metric == \"Flesch\":\n",
    "        print(f\"Schwierigster Text: {result_df[result_df[metric] == result_df[metric].min()]['id']}\")\n",
    "        print(f\"Leichester Text: {result_df[result_df[metric] == result_df[metric].max()]['id']}\\n\")\n",
    "    else:\n",
    "        print(f\"Schwierigster Text: {result_df[result_df[metric] == result_df[metric].max()]['id']}\")\n",
    "        print(f\"Leichester Text: {result_df[result_df[metric] == result_df[metric].min()]['id']}\\n\")"
   ]
  },
  {
   "cell_type": "markdown",
   "id": "86bce25c-71ae-493d-bc7c-36cec0d4269f",
   "metadata": {},
   "source": [
    "Wie zu sehen ist, überschneiden sich die Metriken in Bezug auf die Extremwerte (niedrigster und höchster Wert) nicht."
   ]
  },
  {
   "cell_type": "markdown",
   "id": "ebb90802-d3ea-42f1-b9d2-4c6cd47a1c14",
   "metadata": {
    "editable": true,
    "slideshow": {
     "slide_type": ""
    },
    "tags": []
   },
   "source": [
    "## Entwicklung über Zeit \n",
    "* Vergleich der Metriken-Entwicklung über die Jahre "
   ]
  },
  {
   "cell_type": "code",
   "execution_count": null,
   "id": "546547ac-1d2c-447a-aad8-8999fddae92f",
   "metadata": {
    "editable": true,
    "slideshow": {
     "slide_type": ""
    },
    "tags": []
   },
   "outputs": [],
   "source": [
    "metric_mean_year_df = result_df.groupby(pd.PeriodIndex(result_df['date'], freq=\"Y\"))[metrics].mean()"
   ]
  },
  {
   "cell_type": "code",
   "execution_count": null,
   "id": "e67b2072-caeb-4773-a62b-55d3ebf6ab14",
   "metadata": {
    "editable": true,
    "slideshow": {
     "slide_type": ""
    },
    "tags": []
   },
   "outputs": [],
   "source": [
    "metric_mean_year_df.plot()"
   ]
  },
  {
   "cell_type": "code",
   "execution_count": null,
   "id": "c5d80fe8-10bc-4538-96a4-32a0cd8bdc8a",
   "metadata": {
    "editable": true,
    "slideshow": {
     "slide_type": ""
    },
    "tags": []
   },
   "outputs": [],
   "source": [
    "# Create subplots -- attention, they don't start with 0!\n",
    "fig, axes = plt.subplots(nrows=2, ncols=2, figsize=(12, 12))\n",
    "axes = axes.flatten()\n",
    "for i, col in enumerate(metrics):\n",
    "    axes[i].plot(metric_mean_year_df.index.year, metric_mean_year_df[col], marker='o', label=col)\n",
    "    axes[i].set_title(f'{col}')\n",
    "    axes[i].set_xlabel('Jahre')\n",
    "    axes[i].set_ylabel(col)\n",
    "    axes[i].legend()\n",
    "    axes[i].grid(True)\n",
    "\n",
    "plt.tight_layout()  # Adjust layout to prevent overlap\n",
    "plt.show()"
   ]
  },
  {
   "cell_type": "markdown",
   "id": "e0f8c7b9-389e-49c0-b076-28b5161c997b",
   "metadata": {
    "editable": true,
    "slideshow": {
     "slide_type": ""
    },
    "tags": []
   },
   "source": [
    "### 3.2 Interaktive Analysedaten vorbereiten\n",
    "Wir wollen die Daten nun nach den Parametern der Metrik und der Granularität der Zeitschiene einteilen."
   ]
  },
  {
   "cell_type": "code",
   "execution_count": null,
   "id": "31a19932-6ca0-4d2a-be78-d86f450483c1",
   "metadata": {
    "editable": true,
    "slideshow": {
     "slide_type": ""
    },
    "tags": []
   },
   "outputs": [],
   "source": [
    "columns_to_keep = []\n",
    "columns_to_keep.extend(metrics)\n",
    "columns_to_keep.append(\"date\")\n",
    "print(columns_to_keep)"
   ]
  },
  {
   "cell_type": "code",
   "execution_count": null,
   "id": "4b808954-91d4-4ccb-9bdf-42a49abdd31c",
   "metadata": {
    "editable": true,
    "slideshow": {
     "slide_type": ""
    },
    "tags": []
   },
   "outputs": [],
   "source": [
    "results_filtered = result_df[columns_to_keep]"
   ]
  },
  {
   "cell_type": "code",
   "execution_count": null,
   "id": "ca822456-d2b8-4045-b93e-4a32afd7d5dd",
   "metadata": {
    "editable": true,
    "slideshow": {
     "slide_type": ""
    },
    "tags": []
   },
   "outputs": [],
   "source": [
    "def plot_with_js(results_filtered_df: pd.DataFrame) -> None:\n",
    "    \"\"\" \n",
    "    :param pd.DataFrame merged_df: The merged dataframe of all annotations\n",
    "    \"\"\"\n",
    "    frequency_parameters = [\"Y\", \"M\", \"W-MON\"]\n",
    "    \n",
    "    metrics_to_time_frame = {}\n",
    "    for metric in metrics:\n",
    "        metrics_to_time_frame[metric] = {}\n",
    "        for option in frequency_parameters:\n",
    "            result = results_filtered.groupby(pd.PeriodIndex(results_filtered['date'], freq=option))[metric].mean()\n",
    "            metrics_to_time_frame[metric][option] = {\"x\": result.index.to_timestamp(), \"y\": result.values}\n",
    "    \n",
    "    # Set year as default for the plot\n",
    "    line_source = ColumnDataSource(data=metrics_to_time_frame[\"Flesch\"][\"Y\"])\n",
    "\n",
    "    # Create a plot\n",
    "    p = figure(title=f\"Lesbarkeitsmaß\", x_axis_type=\"datetime\", x_axis_label='Zeit', \n",
    "               y_axis_label='Durschnittlicher Score', width=700, height=400)\n",
    "    line = p.line('x', 'y', source=line_source, line_width=2, color='blue')\n",
    "\n",
    "    # RadioButtonGroup to select mode\n",
    "    radio_button_group_time = RadioButtonGroup(labels=[\"Yearly\", \"Monthly\", \"Weekly\"], active=0)\n",
    "    radio_button_group_metric = RadioButtonGroup(labels=[\"Flesch\", \"ARI\", \"Coleman_Liau\", \"Wiener_Sachtextformel\"], active=0)\n",
    "\n",
    "\n",
    "    # Callback to update the data based on selected mode\n",
    "    callback = CustomJS(\n",
    "        args=dict(\n",
    "            line=line,\n",
    "            sources=metrics_to_time_frame,\n",
    "            radio_button_group_time=radio_button_group_time,\n",
    "            radio_button_group_metric=radio_button_group_metric\n",
    "        ),\n",
    "        code=\"\"\"                \n",
    "        // Access the value of the switch\n",
    "        // const sources = switch_element.active ? relative_sources : absolute_sources;\n",
    "\n",
    "        // Access the value of the RadioButtonGroup Time\n",
    "        const mode = radio_button_group_time.active;\n",
    "        \n",
    "        // Access the value of the RadioButtonGroup\n",
    "        const base = radio_button_group_metric.active;\n",
    "    \n",
    "        // Retrieve the selected frequency\n",
    "        const freq = [\"Y\", \"M\", \"W-MON\"][mode];\n",
    "\n",
    "        // Retrieve the selected metric\n",
    "        const metric = [\"Flesch\", \"ARI\", \"Coleman_Liau\", \"Wiener_Sachtextformel\"][base];\n",
    "    \n",
    "        // update data source and emit change event\n",
    "        line.data_source.data = sources[metric][freq];\n",
    "        line.data_source.change.emit();\n",
    "    \"\"\",\n",
    "    )\n",
    "\n",
    "    # Attach the callback to both widgets\n",
    "    radio_button_group_time.js_on_change('active', callback)\n",
    "    radio_button_group_metric.js_on_change('active', callback)\n",
    "\n",
    "    # Layout the RadioButtonGroup and plot\n",
    "    layout = column(row(radio_button_group_metric, radio_button_group_time), p)\n",
    "    show(layout)"
   ]
  },
  {
   "cell_type": "code",
   "execution_count": null,
   "id": "72f26f29-7c11-4648-97b5-d60ee5fec934",
   "metadata": {
    "editable": true,
    "slideshow": {
     "slide_type": ""
    },
    "tags": []
   },
   "outputs": [],
   "source": [
    "# not interactive yet, updating needs to be fixed\n",
    "plot_with_js(result_df)"
   ]
  }
 ],
 "metadata": {
  "kernelspec": {
   "display_name": "Python 3 (ipykernel)",
   "language": "python",
   "name": "python3"
  },
  "language_info": {
   "codemirror_mode": {
    "name": "ipython",
    "version": 3
   },
   "file_extension": ".py",
   "mimetype": "text/x-python",
   "name": "python",
   "nbconvert_exporter": "python",
   "pygments_lexer": "ipython3",
   "version": "3.12.8"
  }
 },
 "nbformat": 4,
 "nbformat_minor": 5
}
