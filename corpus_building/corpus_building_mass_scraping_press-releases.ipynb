{
 "cells": [
  {
   "cell_type": "markdown",
   "id": "e169cfbb-5409-4bc0-82db-413343b58e32",
   "metadata": {},
   "source": [
    "# 🚀 Massenscraping von Pressemitteilungen"
   ]
  },
  {
   "cell_type": "markdown",
   "id": "c8db05ff-df64-4e47-aea4-beb1008c13d4",
   "metadata": {},
   "source": [
    "## Hinweise zur Ausführung des Notebooks\n",
    "Dieses Notebook kann auf unterschiedlichen Levels erarbeitet werden (siehe Abschnitt [\"Technische Voraussetzungen\"](../markdown/introduction_requirements)): \n",
    "1. Book-Only Mode\n",
    "2. Cloud Mode: Dafür auf 🚀 klicken und z.B. in Colab ausführen.\n",
    "3. Local Mode: Dafür auf Herunterladen ↓ klicken und \".ipynb\" wählen. \n",
    "\n",
    "## Übersicht\n",
    "\n",
    "Im Folgenden werden alle Pressemitteilungen der Berliner Staatskanzlei gescraped\n",
    "\n",
    "Dafür werden folgendene Schritte durchgeführt:\n",
    "1. Wir werden die Struktur des Teils der Website untersuchen, der alle Pressemitteilungen enthält.\n",
    "2. Wir werden die URL-Links zu allen Pressemitteilungen abrufen.\n",
    "3. Abschließend werden wir alle Pressemitteilungen scrapen."
   ]
  },
  {
   "cell_type": "code",
   "execution_count": null,
   "id": "f0fb10a4-c384-4b7e-a956-2fa13cb1a34c",
   "metadata": {},
   "outputs": [],
   "source": [
    "# 🚀 Install libraries \n",
    "!pip install requests "
   ]
  },
  {
   "cell_type": "code",
   "execution_count": null,
   "id": "4b5c5d7a-f727-4385-8c30-49347b73d692",
   "metadata": {},
   "outputs": [],
   "source": [
    "import requests"
   ]
  },
  {
   "cell_type": "markdown",
   "id": "2a371973-de38-4439-8878-86b31954abea",
   "metadata": {},
   "source": [
    "## Retrieve and inspect the press releases search page"
   ]
  },
  {
   "cell_type": "markdown",
   "id": "6b470b17-54f4-4ae5-8d97-581780c8b86b",
   "metadata": {},
   "source": [
    "In the chapter ['Aufbau des Forschungskorpus'](../corpus_collection/corpus-collection_building-our-corpus.html#aufbau-des-forschungskorpus) we have outlined the selection & filtering process for our corpus of press releases. Now it is time to imlement scraping of tha corpus using scraping tools and knowledge of HTML. \n",
    "\n",
    "1. We already know that the [Search menu](https://www.berlin.de/presse/pressemitteilungen/index/search) on the Berlin.de website allows to select only the departments that interest us:\n",
    "   \n",
    "![selection](../book_images/selection_of_depts.png)\n",
    "\n",
    "2. After that we can [perform search with selected depatrmentes and an empty query](https://www.berlin.de/presse/pressemitteilungen/index/search?searchtext=&boolean=0&startdate=&enddate=&institutions%5B%5D=Presse-+und+Informationsamt+des+Landes+Berlin&institutions%5B%5D=Senatsverwaltung+f%C3%BCr+Bildung%2C+Jugend+und+Familie&institutions%5B%5D=Senatsverwaltung+f%C3%BCr+Finanzen&institutions%5B%5D=Senatsverwaltung+f%C3%BCr+Inneres+und+Sport&institutions%5B%5D=Senatsverwaltung+f%C3%BCr+Arbeit%2C+Soziales%2C+Gleichstellung%2C+Integration%2C+Vielfalt+und+Antidiskriminierung&institutions%5B%5D=Senatsverwaltung+f%C3%BCr+Justiz+und+Verbraucherschutz&institutions%5B%5D=Senatsverwaltung+f%C3%BCr+Kultur+und+Gesellschaftlichen+Zusammenhalt&institutions%5B%5D=Senatsverwaltung+f%C3%BCr+Stadtentwicklung%2C+Bauen+und+Wohnen&institutions%5B%5D=Senatsverwaltung+f%C3%BCr+Mobilit%C3%A4t%2C+Verkehr%2C+Klimaschutz+und+Umwelt&institutions%5B%5D=Senatsverwaltung+f%C3%BCr+Wirtschaft%2C+Energie+und+Betriebe&institutions%5B%5D=Senatsverwaltung+f%C3%BCr+Wissenschaft%2C+Gesundheit+und+Pflege&institutions%5B%5D=Bezirksamt+Charlottenburg-Wilmersdorf&institutions%5B%5D=Bezirksamt+Friedrichshain-Kreuzberg&institutions%5B%5D=Bezirksamt+Lichtenberg&institutions%5B%5D=Bezirksamt+Marzahn-Hellersdorf&institutions%5B%5D=Bezirksamt+Mitte&institutions%5B%5D=Bezirksamt+Neuk%C3%B6lln&institutions%5B%5D=Bezirksamt+Pankow&institutions%5B%5D=Bezirksamt+Reinickendorf&institutions%5B%5D=Bezirksamt+Spandau&institutions%5B%5D=Bezirksamt+Steglitz-Zehlendorf&institutions%5B%5D=Bezirksamt+Tempelhof-Sch%C3%B6neberg&institutions%5B%5D=Bezirksamt+Treptow-K%C3%B6penick&institutions%5B%5D=Beauftragte+des+Senats+f%C3%BCr+Integration+und+Migration&institutions%5B%5D=Beauftragter+zur+Aufarbeitung+der+SED-Diktatur&institutions%5B%5D=B%C3%BCrger-+und+Polizeibeauftragter+des+Landes+Berlin&institutions%5B%5D=Pflegebeauftragte+des+Landes+Berlin&institutions%5B%5D=Landestierschutzbeauftragte&institutions%5B%5D=Landeswahlleitung&bt=#searchresults) and retrieve all press releases belonging to these departments:\n",
    "\n",
    "![suchergebnisse](../book_images/suchergebnisse.png)"
   ]
  },
  {
   "cell_type": "markdown",
   "id": "cd435155-4cbf-456d-b39e-955b99b362e8",
   "metadata": {},
   "source": [
    "We can see that the links here are stored in a table. In HTML a table is encoded with the `<table>` element. If we look at the source code of this page, we can find that the page contains one table with all the links:\n",
    "\n",
    "![selection](../book_images/pm_table_source_html.png) \n",
    "\n",
    "To crawl these links we could use the basic HTML querying machinery of the BeautifulSoup library that we've already seen. We will do it in the next section:"
   ]
  },
  {
   "cell_type": "markdown",
   "id": "cd62da74-4319-486d-adee-9058dbc9f495",
   "metadata": {},
   "source": [
    "## Parse search output for links (on one page): "
   ]
  },
  {
   "cell_type": "markdown",
   "id": "39f14d7a-450f-4dac-95d6-457d668d2b4b",
   "metadata": {},
   "source": []
  },
  {
   "cell_type": "markdown",
   "id": "173722f1-857d-4173-835f-cf311d8b03a9",
   "metadata": {},
   "source": [
    "## End of the updated version"
   ]
  },
  {
   "cell_type": "markdown",
   "id": "2b204f89-e3cb-4dfb-9cc3-82406fd74961",
   "metadata": {},
   "source": [
    "## Generate set of links to all pages containing links to press releases\n",
    "This means that to generate this links all we need is to iterate over numbers. \n",
    "Let's make a rough estimate at first and simply create 10000 entries.\n",
    "\n",
    "First we will create an empty list:"
   ]
  },
  {
   "cell_type": "code",
   "execution_count": null,
   "id": "aeeafb61-65f1-4e14-9048-66bb6cb9b724",
   "metadata": {},
   "outputs": [],
   "source": [
    "links_to_releases = []"
   ]
  },
  {
   "cell_type": "markdown",
   "id": "23b5c58f-528f-4658-9a5a-68328c96be5b",
   "metadata": {},
   "source": [
    "Then we will iterate over numbers from 1 to 10000, form a link and store it in the list"
   ]
  },
  {
   "cell_type": "code",
   "execution_count": null,
   "id": "f2440128-21c6-4a7e-8130-c8cb09a91d78",
   "metadata": {},
   "outputs": [],
   "source": [
    "for i in range(1, 10000):\n",
    "    url = f'https://www.berlin.de/presse/pressemitteilungen/index/index/page/{i}'\n",
    "    links_to_releases.append(url)"
   ]
  },
  {
   "cell_type": "markdown",
   "id": "0498e217-d32c-4f17-a222-78f2a5419ba5",
   "metadata": {},
   "source": [
    "Let us look at the first five entries:"
   ]
  },
  {
   "cell_type": "code",
   "execution_count": null,
   "id": "68a133f3-a149-471c-8b10-be7059242e86",
   "metadata": {
    "scrolled": true
   },
   "outputs": [],
   "source": [
    "print(links_to_releases[:5])"
   ]
  },
  {
   "cell_type": "markdown",
   "id": "c07a975a-288d-4754-bb71-bb79455ef735",
   "metadata": {},
   "source": [
    "Let us try to access one of them with an HTTP request and see if it returns status code 200:"
   ]
  },
  {
   "cell_type": "code",
   "execution_count": null,
   "id": "86e36fe7-f611-49c5-aea8-554c18bd4ab3",
   "metadata": {},
   "outputs": [],
   "source": [
    "links_to_releases[3]"
   ]
  },
  {
   "cell_type": "code",
   "execution_count": null,
   "id": "f77fcb14-4985-4738-ac6a-6f0d7393e561",
   "metadata": {},
   "outputs": [],
   "source": [
    "links_to_releases[3]"
   ]
  },
  {
   "cell_type": "markdown",
   "id": "ed1fd111-78b7-4850-8715-663720404b12",
   "metadata": {},
   "source": [
    "## Obtain links to the actual press releases"
   ]
  },
  {
   "cell_type": "code",
   "execution_count": null,
   "id": "37ba8995-0539-4287-84ff-38da1ecdc606",
   "metadata": {},
   "outputs": [],
   "source": []
  },
  {
   "cell_type": "markdown",
   "id": "6d47307a-0975-4cc1-a35b-d68c2ec77482",
   "metadata": {},
   "source": [
    "To study the way Berlin authorities communicate with the public, we can focus on their press-releases. Let us examine the page with press releases: https://www.berlin.de/presse/pressemitteilungen\n",
    "Iа we look at the menu, we'll see that it contains the press-releases of the Berlin authorities since 1993... The links to the pages with press-releases are quite predictable, they just go from page 1 to more than 7000 (the entire number is growing as new releases are being added):  \n",
    "\n",
    "* https://www.berlin.de/presse/pressemitteilungen/index/index/page/2\n",
    "* https://www.berlin.de/presse/pressemitteilungen/index/index/page/3\n",
    "* https://www.berlin.de/presse/pressemitteilungen/index/index/page/4\n",
    "* https://www.berlin.de/presse/pressemitteilungen/index/index/page/5\n",
    "* ...\n",
    "* ...\n",
    "* https://www.berlin.de/presse/pressemitteilungen/index/index/page/7193\n",
    "* https://www.berlin.de/presse/pressemitteilungen/index/index/page/7194\n",
    "* https://www.berlin.de/presse/pressemitteilungen/index/index/page/7195\n"
   ]
  }
 ],
 "metadata": {
  "kernelspec": {
   "display_name": "Python 3 (ipykernel)",
   "language": "python",
   "name": "python3"
  },
  "language_info": {
   "codemirror_mode": {
    "name": "ipython",
    "version": 3
   },
   "file_extension": ".py",
   "mimetype": "text/x-python",
   "name": "python",
   "nbconvert_exporter": "python",
   "pygments_lexer": "ipython3",
   "version": "3.12.10"
  }
 },
 "nbformat": 4,
 "nbformat_minor": 5
}
