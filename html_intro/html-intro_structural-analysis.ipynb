{
 "cells": [
  {
   "cell_type": "markdown",
   "id": "9e48b545-bdbf-4de3-ab91-071a79f9473a",
   "metadata": {},
   "source": [
    "# 🚀 Quellcode-Analyse einer Website "
   ]
  },
  {
   "cell_type": "markdown",
   "id": "e9a7180d-559a-49a0-a197-2a875b87de73",
   "metadata": {},
   "source": [
    "<div class=\"alert alert-block alert-info\"> <b> 🔔 Feinlernziel(e) dieses Kapitels</b></br>\n",
    "Sie können die Semantik der textangebenden html-Tags beschreiben und Tags zur Textextraktion auswählen. </br>\n",
    "</div>"
   ]
  },
  {
   "cell_type": "markdown",
   "id": "e5a0fc85-7ba3-4b30-8996-5abc2ccc8df6",
   "metadata": {},
   "source": [
    "## Hinweise zur Ausführung des Notebooks\n",
    "Dieses Notebook kann auf unterschiedlichen Levels erarbeitet werden (siehe Abschnitt [\"Technische Voraussetzungen\"](../introduction/introduction_requirements)): \n",
    "1. Book-Only Mode\n",
    "2. Cloud Mode: Dafür auf 🚀 klicken und z.B. in Colab ausführen.\n",
    "3. Local Mode: Dafür auf Herunterladen ↓ klicken und \".ipynb\" wählen. \n",
    "\n",
    "## Übersicht\n",
    "Im Folgenden wird exemplarisch der HTML-Code der Website der Senatskanzlei Berlin auf seine Struktur hin untersucht und es wird eine strukturierte Methode zur Inhaltsextraktion entwickelt.\n",
    "\n",
    "Dafür werden folgendene Schritte durchgeführt:\n",
    "1. Strukturanalye des HTML-Codes\n",
    "2. Strukturiertes Parsen des HTML-Codes\n",
    "4. Verlinkten Seiten nachgehen und parsen\n",
    "5. Ergebnisse speichern"
   ]
  },
  {
   "cell_type": "markdown",
   "id": "c6cee5ec-2f6b-4255-abe6-10bc2bc3bc8b",
   "metadata": {},
   "source": [
    "<details>\n",
    "  <summary><b>Informationen zum Ausführen des Notebooks – Zum Ausklappen klicken ⬇️</b></summary>\n",
    "  \n",
    "<b>Voraussetzungen zur Ausführung des Jupyter Notebooks:</b>\n",
    "<ul>\n",
    "<li> Installieren der Bibliotheken </li>\n",
    "</ul>\n",
    "Zum Testen: Ausführen der Zelle \"load libraries\".</br>\n",
    "Alle Zellen, die mit 🚀 gekennzeichnet sind, werden nur bei der Ausführung des Noteboos in Colab / JupyterHub bzw. lokal ausgeführt. \n",
    "</details>"
   ]
  },
  {
   "cell_type": "code",
   "execution_count": null,
   "id": "600d3ffe",
   "metadata": {
    "editable": true,
    "slideshow": {
     "slide_type": ""
    },
    "tags": [
     "skip-execution",
     "hide-cell"
    ]
   },
   "outputs": [],
   "source": [
    "#  🚀 Install libraries \n",
    "! pip install requests beautifulsoup4 pandas"
   ]
  },
  {
   "cell_type": "code",
   "execution_count": 4,
   "id": "6e94ceb8",
   "metadata": {
    "editable": true,
    "slideshow": {
     "slide_type": ""
    },
    "tags": [
     "hide-cell"
    ]
   },
   "outputs": [],
   "source": [
    "# load libraries\n",
    "from datetime import datetime\n",
    "from pathlib import Path\n",
    "\n",
    "import requests\n",
    "from bs4 import BeautifulSoup, Tag, Comment\n",
    "import pandas as pd"
   ]
  },
  {
   "cell_type": "markdown",
   "id": "08044f02",
   "metadata": {},
   "source": [
    "## 1.Laden des HTML-Codes "
   ]
  },
  {
   "cell_type": "markdown",
   "id": "1658701a-2a22-42b4-9654-0e4fc2323f87",
   "metadata": {},
   "source": [
    "Im folgenden laden wir den HTML Code der Website des Berliner Senats ([https://www.berlin.de/rbmskzl/](https://www.berlin.de/rbmskzl/)) vom 06.06.2025, den wir im Vorhinhein in einer `.html`-Datei gespeichert haben. "
   ]
  },
  {
   "cell_type": "code",
   "execution_count": null,
   "id": "bbf6ff96-1219-45d1-9e66-6efd7672c346",
   "metadata": {},
   "outputs": [],
   "source": [
    "# Set file paths \n",
    "path_to_html_doc = Path(\"../data/html/2025-06-06-Senatskanzlei.html\")\n",
    "# Read the text\n",
    "html_text = path_to_html_doc.read_text()\n",
    "# Parse the html structure\n",
    "soup = BeautifulSoup(html_text)"
   ]
  },
  {
   "cell_type": "markdown",
   "id": "ee67a37f-63ef-4006-a05f-cc9a6bcc988f",
   "metadata": {},
   "source": [
    "Der obere Teil der Website und der korrespondiere HTML-Code sahen zum Zeitpunkt der Speicherung so aus:"
   ]
  },
  {
   "cell_type": "markdown",
   "id": "0aa6b7aa-8d59-4d98-8634-2f1dc709c87a",
   "metadata": {},
   "source": [
    "<table>\n",
    "    <td><img src=\"images/Website-Senat-Aktuelles.png\" alt=\"Website des Berliner Senat, 06.06.2025\"></td>\n",
    "    <td><img src=\"images/HTML-Dokument.png\" alt=\"Entsprechender HTML-Ausschnitt der Website des Berliner Senat, 06.06.2025\"></td>\n",
    "</table>"
   ]
  },
  {
   "cell_type": "markdown",
   "id": "94e92071-0e9d-4302-a221-a683aec8ac35",
   "metadata": {},
   "source": [
    "Orange Markierungen zeigen in welchen HTML-Tags der sichtbare Text gespeichert ist. Blaue Markierungen zeigen an, worauf die Links unter \"Weitere Informationen\" verweisen."
   ]
  },
  {
   "cell_type": "markdown",
   "id": "44e55363-7be9-4eb3-88ad-35a8f947d7f8",
   "metadata": {},
   "source": [
    "## 2. Strukturelle Analyse\n",
    "### 2.1 Vorgehen\n",
    "Im nächsten Schritt soll ein kleines Programm entwickelt werden, dass den Text der Website sowie die Links zu den vollen Artikeln extrahiert. Da der Text schon in einer strukturierten Form vorliegt, soll von dieser Gebrauch gemacht werden und Titel von Teaser getrennt extrahiert werden. \n",
    "\n",
    "Wir können mit Hilfe der Python-Bibliothek `beautifulsoup` die geschachtelte Struktur des HTML-Codes navigieren. Dafür gucken wir zuerst:\n",
    "1. Ist die visuelle Aufteilung der Seite in den Tags abgebildet?\n",
    "2. Welche Tags (mit Attribut) unterteilen die Abschnitte?\n",
    "3. Sind die Tags für den gegebenen Abschnitt einzigartig?\n",
    "4. Wie sind die Tags hierarchisch strukturiert?"
   ]
  },
  {
   "cell_type": "markdown",
   "id": "c45072c4-e173-4e25-9f64-57312dc600ea",
   "metadata": {},
   "source": [
    "### 2.2 Ausschnitt identifizieren\n",
    "Wir sehen, dass der links abgebildete Inhalt dem div-Container `<div>`  mit CSS class `'herounit-homepage herounit-homepage--default'` untergeordnet ist und können diesen und alle untergeordneten Tags (sogenannte \"children\") mit `besutifulsoup` extrahieren.\n"
   ]
  },
  {
   "cell_type": "code",
   "execution_count": 10,
   "id": "2c33f68f-a3e0-4a38-bf9c-239e6b6d5085",
   "metadata": {},
   "outputs": [
    {
     "name": "stdout",
     "output_type": "stream",
     "text": [
      "<div class=\"herounit-homepage herounit-homepage--default\">\n",
      " <h1 class=\"title\">\n",
      "  Der Regierende Bürgermeister von Berlin - Senatskanzlei\n",
      " </h1>\n",
      " <div class=\"modul-buehne buehne--tileslayout\">\n",
      "  <ul class=\"buhne__list--teaser\">\n",
      "   <li>\n",
      "    <div class=\"modul-teaser_buehne\" data-add-clickable-area=\"smart\">\n",
      "     <div class=\"teaser_buehne__left\">\n",
      "      <div class=\"image\">\n",
      "       <!-- Image.view -->\n",
      "       <div class=\"image__image image__image\" style=\"\">\n",
      "        <img alt=\"Vorstellung der Olympiabewerbung\" class=\"jpg\" data-orig=\"/rbmskzl/aktuelles/media/crop_1321.1499938964844_660.5749969482422_80.85000610351562_425.58331298828125_1500_1195_0f74a246bdaf1eef1ad8b390ceb4b34f_img_4988-min.jpg\" loading=\"lazy\" src=\"/imgscaler/lts6lo0GIkkJajrWNaA4k-MFCScIR86PoiDCWI95q-E/rbig2zu1/L3N5czExLXByb2QvcmJtc2t6bC9ha3R1ZWxsZXMvbWVkaWEvY3JvcF8xMzIxLjE0OTk5Mzg5NjQ4NDRfNjYwLjU3NDk5Njk0ODI0MjJfODAuODUwMDA2MTAzNTE1NjJfNDI1LjU4MzMxMjk4ODI4MTI1XzE1MDBfMTE5NV8wZjc0YTI0NmJkYWYxZWVmMWFkOGIzOTBjZWI0YjM0Zl9pbWdfNDk4OC1taW4uanBn.jpg?ts=1748424972\"/>\n",
      "       </div>\n",
      "       <p class=\"image__copyright\">\n",
      "        Bild: Senatskanzlei Berlin\n",
      "       </p>\n",
      "       <!-- /Image.view -->\n",
      "      </div>\n",
      "     </div>\n",
      "     <div class=\"teaser_buehne__right\">\n",
      "      <div class=\"inner\">\n",
      "       <h2 class=\"title\">\n",
      "        Olympia-Bewerbung\n",
      "       </h2>\n",
      "       <p class=\"text\">\n",
      "        Berlin präsentierte das Bewerbungskonzept BERLIN+ für Olympische und Paralympische Spiele zusammen mit den Bundesländern Brandenburg, Mecklenburg-Vorpommern, Sachsen und Schleswig-Holstein.\n",
      "       </p>\n",
      "       <span class=\"action\">\n",
      "        <a aria-label=\"Olympia-Bewerbung\" class=\"more\" href=\"/rbmskzl/aktuelles/media/vorstellung-der-olympiabewerbung-1564707.php\" title=\"Olympia-Bewerbung\">\n",
      "         Weitere Informationen\n",
      "        </a>\n",
      "       </span>\n",
      "       <span class=\"image__copyright\">\n",
      "        <strong>\n",
      "         Bild:\n",
      "        </strong>\n",
      "        Senatskanzlei Berlin\n",
      "       </span>\n",
      "      </div>\n",
      "     </div>\n",
      "    </div>\n",
      "   </li>\n",
      "   <li>\n",
      "    <div class=\"modul-teasertile_buehne\" data-add-clickable-area=\"full\">\n",
      "     <h2 class=\"title\">\n",
      "      Ernennung von Sarah Wedl-Wilson zur Kultursenatorin\n",
      "     </h2>\n",
      "     <p class=\"text\">\n",
      "      Der Regierende Bürgermeister hat die bisherige Staatssekretärin für Kultur zur neuen Senatorin für Kultur und Gesellschaftlichen Zusammenhalt ernannt.\n",
      "     </p>\n",
      "     <span class=\"action\">\n",
      "      <a aria-label=\"Ernennung von Sarah Wedl-Wilson zur Kultursenatorin\" class=\"more\" href=\"/rbmskzl/aktuelles/pressemitteilungen/2025/pressemitteilung.1562402.php\" title=\"Ernennung von Sarah Wedl-Wilson zur Kultursenatorin\">\n",
      "       Weitere Informationen\n",
      "      </a>\n",
      "     </span>\n",
      "    </div>\n",
      "   </li>\n",
      "   <li>\n",
      "    <div class=\"modul-teasertile_buehne\" data-add-clickable-area=\"full\">\n",
      "     <h2 class=\"title\">\n",
      "      Senat vor Ort in Marzahn-Hellersdorf\n",
      "     </h2>\n",
      "     <p class=\"text\">\n",
      "      Nach gemeinsamer Sitzung tourte der Regierende Bürgermeister gemeinsam mit der Bezirksbürgermeisterin und Mitgliedern des Bezirksamts und Senats durch den Bezirk.\n",
      "     </p>\n",
      "     <span class=\"action\">\n",
      "      <a aria-label=\"Senat vor Ort in Marzahn-Hellersdorf\" class=\"more\" href=\"/rbmskzl/aktuelles/media/senat-vor-ort-berliner-senat-zu-besuch-im-bezirk-marzahn-hellersdorf-1561815.php\" title=\"Senat vor Ort in Marzahn-Hellersdorf\">\n",
      "       Weitere Informationen\n",
      "      </a>\n",
      "     </span>\n",
      "    </div>\n",
      "   </li>\n",
      "   <li>\n",
      "    <div class=\"modul-teasertile_buehne\" data-add-clickable-area=\"full\">\n",
      "     <h2 class=\"title\">\n",
      "      Tag der offenen Tür im Roten Rathaus\n",
      "     </h2>\n",
      "     <p class=\"text\">\n",
      "      Unter dem Motto „Demokratie erleben“ öffnet das Rote Rathaus am 21. Juni von 10 bis 18 Uhr seine Türen. Erfahren Sie mehr über die Arbeit der Senatskanzlei und die Geschichte des Hauses.\n",
      "     </p>\n",
      "     <span class=\"action\">\n",
      "      <a aria-label=\"Tag der offenen Tür im Roten Rathaus\" class=\"more\" href=\"/offenes-rotes-rathaus\" title=\"Tag der offenen Tür im Roten Rathaus\">\n",
      "       Weitere Informationen\n",
      "      </a>\n",
      "     </span>\n",
      "    </div>\n",
      "   </li>\n",
      "  </ul>\n",
      " </div>\n",
      "</div>\n",
      "\n"
     ]
    }
   ],
   "source": [
    "# get all tags that are children of the div tag with matching CSS class\n",
    "topdiv = soup.find(\"div\", {\"class\": \"herounit-homepage herounit-homepage--default\"})\n",
    "\n",
    "# print the content of the topdiv\n",
    "print(topdiv.prettify())"
   ]
  },
  {
   "cell_type": "markdown",
   "id": "5f21e510-ba4e-42bd-ba48-aae960eb60a6",
   "metadata": {},
   "source": [
    "### 2.3 Titel extrahieren"
   ]
  },
  {
   "cell_type": "markdown",
   "id": "5f806b62-d548-4bbf-85da-33088bdbfe0c",
   "metadata": {},
   "source": [
    "Wir sehen, dass alle Überschriften unter `h2`-Tags stehen. Diese können wir im nächsten Schritt extrahieren. Wir gehen dabei von dem bereits extrahierten Top-Div aus und extrahieren nur `h2`-Tags, die diesem Tag untergeordnet sind. "
   ]
  },
  {
   "cell_type": "code",
   "execution_count": 11,
   "id": "89ae9455-c5b3-4f97-8f39-2dceb6411375",
   "metadata": {},
   "outputs": [],
   "source": [
    "topdiv_h2titles = topdiv.find_all('h2')"
   ]
  },
  {
   "cell_type": "code",
   "execution_count": 12,
   "id": "d37511e7",
   "metadata": {},
   "outputs": [
    {
     "name": "stdout",
     "output_type": "stream",
     "text": [
      "['Olympia-Bewerbung', 'Ernennung von Sarah Wedl-Wilson zur Kultursenatorin', 'Senat vor Ort in Marzahn-Hellersdorf', 'Tag der offenen Tür im Roten Rathaus']\n"
     ]
    }
   ],
   "source": [
    "# get all h2 content that is a child of the top div\n",
    "topdiv_h2titles = topdiv.find_all('h2')\n",
    "\n",
    "# retrieve the content and clean it\n",
    "topdiv_h2titles = [entry.text.strip() for entry in topdiv_h2titles]\n",
    "\n",
    "print(topdiv_h2titles)"
   ]
  },
  {
   "cell_type": "markdown",
   "id": "2a90edfa-586f-4004-871a-d8d9c656d8ce",
   "metadata": {},
   "source": [
    "### 2.4 Kurzbeschreibungen extrahieren "
   ]
  },
  {
   "cell_type": "markdown",
   "id": "2ab0733a-85f2-4ef4-9b40-53c75e89692a",
   "metadata": {},
   "source": [
    "Wir sehen weiter, dass alle Kurzbeschreibungen als paragraphs `<p>` ausgezeichnet sind. Im Folgenden extrahieren wir alle Paragraphen und lassen uns das Ergebnis anzeigen.\n"
   ]
  },
  {
   "cell_type": "code",
   "execution_count": 13,
   "id": "461d0d7e-82d7-4b41-89aa-e0ac432cf65c",
   "metadata": {},
   "outputs": [
    {
     "data": {
      "text/plain": [
       "[<p class=\"image__copyright\">\n",
       "             Bild: Senatskanzlei Berlin        </p>,\n",
       " <p class=\"text\">\n",
       "                     Berlin präsentierte das Bewerbungskonzept BERLIN+ für Olympische und Paralympische Spiele zusammen mit den Bundesländern Brandenburg, Mecklenburg-Vorpommern, Sachsen und Schleswig-Holstein.                        </p>,\n",
       " <p class=\"text\">\n",
       "                 Der Regierende Bürgermeister hat die bisherige Staatssekretärin für Kultur zur neuen Senatorin für Kultur und Gesellschaftlichen Zusammenhalt ernannt.                        </p>,\n",
       " <p class=\"text\">\n",
       "                 Nach gemeinsamer Sitzung tourte der Regierende Bürgermeister gemeinsam mit der Bezirksbürgermeisterin und Mitgliedern des Bezirksamts und Senats durch den Bezirk.                        </p>,\n",
       " <p class=\"text\">\n",
       "                 Unter dem Motto „Demokratie erleben“ öffnet das Rote Rathaus am 21. Juni von 10 bis 18 Uhr seine Türen. Erfahren Sie mehr über die Arbeit der Senatskanzlei und die Geschichte des Hauses.                        </p>]"
      ]
     },
     "execution_count": 13,
     "metadata": {},
     "output_type": "execute_result"
    }
   ],
   "source": [
    "# get all paragraphs that are children of the top div\n",
    "topdiv_texts =  topdiv.find_all('p')\n",
    "topdiv_texts"
   ]
  },
  {
   "cell_type": "markdown",
   "id": "48e47fd4-cda9-4724-ac95-e4a99212a702",
   "metadata": {},
   "source": [
    "Wir extrahieren zwar so alle Kurzbeschreibungen, unsere Liste beinhaltet allerdings auch die Beschreibung eines Bilds. Da sich das `class`-Attribut der Kurzbeschreibung von dem des Bilds unterscheidet, können wir durch das zusätzliche Abgleichen des Attributs eine Liste erstellen, in der nur die Kurzbeschreibungen vorhanden sind: "
   ]
  },
  {
   "cell_type": "code",
   "execution_count": 14,
   "id": "bca7ded0-4de6-4883-b6a2-33bcd993531a",
   "metadata": {},
   "outputs": [
    {
     "data": {
      "text/plain": [
       "['Berlin präsentierte das Bewerbungskonzept BERLIN+ für Olympische und Paralympische Spiele zusammen mit den Bundesländern Brandenburg, Mecklenburg-Vorpommern, Sachsen und Schleswig-Holstein.',\n",
       " 'Der Regierende Bürgermeister hat die bisherige Staatssekretärin für Kultur zur neuen Senatorin für Kultur und Gesellschaftlichen Zusammenhalt ernannt.',\n",
       " 'Nach gemeinsamer Sitzung tourte der Regierende Bürgermeister gemeinsam mit der Bezirksbürgermeisterin und Mitgliedern des Bezirksamts und Senats durch den Bezirk.',\n",
       " 'Unter dem Motto „Demokratie erleben“ öffnet das Rote Rathaus am 21. Juni von 10 bis 18 Uhr seine Türen. Erfahren Sie mehr über die Arbeit der Senatskanzlei und die Geschichte des Hauses.']"
      ]
     },
     "execution_count": 14,
     "metadata": {},
     "output_type": "execute_result"
    }
   ],
   "source": [
    "# get all short description from the p for which the attribute \"class\" equals \"text\"\n",
    "topdiv_texts =  topdiv.find_all('p', {\"class\":\"text\"})\n",
    "\n",
    "# retrieve the content and clean it\n",
    "topdiv_texts = [entry.text.strip() for entry in topdiv_texts]\n",
    "\n",
    "# print the extracted content\n",
    "topdiv_texts"
   ]
  },
  {
   "cell_type": "markdown",
   "id": "362edbba-8d19-4f2d-93eb-6d67d4dc14f4",
   "metadata": {},
   "source": [
    "### 2.5 Links extrahieren"
   ]
  },
  {
   "cell_type": "markdown",
   "id": "5fe009b2-e89a-482e-a87f-e4d796e7668f",
   "metadata": {},
   "source": [
    "Auf die gleiche Weise können wir alle Hyperlinks, die in `<a>`-Tags gespeichert sind extrahieren. Der Hyperlink selbst steht in dem Attribut `href`, dessen Wert wir gezielt abfragen."
   ]
  },
  {
   "cell_type": "code",
   "execution_count": 15,
   "id": "19884b36-cc09-4df7-adef-bb96e3c5a5ec",
   "metadata": {},
   "outputs": [
    {
     "data": {
      "text/plain": [
       "['/rbmskzl/aktuelles/media/vorstellung-der-olympiabewerbung-1564707.php',\n",
       " '/rbmskzl/aktuelles/pressemitteilungen/2025/pressemitteilung.1562402.php',\n",
       " '/rbmskzl/aktuelles/media/senat-vor-ort-berliner-senat-zu-besuch-im-bezirk-marzahn-hellersdorf-1561815.php',\n",
       " '/offenes-rotes-rathaus']"
      ]
     },
     "execution_count": 15,
     "metadata": {},
     "output_type": "execute_result"
    }
   ],
   "source": [
    "topdiv_links =  topdiv.find_all('a')\n",
    "topdiv_links = [entry.get('href') for entry in topdiv_links]\n",
    "\n",
    "# print the extracted links\n",
    "topdiv_links"
   ]
  },
  {
   "cell_type": "markdown",
   "id": "878ca3f8-c774-4a8b-9aa4-e24356136112",
   "metadata": {},
   "source": [
    "Wir sehen, dass die Links keine vollständigen URLs sind, da sie weder mit `www.` noch mit `https://` anfangen. Diese Links nennen wir **relative URLs**. Sie verweisen auf Unterseiten der aktuellen Seite (die Startseite der Senatskanzlei). Die Adresse der Unterseiten wird relativ zur aktuellen Seite angegeben.\n",
    "Die Abfrage dieser relativen URLs in einem Browser funktioniert nicht, es wird ein `File not found`-Error zurückgegeben, da der Browser versucht eine Datei im lokalen Dateisystem zu öffnen und die angegebene Datei nicht findet. Um die Website abfragen zu können, müssen wir die relativen URLs in absolute URLs umwandeln. Beim Umwandeln wird das Präfix der aktuellen Seite vorangestellt werden, in unserem Fall \"https://www.berlin.de/\"."
   ]
  },
  {
   "cell_type": "code",
   "execution_count": 16,
   "id": "bc253dff-791d-4f38-bc6b-24696a9e74d6",
   "metadata": {},
   "outputs": [],
   "source": [
    "# create absolute URLs\n",
    "def make_links_absolute(link_list, prefix=\"https://www.berlin.de\"):\n",
    "    absolute_links = []\n",
    "    for link in link_list:\n",
    "        if not link.startswith(\"https\"):\n",
    "            absolute_links.append(prefix + link)\n",
    "        else:\n",
    "            absolute_links.append(link)    \n",
    "    return absolute_links"
   ]
  },
  {
   "cell_type": "code",
   "execution_count": 17,
   "id": "8e456837-b465-47cb-9f50-92ce9735e3ec",
   "metadata": {},
   "outputs": [
    {
     "data": {
      "text/plain": [
       "['https://www.berlin.de/rbmskzl/aktuelles/media/vorstellung-der-olympiabewerbung-1564707.php',\n",
       " 'https://www.berlin.de/rbmskzl/aktuelles/pressemitteilungen/2025/pressemitteilung.1562402.php',\n",
       " 'https://www.berlin.de/rbmskzl/aktuelles/media/senat-vor-ort-berliner-senat-zu-besuch-im-bezirk-marzahn-hellersdorf-1561815.php',\n",
       " 'https://www.berlin.de/offenes-rotes-rathaus']"
      ]
     },
     "execution_count": 17,
     "metadata": {},
     "output_type": "execute_result"
    }
   ],
   "source": [
    "topdiv_absolute_links = make_links_absolute(topdiv_links)\n",
    "topdiv_absolute_links"
   ]
  },
  {
   "cell_type": "markdown",
   "id": "cd340922-a662-4388-8062-0f598b335bbb",
   "metadata": {},
   "source": [
    "## 3. Zusammenfügen der Daten \n",
    "Wir haben nun unterschiedliche drei Listen mit zusammenhängende Daten aus dem HTML-Code extrahiert:\n",
    "* Titel\n",
    "* Teaser-Text\n",
    "* URLs zu den vollständigen Artikeln\n",
    "\n",
    "Diese wollen in einem nächsten Schritt zusammenfügen. Dafür prüfen wir zuerst die Vollständigkeit der Daten, das heißt, ob alle Listen die gleiche Länge haben. Da wir die Daten immer in derselben Reihenfolge abgeschritten sind, können wir die Reihenfeilge der Listen nutzen, um sie zusammenzufügen. \\\n",
    "Wir speichern zusätzlich ein weiteres Metadatum und zwar das Datum der Extraktion. \\\n",
    "Die Daten bilden wir in einer Tabelle ab, da sich diese Datenstruktur gut für relationale Daten eigenet. "
   ]
  },
  {
   "cell_type": "code",
   "execution_count": 21,
   "id": "df720ad9",
   "metadata": {},
   "outputs": [
    {
     "data": {
      "text/html": [
       "<div>\n",
       "<style scoped>\n",
       "    .dataframe tbody tr th:only-of-type {\n",
       "        vertical-align: middle;\n",
       "    }\n",
       "\n",
       "    .dataframe tbody tr th {\n",
       "        vertical-align: top;\n",
       "    }\n",
       "\n",
       "    .dataframe thead th {\n",
       "        text-align: right;\n",
       "    }\n",
       "</style>\n",
       "<table border=\"1\" class=\"dataframe\">\n",
       "  <thead>\n",
       "    <tr style=\"text-align: right;\">\n",
       "      <th></th>\n",
       "      <th>Titel</th>\n",
       "      <th>Text</th>\n",
       "      <th>URL</th>\n",
       "      <th>Datum</th>\n",
       "    </tr>\n",
       "  </thead>\n",
       "  <tbody>\n",
       "    <tr>\n",
       "      <th>0</th>\n",
       "      <td>Olympia-Bewerbung</td>\n",
       "      <td>Berlin präsentierte das Bewerbungskonzept BERL...</td>\n",
       "      <td>https://www.berlin.de/rbmskzl/aktuelles/media/...</td>\n",
       "      <td>07.06.2025</td>\n",
       "    </tr>\n",
       "    <tr>\n",
       "      <th>1</th>\n",
       "      <td>Ernennung von Sarah Wedl-Wilson zur Kultursena...</td>\n",
       "      <td>Der Regierende Bürgermeister hat die bisherige...</td>\n",
       "      <td>https://www.berlin.de/rbmskzl/aktuelles/presse...</td>\n",
       "      <td>07.06.2025</td>\n",
       "    </tr>\n",
       "    <tr>\n",
       "      <th>2</th>\n",
       "      <td>Senat vor Ort in Marzahn-Hellersdorf</td>\n",
       "      <td>Nach gemeinsamer Sitzung tourte der Regierende...</td>\n",
       "      <td>https://www.berlin.de/rbmskzl/aktuelles/media/...</td>\n",
       "      <td>07.06.2025</td>\n",
       "    </tr>\n",
       "    <tr>\n",
       "      <th>3</th>\n",
       "      <td>Tag der offenen Tür im Roten Rathaus</td>\n",
       "      <td>Unter dem Motto „Demokratie erleben“ öffnet da...</td>\n",
       "      <td>https://www.berlin.de/offenes-rotes-rathaus</td>\n",
       "      <td>07.06.2025</td>\n",
       "    </tr>\n",
       "  </tbody>\n",
       "</table>\n",
       "</div>"
      ],
      "text/plain": [
       "                                               Titel  \\\n",
       "0                                  Olympia-Bewerbung   \n",
       "1  Ernennung von Sarah Wedl-Wilson zur Kultursena...   \n",
       "2               Senat vor Ort in Marzahn-Hellersdorf   \n",
       "3               Tag der offenen Tür im Roten Rathaus   \n",
       "\n",
       "                                                Text  \\\n",
       "0  Berlin präsentierte das Bewerbungskonzept BERL...   \n",
       "1  Der Regierende Bürgermeister hat die bisherige...   \n",
       "2  Nach gemeinsamer Sitzung tourte der Regierende...   \n",
       "3  Unter dem Motto „Demokratie erleben“ öffnet da...   \n",
       "\n",
       "                                                 URL       Datum  \n",
       "0  https://www.berlin.de/rbmskzl/aktuelles/media/...  07.06.2025  \n",
       "1  https://www.berlin.de/rbmskzl/aktuelles/presse...  07.06.2025  \n",
       "2  https://www.berlin.de/rbmskzl/aktuelles/media/...  07.06.2025  \n",
       "3        https://www.berlin.de/offenes-rotes-rathaus  07.06.2025  "
      ]
     },
     "execution_count": 21,
     "metadata": {},
     "output_type": "execute_result"
    }
   ],
   "source": [
    "# check if lists have the same length\n",
    "if len(topdiv_h2titles) == len(topdiv_texts) == len(topdiv_absolute_links):\n",
    "    # create \n",
    "    top_section_data = {\"Titel\": topdiv_h2titles,\n",
    "                      \"Text\":topdiv_texts, \n",
    "                      \"URL\":topdiv_absolute_links,\n",
    "                       \"Datum\": datetime.today().strftime('%d.%m.%Y') }\n",
    "else:\n",
    "    print(\"Die Listen haben nicht dieselbe Länge:\")\n",
    "    print(f\"Titel: {len(topdiv_h2titles)}; Teaser: {len(topdiv_texts)}; URLS: {len(topdiv_absolute_links)}\")\n",
    "    top_section_data = None\n",
    "\n",
    "top_section_data_df = pd.DataFrame(top_section_data)\n",
    "top_section_data_df"
   ]
  },
  {
   "cell_type": "markdown",
   "id": "18aa7ed8-d195-41c0-8761-55b13c16cd14",
   "metadata": {},
   "source": [
    "Aufbauend auf dieser Tabelle könnten wir nun automatisch die Volltexte der Artikel extrahieren, indem wir die gespeicherten URLs automatisch abfragen und den Text extrahieren. Dafür müssen wir auf Methoden des Web-Scraping (siehe [nächstes Kapitel](scraping-intro_intro)) zurückgreifen."
   ]
  },
  {
   "cell_type": "markdown",
   "id": "3e46e380-0ce0-4672-8380-833f22a61aae",
   "metadata": {},
   "source": [
    "## 4. Ergebnisse speichern \n",
    "Schlussendlich speichern wir die Ergebnisse. Da wir keine Volltexte extrahiert haben und somit nur Metadaten extrahiert haben, speichern wir diese gesammelt in einer Tabelle. "
   ]
  },
  {
   "cell_type": "markdown",
   "id": "257df066-6af0-41a6-a161-1560677d84f7",
   "metadata": {},
   "source": [
    "### 4.1 Ergebnis-Ordner und Dateipfad festlegen"
   ]
  },
  {
   "cell_type": "markdown",
   "id": "6be8f1c9-9981-48c2-8a20-d33e25abc17b",
   "metadata": {},
   "source": [
    "Ordner zum Schreiben der Textdateien festlegen:"
   ]
  },
  {
   "cell_type": "code",
   "execution_count": 24,
   "id": "4d252c40-f02a-40e5-b660-281fd0549463",
   "metadata": {},
   "outputs": [],
   "source": [
    "output_dir = Path(r\"../data/txt/senatskanzlei\")"
   ]
  },
  {
   "cell_type": "code",
   "execution_count": 23,
   "id": "81518b4e-37f1-476c-b589-a3815028ecf6",
   "metadata": {},
   "outputs": [],
   "source": [
    "if not output_dir.exists():\n",
    "    output_dir.mkdir()"
   ]
  },
  {
   "cell_type": "markdown",
   "id": "fd9c3190-0381-43c8-9807-c5b648e54c17",
   "metadata": {},
   "source": [
    "Dateinamen erstellen:"
   ]
  },
  {
   "cell_type": "code",
   "execution_count": 26,
   "id": "36e3ea53-ceb7-4d1d-8856-aa2e08b6d001",
   "metadata": {},
   "outputs": [],
   "source": [
    "date = datetime.today().strftime('%Y-%m-%d')\n",
    "fn = f\"{date}_Senatskanzlei_Aktuelles.csv\"\n",
    "fp = output_dir / fn"
   ]
  },
  {
   "cell_type": "markdown",
   "id": "6eab43f8-9359-4a70-b56e-70e297a39b07",
   "metadata": {},
   "source": [
    "### 4.2 Speichern der Daten"
   ]
  },
  {
   "cell_type": "code",
   "execution_count": 29,
   "id": "79401994-ce59-4f50-b4b6-74f413d84067",
   "metadata": {},
   "outputs": [],
   "source": [
    "top_section_data_df.to_csv(fp, index=False)"
   ]
  }
 ],
 "metadata": {
  "kernelspec": {
   "display_name": "Python 3 (ipykernel)",
   "language": "python",
   "name": "python3"
  },
  "language_info": {
   "codemirror_mode": {
    "name": "ipython",
    "version": 3
   },
   "file_extension": ".py",
   "mimetype": "text/x-python",
   "name": "python",
   "nbconvert_exporter": "python",
   "pygments_lexer": "ipython3",
   "version": "3.12.8"
  }
 },
 "nbformat": 4,
 "nbformat_minor": 5
}
