{
 "cells": [
  {
   "cell_type": "markdown",
   "id": "7b94d2ff",
   "metadata": {},
   "source": [
    "# 🚀 Abruf einer Webseite und Extraktion von Text aus HTML"
   ]
  },
  {
   "cell_type": "markdown",
   "id": "3dc3842c",
   "metadata": {},
   "source": [
    "<div class=\"alert alert-block alert-info\"> <b> 🔔 Feinlernziel(e) dieses Kapitels</b></br>\n",
    "Sie erkennen, in welche html-Elementen Text gespeichert ist und skizzieren, welche Informationen bei der reinen Textextraktion verloren gehen. \n",
    "Sie können bestimmen, welche Informationen in Metadatenfeldern gespeichert werden.\n",
    "</div>"
   ]
  },
  {
   "cell_type": "markdown",
   "id": "68ef46b6",
   "metadata": {},
   "source": [
    "## Hinweise zur Ausführung des Notebooks\n",
    "Dieses Notebook kann auf unterschiedlichen Levels erarbeitet werden (siehe Abschnitt [\"Technische Voraussetzungen\"](../markdown/introduction_requirements)): \n",
    "1. Book-Only Mode\n",
    "2. Cloud Mode: Dafür auf 🚀 klicken und z.B. in Colab ausführen.\n",
    "3. Local Mode: Dafür auf Herunterladen ↓ klicken und \".ipynb\" wählen. \n",
    "\n",
    "## Übersicht\n",
    "\n",
    "Im Folgenden wird die Webseite der  Senatskanzlei Berlin per HTTP-Aufruf aufgerufen. Aus der HTML-Response wird Plain-text extrahiert.\n",
    "\n",
    "Dafür werden folgendene Schritte durchgeführt:\n",
    "1. Zugriff auf eine Webseite über HTTP-Aufruf mithilfe der„requests“-Bibliothek\n",
    "2. Abruf des HTML-Codes der Webseite aus der HTTP-Antwort.\n",
    "3. Extrahierung des gesamten sichtbaren Textes von der Webseite aus dem HTML-Code."
   ]
  },
  {
   "cell_type": "markdown",
   "id": "86edc36a",
   "metadata": {},
   "source": [
    "<details>\n",
    "  <summary><b>Informationen zum Ausführen des Notebooks – Zum Ausklappen klicken ⬇️</b></summary>\n",
    "  \n",
    "<b>Voraussetzungen zur Ausführung des Jupyter Notebooks:</b>\n",
    "<ul>\n",
    "<li> Installieren der Bibliotheken </li>\n",
    "</ul>\n",
    "Zum Testen: Ausführen der Zelle \"load libraries\".</br>\n",
    "Alle Zellen, die mit 🚀 gekennzeichnet sind, werden nur bei der Ausführung des Noteboos in Colab / JupyterHub bzw. lokal ausgeführt. \n",
    "</details>"
   ]
  },
  {
   "cell_type": "code",
   "execution_count": null,
   "id": "b2b6c48e",
   "metadata": {},
   "outputs": [],
   "source": [
    "#  🚀 Install libraries \n",
    "! pip install requests beautifulsoup4 "
   ]
  },
  {
   "cell_type": "code",
   "execution_count": null,
   "id": "3fd5927a",
   "metadata": {},
   "outputs": [],
   "source": [
    "import requests\n",
    "from bs4 import BeautifulSoup, Tag, Comment"
   ]
  },
  {
   "cell_type": "markdown",
   "id": "12bdb0fb",
   "metadata": {},
   "source": [
    "## Abruf einer Website"
   ]
  },
  {
   "cell_type": "code",
   "execution_count": null,
   "id": "359d2ad7",
   "metadata": {},
   "outputs": [],
   "source": [
    "# Set url to the URL of the senatskanzlei Berlin\n",
    "url = \"https://www.berlin.de/rbmskzl/\""
   ]
  },
  {
   "cell_type": "markdown",
   "id": "3610d2e0",
   "metadata": {},
   "source": [
    "Nun verwenden wir die Methode `get` aus der Bibliothek `requests`, um den HTTP-Aufruf durchzuführen (!Link zum Markdown-Kapitel *Website-Exploration I: Einführung in die Methode des Scraping, Scraping einer Website* oben, wo wir die HTTP-Aufrufe erwähnen) und auf die Webseite über die URL zuzugreifen:"
   ]
  },
  {
   "cell_type": "code",
   "execution_count": null,
   "id": "ec0c0c7a",
   "metadata": {},
   "outputs": [],
   "source": [
    "# Perform get request, save HTML in the variable response\n",
    "response = requests.get(url)\n",
    "\n",
    "# Check if the get request was successful\n",
    "if response.status_code == 200:\n",
    "    print(\"Die Abfrage des HTML-Codes war erfolgreich\")\n",
    "else:\n",
    "    print(f\"Die Abfrage war nicht erfolgreich! Der Fehlercode ist: {response.status_code}\")"
   ]
  },
  {
   "cell_type": "markdown",
   "id": "7cfc887c",
   "metadata": {},
   "source": [
    "Jetzt können wir auf den gesamten HTML-Inhalt mit der Methode `.text` zugreifen."
   ]
  },
  {
   "cell_type": "code",
   "execution_count": null,
   "id": "d1dd5d8d",
   "metadata": {},
   "outputs": [],
   "source": [
    "# Get the HTML text from the reponse\n",
    "html_text = response.text\n",
    "\n",
    "# display the first 500 characters of the HTML\n",
    "html_text[:500]"
   ]
  },
  {
   "cell_type": "markdown",
   "id": "b8ace3b2",
   "metadata": {},
   "source": [
    "## Extraktion von Text aus HTML"
   ]
  },
  {
   "cell_type": "markdown",
   "id": "4accdf7c",
   "metadata": {},
   "source": [
    "Um HTML zu analysieren, werden wir die Bibliothek **Beautiful Soup** verwenden."
   ]
  },
  {
   "cell_type": "code",
   "execution_count": null,
   "id": "90426b94",
   "metadata": {},
   "outputs": [],
   "source": [
    "soup = BeautifulSoup(html_text)"
   ]
  },
  {
   "cell_type": "markdown",
   "id": "45b2e1aa",
   "metadata": {},
   "source": [
    "Im Moment werden wir es nur verwenden, um Tags zu durchlaufen und ihren Text zu erhalten. Wir werden bestimmte Tags ignorieren, die Text enthalten, der von Browsern nicht angezeigt wird (z. B. JavaScript-Code im `<script>`-Tag, Metadaten im `<meta>`-Tag und so weiter)."
   ]
  },
  {
   "cell_type": "code",
   "execution_count": null,
   "id": "1fb77352",
   "metadata": {},
   "outputs": [],
   "source": [
    "# Only get text that is visible on the website \n",
    "# Inlcudes ads, pointers to more info and so on \n",
    "\n",
    "def tag_visible(element):\n",
    "    if element.parent.name in ['style', 'script', 'head', 'title', 'meta', '[document]']:\n",
    "        return False\n",
    "    if isinstance(element, Comment):\n",
    "        return False\n",
    "    return True\n",
    "\n",
    "def text_from_html(soup):\n",
    "    texts = soup.findAll(string=True)\n",
    "    visible_texts = filter(tag_visible, texts)  \n",
    "    return [t.strip() for t in visible_texts if len(t) > 1]"
   ]
  },
  {
   "cell_type": "code",
   "execution_count": null,
   "id": "412bf22a",
   "metadata": {},
   "outputs": [],
   "source": [
    "text = text_from_html(soup)"
   ]
  },
  {
   "cell_type": "code",
   "execution_count": null,
   "id": "ec3d2ebb",
   "metadata": {},
   "outputs": [],
   "source": [
    "print(text)"
   ]
  }
 ],
 "metadata": {
  "kernelspec": {
   "display_name": "Python 3 (ipykernel)",
   "language": "python",
   "name": "python3"
  },
  "language_info": {
   "codemirror_mode": {
    "name": "ipython",
    "version": 3
   },
   "file_extension": ".py",
   "mimetype": "text/x-python",
   "name": "python",
   "nbconvert_exporter": "python",
   "pygments_lexer": "ipython3",
   "version": "3.9.21"
  }
 },
 "nbformat": 4,
 "nbformat_minor": 5
}
