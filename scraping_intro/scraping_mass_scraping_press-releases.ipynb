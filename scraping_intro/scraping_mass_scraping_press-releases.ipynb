{
 "cells": [
  {
   "cell_type": "markdown",
   "id": "e169cfbb-5409-4bc0-82db-413343b58e32",
   "metadata": {},
   "source": [
    "# 🚀 Mass scraping of press releases"
   ]
  },
  {
   "cell_type": "code",
   "execution_count": 10,
   "id": "f0fb10a4-c384-4b7e-a956-2fa13cb1a34c",
   "metadata": {},
   "outputs": [
    {
     "name": "stdout",
     "output_type": "stream",
     "text": [
      "zsh:1: command not found: pip\n"
     ]
    }
   ],
   "source": [
    "# 🚀 Install libraries \n",
    "!pip install requests "
   ]
  },
  {
   "cell_type": "code",
   "execution_count": null,
   "id": "4b5c5d7a-f727-4385-8c30-49347b73d692",
   "metadata": {},
   "outputs": [],
   "source": [
    "import requests"
   ]
  },
  {
   "cell_type": "markdown",
   "id": "2a371973-de38-4439-8878-86b31954abea",
   "metadata": {},
   "source": [
    "## Analyze the press releases start page"
   ]
  },
  {
   "cell_type": "markdown",
   "id": "6d47307a-0975-4cc1-a35b-d68c2ec77482",
   "metadata": {},
   "source": [
    "To study the way Berlin authorities communicate with the public, we can focus on their press-releases. Let us examine the page with press releases: https://www.berlin.de/presse/pressemitteilungen\n",
    "Iа we look at the menu, we'll see that it contains the press-releases of the Berlin authorities since 1993... The links to the pages with press-releases are quite predictable, they just go from page 1 to more than 7000 (the entire number is growing as new releases are being added):  \n",
    "\n",
    "* https://www.berlin.de/presse/pressemitteilungen/index/index/page/2\n",
    "* https://www.berlin.de/presse/pressemitteilungen/index/index/page/3\n",
    "* https://www.berlin.de/presse/pressemitteilungen/index/index/page/4\n",
    "* https://www.berlin.de/presse/pressemitteilungen/index/index/page/5\n",
    "* ...\n",
    "* ...\n",
    "* https://www.berlin.de/presse/pressemitteilungen/index/index/page/7193\n",
    "* https://www.berlin.de/presse/pressemitteilungen/index/index/page/7194\n",
    "* https://www.berlin.de/presse/pressemitteilungen/index/index/page/7195\n"
   ]
  },
  {
   "cell_type": "markdown",
   "id": "39f14d7a-450f-4dac-95d6-457d668d2b4b",
   "metadata": {},
   "source": [
    "This means that to generate this links all we need is to iterate over numbers. "
   ]
  },
  {
   "cell_type": "markdown",
   "id": "2b204f89-e3cb-4dfb-9cc3-82406fd74961",
   "metadata": {},
   "source": [
    "## Generate set of links to all pages containing links to press releases\n",
    "Let's make a rough estimate at first and simply create 10000 entries.\n",
    "\n",
    "First we will create an empty list:"
   ]
  },
  {
   "cell_type": "code",
   "execution_count": 3,
   "id": "aeeafb61-65f1-4e14-9048-66bb6cb9b724",
   "metadata": {},
   "outputs": [],
   "source": [
    "links_to_releases = []"
   ]
  },
  {
   "cell_type": "markdown",
   "id": "23b5c58f-528f-4658-9a5a-68328c96be5b",
   "metadata": {},
   "source": [
    "Then we will iterate over numbers from 1 to 10000, form a link and store it in the list"
   ]
  },
  {
   "cell_type": "code",
   "execution_count": 4,
   "id": "f2440128-21c6-4a7e-8130-c8cb09a91d78",
   "metadata": {},
   "outputs": [],
   "source": [
    "for i in range(1, 10000):\n",
    "    url = f'https://www.berlin.de/presse/pressemitteilungen/index/index/page/{i}'\n",
    "    links_to_releases.append(url)"
   ]
  },
  {
   "cell_type": "markdown",
   "id": "0498e217-d32c-4f17-a222-78f2a5419ba5",
   "metadata": {},
   "source": [
    "Let us look at the first five entries:"
   ]
  },
  {
   "cell_type": "code",
   "execution_count": 5,
   "id": "68a133f3-a149-471c-8b10-be7059242e86",
   "metadata": {
    "scrolled": true
   },
   "outputs": [
    {
     "name": "stdout",
     "output_type": "stream",
     "text": [
      "['https://www.berlin.de/presse/pressemitteilungen/index/index/page/1', 'https://www.berlin.de/presse/pressemitteilungen/index/index/page/2', 'https://www.berlin.de/presse/pressemitteilungen/index/index/page/3', 'https://www.berlin.de/presse/pressemitteilungen/index/index/page/4', 'https://www.berlin.de/presse/pressemitteilungen/index/index/page/5']\n"
     ]
    }
   ],
   "source": [
    "print(links_to_releases[:5])"
   ]
  },
  {
   "cell_type": "markdown",
   "id": "c07a975a-288d-4754-bb71-bb79455ef735",
   "metadata": {},
   "source": [
    "Let us try to access one of them with an HTTP request and see if it returns status code 200:"
   ]
  },
  {
   "cell_type": "code",
   "execution_count": 6,
   "id": "86e36fe7-f611-49c5-aea8-554c18bd4ab3",
   "metadata": {},
   "outputs": [
    {
     "data": {
      "text/plain": [
       "'https://www.berlin.de/presse/pressemitteilungen/index/index/page/4'"
      ]
     },
     "execution_count": 6,
     "metadata": {},
     "output_type": "execute_result"
    }
   ],
   "source": [
    "links_to_releases[3]"
   ]
  },
  {
   "cell_type": "code",
   "execution_count": null,
   "id": "f77fcb14-4985-4738-ac6a-6f0d7393e561",
   "metadata": {},
   "outputs": [],
   "source": [
    "links_to_releases[3]"
   ]
  },
  {
   "cell_type": "markdown",
   "id": "ed1fd111-78b7-4850-8715-663720404b12",
   "metadata": {},
   "source": [
    "## Obtain links to the actual press releases"
   ]
  },
  {
   "cell_type": "code",
   "execution_count": null,
   "id": "86165120-b9ae-49a7-87d9-60caba81d9ef",
   "metadata": {},
   "outputs": [],
   "source": []
  }
 ],
 "metadata": {
  "kernelspec": {
   "display_name": "Python 3 (ipykernel)",
   "language": "python",
   "name": "python3"
  },
  "language_info": {
   "codemirror_mode": {
    "name": "ipython",
    "version": 3
   },
   "file_extension": ".py",
   "mimetype": "text/x-python",
   "name": "python",
   "nbconvert_exporter": "python",
   "pygments_lexer": "ipython3",
   "version": "3.12.10"
  }
 },
 "nbformat": 4,
 "nbformat_minor": 5
}
