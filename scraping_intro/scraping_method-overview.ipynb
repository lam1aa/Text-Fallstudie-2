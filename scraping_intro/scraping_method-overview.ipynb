{
 "cells": [
  {
   "cell_type": "markdown",
   "id": "7b94d2ff",
   "metadata": {},
   "source": [
    "# 🚀 Web-Scraping als Methode der Korpuserstellung"
   ]
  },
  {
   "cell_type": "markdown",
   "id": "3dc3842c",
   "metadata": {},
   "source": [
    "<div class=\"alert alert-block alert-info\"> <b> 🔔 Feinlernziel(e) dieses Kapitels</b></br>\n",
    "Sie können verschiedene Methoden der Website-Abfrage aufzählen und Unterschiede identifizieren. </br>\n",
    "Sie können Vor- und Nachteile der Methoden erklären und ermitteln, in welchen Szenarien welche Methode geeignet ist.\n",
    "</div>"
   ]
  },
  {
   "cell_type": "markdown",
   "id": "68ef46b6",
   "metadata": {},
   "source": [
    "## Hinweise zur Ausführung des Notebooks\n",
    "Dieses Notebook kann auf unterschiedlichen Levels erarbeitet werden (siehe Abschnitt [\"Technische Voraussetzungen\"](../introduction/introduction_requirements)): \n",
    "1. Book-Only Mode\n",
    "2. Cloud Mode: Dafür auf 🚀 klicken und z.B. in Colab ausführen.\n",
    "3. Local Mode: Dafür auf Herunterladen ↓ klicken und \".ipynb\" wählen. "
   ]
  },
  {
   "cell_type": "markdown",
   "id": "86edc36a",
   "metadata": {
    "editable": true,
    "slideshow": {
     "slide_type": ""
    },
    "tags": []
   },
   "source": [
    "<details>\n",
    "  <summary><b>Informationen zum Ausführen des Notebooks – Zum Ausklappen klicken ⬇️</b></summary>\n",
    "  \n",
    "<b>Voraussetzungen zur Ausführung des Jupyter Notebooks:</b>\n",
    "<ul>\n",
    "<li> Installieren der Bibliotheken </li>\n",
    "</ul>\n",
    "Zum Testen: Ausführen der Zelle \"load libraries\".</br>\n",
    "Alle Zellen, die mit 🚀 gekennzeichnet sind, werden nur bei der Ausführung des Noteboos in Colab / JupyterHub bzw. lokal ausgeführt. \n",
    "</details>"
   ]
  },
  {
   "cell_type": "code",
   "execution_count": null,
   "id": "b2b6c48e",
   "metadata": {
    "editable": true,
    "slideshow": {
     "slide_type": ""
    },
    "tags": [
     "skip-execution",
     "hide-output"
    ]
   },
   "outputs": [],
   "source": [
    "#  🚀 Install libraries \n",
    "! pip install requests beautifulsoup4 scrapy selenium webdriver_manager time"
   ]
  },
  {
   "cell_type": "markdown",
   "id": "338177f1-96f7-415a-a7ef-b142cd10a395",
   "metadata": {
    "editable": true,
    "slideshow": {
     "slide_type": ""
    },
    "tags": []
   },
   "source": [
    "## Einführung\n",
    "Im [vorherigen Kapitel](scraping-intro_http-intro) haben wir bereits ein Beispiel zur automatisierten Abfrage einer Website kennengelernt. Um mehr als eine Website abzufragen, gibt es verschiedene Methoden. Welche Methode sich am besten zur Extraktion eignet, hängt davon ab, wie die abzufragenden Websites aufgebaut sind und ob sie rein statische oder auch dynamische Inhalte beinhalten. "
   ]
  },
  {
   "cell_type": "markdown",
   "id": "d6e1fe4d-d1ef-47b2-af97-6fe73164dca4",
   "metadata": {
    "editable": true,
    "slideshow": {
     "slide_type": ""
    },
    "tags": []
   },
   "source": [
    "### Statische vs. dynamische Websites\n",
    "\n",
    "Websites können grundsätzlich in zwei Kategorien eingeteilt werden: statische und dynamische Websites. Abhängig davon, welche Inhalte extrahiert werden sollen und wie die Website beschaffen ist, muss die Scraping-Methode angepasst werden.\n",
    "\n",
    "- **Statische Websites**: Diese Websites sind fertige Dokumente, die auf einem Server bereitliegen. Wenn Sie eine solche Website anfordern, wird Ihnen exakt dieser vorbereitete Inhalt geschickt. Das ist vergleichbar mit dem Anfordern eines bestimmten Buches aus einer Bibliothek – der Inhalt liegt fertig vor und ändert sich nicht. Diese Art von Websites kann leicht mit einfachen Scraping-Methoden extrahiert werden, da alle Informationen direkt im HTML-Code enthalten sind.\n",
    "\n",
    "- **Dynamische Websites**: Diese Websites werden erst im Moment der Anfrage zusammengestellt. Sie enthalten oft JavaScript-Code, der nach dem Laden der Seite ausgeführt wird und weitere Inhalte nachladen oder verändern kann. Das ist vergleichbar mit einem Koch, der das Gericht erst auf Bestellung zubereitet. Für die automatisierte Abfrage dieser Art von Websites benötigt man fortgeschrittenere Scraping-Methoden wie Selenium, die einen Browser simulieren können."
   ]
  },
  {
   "cell_type": "markdown",
   "id": "a833fd91-986e-4a3e-b797-bc3a0daa6919",
   "metadata": {
    "editable": true,
    "slideshow": {
     "slide_type": ""
    },
    "tags": []
   },
   "source": [
    "## Drei Ebenen des Web Scrapings\n",
    "\n",
    "### 1. Einfache Anfragen mit requests\n",
    "\n",
    "Die grundlegendste Form des Web Scrapings ist das Abrufen einzelner Webseiten, z.B. mit Hilfe des Python-Pakets `requests`. Diese Methode eignet sich für statische Webseiten, deren Inhalt direkt im HTML-Code enthalten ist."
   ]
  },
  {
   "cell_type": "code",
   "execution_count": null,
   "id": "19f96d79-5adc-4fa4-bc35-f0c4198ba612",
   "metadata": {
    "editable": true,
    "slideshow": {
     "slide_type": ""
    },
    "tags": []
   },
   "outputs": [],
   "source": [
    "# import library to perform HTTP requests\n",
    "import requests\n",
    "\n",
    "# Set URL \n",
    "url = \"https://www.berlin.de/rbmskzl/\"\n",
    "\n",
    "# perform get request\n",
    "response = requests.get(url)\n",
    "\n",
    "# check if request was successful (code: 200)\n",
    "if response.status_code == 200:\n",
    "    print(f\"Status-Code: {response.status_code}\")\n",
    "\n",
    "    # display the first lines of the response body (the content of the website)\n",
    "    print(\"\\nBeginn des HTML-Dokuments:\")\n",
    "    print(response.text[:100])\n",
    "else:\n",
    "    print(f\"Fehler beim Abrufen der Seite: {response.status_code}\")"
   ]
  },
  {
   "cell_type": "markdown",
   "id": "cdbd4cfc-3581-4dd3-a491-f6847fbe8767",
   "metadata": {
    "editable": true,
    "slideshow": {
     "slide_type": ""
    },
    "tags": []
   },
   "source": [
    "**Vorteile:**\n",
    "- Einfach zu implementieren\n",
    "- Geringer Ressourcenverbrauch\n",
    "- Ausreichend für einfache Scraping-Aufgaben\n",
    "\n",
    "**Nachteile:**\n",
    "- Nur einzelne Seiten werden abgerufen\n",
    "- Keine automatische Navigation zu anderen Seiten\n",
    "- Nicht geeignet für dynamisch generierte Inhalte (JavaScript)"
   ]
  },
  {
   "cell_type": "markdown",
   "id": "7e491ca9-fbc2-455a-aef1-e96f7dc343b6",
   "metadata": {
    "editable": true,
    "slideshow": {
     "slide_type": ""
    },
    "tags": []
   },
   "source": [
    "### 2. Navigation mit Scrapy\n",
    "\n",
    "Für komplexere Scraping-Aufgaben, bei denen mehrere Seiten durchlaufen werden müssen, eignet sich die Bibliothek `scrapy`. Sie ermöglicht das systematische Folgen von Links und das Extrahieren von Daten aus mehreren Seiten."
   ]
  },
  {
   "cell_type": "code",
   "execution_count": null,
   "id": "9078194d-65d5-4d69-ba40-f68bca63e27a",
   "metadata": {
    "editable": true,
    "slideshow": {
     "slide_type": ""
    },
    "tags": [
     "skip-execution",
     "hide-output"
    ]
   },
   "outputs": [],
   "source": [
    "import scrapy\n",
    "from scrapy.crawler import CrawlerProcess\n",
    "import json\n",
    "\n",
    "class SenatSpider(scrapy.Spider):\n",
    "    name = 'senat'\n",
    "    start_urls = ['https://www.berlin.de/rbmskzl/']\n",
    "\n",
    "    def parse(self, response):\n",
    "        # Extrahiere Daten von der aktuellen Seite\n",
    "        for book in response.css('div'):\n",
    "            yield {\n",
    "                'title': book.css('h2.title::text').get(),\n",
    "            }\n",
    "\n",
    "        # Folge den Links zu den nächsten Seiten\n",
    "        next_page = response.css('a.next-page::attr(href)').get()\n",
    "        if next_page is not None:\n",
    "            yield response.follow(next_page, self.parse)\n",
    "\n",
    "# Run the spider in Jupyter\n",
    "process = CrawlerProcess({\n",
    "    'USER_AGENT': 'mozilla/4.0 (compatible; msie 7.0; windows nt 5.1; gtb5)',\n",
    "    'FEEDS': {\n",
    "        'output.json': {'format': 'json'},\n",
    "    }\n",
    "})\n",
    "\n",
    "process.crawl(SenatSpider)\n",
    "process.start()  # This will block until crawling is finished"
   ]
  },
  {
   "cell_type": "markdown",
   "id": "cb6bbe18-43f6-4e44-9556-eda3032ac8d2",
   "metadata": {
    "editable": true,
    "slideshow": {
     "slide_type": ""
    },
    "tags": []
   },
   "source": [
    "**Vorteile:**\n",
    "- Effizientes Crawlen mehrerer Seiten\n",
    "- Integrierte Funktionen für Datenverwaltung und -export\n",
    "- Robuste Error-Handling-Mechanismen\n",
    "\n",
    "**Nachteile:**\n",
    "- Steilere Lernkurve als bei `requests`\n",
    "- Nicht geeignet für dynamische Webseiten mit JavaScript\n",
    "- Komplexere Konfiguration"
   ]
  },
  {
   "cell_type": "markdown",
   "id": "2afc668b-ccb9-4079-a356-27af47458568",
   "metadata": {},
   "source": [
    "### 3. Simulation von Benutzerinteraktionen mit Selenium\n",
    "\n",
    "Für Websites, die dynamische Inhalte mittels JavaScript laden oder Benutzerinteraktionen erfordern, ist `Selenium` die geeignete Wahl. Diese Bibliothek steuert einen echten Webbrowser und kann somit mit allen Elementen interagieren."
   ]
  },
  {
   "cell_type": "code",
   "execution_count": null,
   "id": "48d6cd6e-f65f-452c-8d6b-82872e26717b",
   "metadata": {
    "editable": true,
    "slideshow": {
     "slide_type": ""
    },
    "tags": [
     "skip-execution",
     "hide-output"
    ]
   },
   "outputs": [],
   "source": [
    "from selenium import webdriver\n",
    "from selenium.webdriver.common.by import By\n",
    "from selenium.webdriver.chrome.service import Service\n",
    "from webdriver_manager.chrome import ChromeDriverManager\n",
    "import time\n",
    "\n",
    "# Browser-Instanz erstellen\n",
    "driver = webdriver.Chrome(service=Service(ChromeDriverManager().install()))\n",
    "\n",
    "# Website aufrufen\n",
    "driver.get('https://example.com/dynamic-page')\n",
    "\n",
    "# Warten, bis JavaScript-Inhalte geladen sind\n",
    "time.sleep(2)\n",
    "\n",
    "# Mit Elementen interagieren\n",
    "search_button = driver.find_element(By.ID, 'search-button')\n",
    "search_button.click()\n",
    "\n",
    "# Auf dynamisch geladene Inhalte zugreifen\n",
    "results = driver.find_elements(By.CLASS_NAME, 'result-item')\n",
    "for result in results:\n",
    "    print(result.text)\n",
    "\n",
    "# Browser schließen\n",
    "driver.quit()"
   ]
  },
  {
   "cell_type": "markdown",
   "id": "1276daad-231e-40b4-a6fd-11ff18d50118",
   "metadata": {
    "editable": true,
    "slideshow": {
     "slide_type": ""
    },
    "tags": []
   },
   "source": [
    "**Vorteile:**\n",
    "- Zugriff auf dynamisch geladene Inhalte (JavaScript)\n",
    "- Simulation von Benutzerinteraktionen (Klicks, Formulare ausfüllen)\n",
    "- \"Sieht\" die Website wie ein menschlicher Benutzer\n",
    "\n",
    "**Nachteile:**\n",
    "- Deutlich ressourcenintensiver\n",
    "- Langsamer als `requests` oder `Scrapy`\n",
    "- Anfälliger für Änderungen im Website-Layout"
   ]
  },
  {
   "cell_type": "markdown",
   "id": "33fe211c-36e7-4f1a-9f7c-7217f0ef1a94",
   "metadata": {
    "editable": true,
    "slideshow": {
     "slide_type": ""
    },
    "tags": []
   },
   "source": [
    "## Geeignete Szenarien für die verschiedenen Methoden\n",
    "\n",
    "| Szenario | Geeignete Methode | Begründung |\n",
    "|----------|-------------------|------------|\n",
    "| Extraktion von Texten aus einer bekannten Webseite | `requests` | Einfach, effizient für einzelne statische Seiten |\n",
    "| Durchsuchen und Extraktion von Daten aus einem Blog oder Wiki | `Scrapy` | Effizientes Folgen von Links, Extrahieren ähnlicher Daten von mehreren Seiten |\n",
    "| Daten aus einem Social-Media-Portal | `Selenium` | Notwendig für Login, Scrollen, Klicken und dynamisch nachgeladene Inhalte |\n",
    "| Korpuserstellung aus statischen Webseiten | `Scrapy` | Gute Balance aus Geschwindigkeit und Funktionalität für größere Sammlungen |\n",
    "| Korpuserstellung aus dynamischen Webseiten | `Selenium` | Notwendig für Scrollen, Klicken und dynamisch nachgeladene Inhalte |\n",
    "| Interaktion mit Suchformularen | `Selenium` | Ermöglicht das Ausfüllen und Absenden von Formularen |"
   ]
  },
  {
   "cell_type": "markdown",
   "id": "79e04fac-517e-4696-8bf8-3fad0ea00873",
   "metadata": {
    "editable": true,
    "slideshow": {
     "slide_type": ""
    },
    "tags": []
   },
   "source": [
    "## Ethische und rechtliche Aspekte\n",
    "\n",
    "Beim Web Scraping sind stets ethische und rechtliche Aspekte zu beachten:\n",
    "\n",
    "- Beachtung der `robots.txt`-Datei einer Website, die Informationen darüber gibt, welche Websites gescraped werden dürfen.\n",
    "- Angemessene Wartezeiten zwischen Anfragen einhalten\n",
    "- Keine persönlichen Daten ohne Einwilligung sammeln\n",
    "- Urheberrecht und Nutzungsbedingungen der Websites beachten\n",
    "- Datenschutzbestimmungen einhalten"
   ]
  }
 ],
 "metadata": {
  "kernelspec": {
   "display_name": "Python 3 (ipykernel)",
   "language": "python",
   "name": "python3"
  },
  "language_info": {
   "codemirror_mode": {
    "name": "ipython",
    "version": 3
   },
   "file_extension": ".py",
   "mimetype": "text/x-python",
   "name": "python",
   "nbconvert_exporter": "python",
   "pygments_lexer": "ipython3",
   "version": "3.12.8"
  }
 },
 "nbformat": 4,
 "nbformat_minor": 5
}
